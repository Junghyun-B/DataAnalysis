{
  "nbformat": 4,
  "nbformat_minor": 0,
  "metadata": {
    "colab": {
      "name": "210806과제_Numpy_연습문제.ipynb",
      "provenance": [],
      "collapsed_sections": []
    },
    "kernelspec": {
      "name": "python3",
      "display_name": "Python 3"
    },
    "language_info": {
      "name": "python"
    }
  },
  "cells": [
    {
      "cell_type": "code",
      "metadata": {
        "id": "UlSryOxaKj6S"
      },
      "source": [
        "import numpy as np"
      ],
      "execution_count": 1,
      "outputs": []
    },
    {
      "cell_type": "markdown",
      "metadata": {
        "id": "_nmpvEYoKSuS"
      },
      "source": [
        "## 1. 넘파이를 사용하여 다음과 같은 행렬을 만드시오\n",
        "        10 20 30 40\n",
        "        50 60 70 80"
      ]
    },
    {
      "cell_type": "code",
      "metadata": {
        "colab": {
          "base_uri": "https://localhost:8080/"
        },
        "id": "snQHztQvlNVw",
        "outputId": "55c8a5bc-7ced-47e4-d723-2c7b0096e6a0"
      },
      "source": [
        "np.arange(1, 9).reshape(2, 4) * 10"
      ],
      "execution_count": 2,
      "outputs": [
        {
          "output_type": "execute_result",
          "data": {
            "text/plain": [
              "array([[10, 20, 30, 40],\n",
              "       [50, 60, 70, 80]])"
            ]
          },
          "metadata": {
            "tags": []
          },
          "execution_count": 2
        }
      ]
    },
    {
      "cell_type": "markdown",
      "metadata": {
        "id": "_KL-O63OKypC"
      },
      "source": [
        "## 2. 다음과 같은 행렬이 있다.\n",
        "\n",
        "\n",
        "    \n",
        "        m = np.array([[0, 1, 2, 3, 4],\n",
        "                    [5, 6, 7, 8, 9],\n",
        "                    [10, 11, 12, 13 14]])"
      ]
    },
    {
      "cell_type": "code",
      "metadata": {
        "colab": {
          "base_uri": "https://localhost:8080/"
        },
        "id": "2yPz2PfpKvMe",
        "outputId": "036837e5-d16f-4718-b03b-fe5509d34d9a"
      },
      "source": [
        "m = np.arange(15).reshape(3, 5)\n",
        "m"
      ],
      "execution_count": 3,
      "outputs": [
        {
          "output_type": "execute_result",
          "data": {
            "text/plain": [
              "array([[ 0,  1,  2,  3,  4],\n",
              "       [ 5,  6,  7,  8,  9],\n",
              "       [10, 11, 12, 13, 14]])"
            ]
          },
          "metadata": {
            "tags": []
          },
          "execution_count": 3
        }
      ]
    },
    {
      "cell_type": "code",
      "metadata": {
        "colab": {
          "base_uri": "https://localhost:8080/"
        },
        "id": "njuWECtXMS7o",
        "outputId": "63d78459-2ceb-41cd-8665-9a4911e88865"
      },
      "source": [
        "# 1) 이 행렬에서 값 7을 인덱싱한다.\n",
        "m[1, 2]"
      ],
      "execution_count": 4,
      "outputs": [
        {
          "output_type": "execute_result",
          "data": {
            "text/plain": [
              "7"
            ]
          },
          "metadata": {
            "tags": []
          },
          "execution_count": 4
        }
      ]
    },
    {
      "cell_type": "code",
      "metadata": {
        "colab": {
          "base_uri": "https://localhost:8080/"
        },
        "id": "X6fCsv5FNUZa",
        "outputId": "e6d62d0c-6be6-44e0-dca8-211300da40ac"
      },
      "source": [
        "# 2) 이 행렬에서 값 14를 인덱싱한다.\n",
        "m[2, 4], m[-1, -1]"
      ],
      "execution_count": 5,
      "outputs": [
        {
          "output_type": "execute_result",
          "data": {
            "text/plain": [
              "(14, 14)"
            ]
          },
          "metadata": {
            "tags": []
          },
          "execution_count": 5
        }
      ]
    },
    {
      "cell_type": "code",
      "metadata": {
        "colab": {
          "base_uri": "https://localhost:8080/"
        },
        "id": "M3Ve0BqLNaqy",
        "outputId": "4ee0adee-7973-4f83-fa98-9f698066b39d"
      },
      "source": [
        "# 3) 이 행렬에서 배열 [6,7]을 슬라이싱한다.\n",
        "m[1, 1:3]"
      ],
      "execution_count": 6,
      "outputs": [
        {
          "output_type": "execute_result",
          "data": {
            "text/plain": [
              "array([6, 7])"
            ]
          },
          "metadata": {
            "tags": []
          },
          "execution_count": 6
        }
      ]
    },
    {
      "cell_type": "code",
      "metadata": {
        "colab": {
          "base_uri": "https://localhost:8080/"
        },
        "id": "aGnjg8YmNzcv",
        "outputId": "0ca96900-b9b0-477e-ef0a-0dbe67e71bd6"
      },
      "source": [
        "# 4) 이 행렬에서 배열 [7, 12]을 슬라이싱한다.\n",
        "m[1:, 2]"
      ],
      "execution_count": 7,
      "outputs": [
        {
          "output_type": "execute_result",
          "data": {
            "text/plain": [
              "array([ 7, 12])"
            ]
          },
          "metadata": {
            "tags": []
          },
          "execution_count": 7
        }
      ]
    },
    {
      "cell_type": "code",
      "metadata": {
        "colab": {
          "base_uri": "https://localhost:8080/"
        },
        "id": "BZXwYcbcN-H_",
        "outputId": "a0c99fc2-2410-47c0-c28c-3fb450ecdcf4"
      },
      "source": [
        "# 5) 이 행렬에서 배열 [[3, 4], [8, 9]]을 슬라이싱한다.\n",
        "m[:2, 3:]"
      ],
      "execution_count": 8,
      "outputs": [
        {
          "output_type": "execute_result",
          "data": {
            "text/plain": [
              "array([[3, 4],\n",
              "       [8, 9]])"
            ]
          },
          "metadata": {
            "tags": []
          },
          "execution_count": 8
        }
      ]
    },
    {
      "cell_type": "markdown",
      "metadata": {
        "id": "MTzGZc5LOwDm"
      },
      "source": [
        "## 3. 2번의 행렬 m을 1차원 벡터 f로 변환한 후 다음의 문제를 푸시오."
      ]
    },
    {
      "cell_type": "code",
      "metadata": {
        "id": "11n78a10maDf"
      },
      "source": [
        "f = m.flatten()"
      ],
      "execution_count": 9,
      "outputs": []
    },
    {
      "cell_type": "code",
      "metadata": {
        "colab": {
          "base_uri": "https://localhost:8080/"
        },
        "id": "LavpiuanPMis",
        "outputId": "4dbbffc4-c148-4d06-bc12-f9e8e7d28c73"
      },
      "source": [
        "# 1) 이 배열에서 3의 배수를 찾아라.\n",
        "f[f % 3 == 0]"
      ],
      "execution_count": 10,
      "outputs": [
        {
          "output_type": "execute_result",
          "data": {
            "text/plain": [
              "array([ 0,  3,  6,  9, 12])"
            ]
          },
          "metadata": {
            "tags": []
          },
          "execution_count": 10
        }
      ]
    },
    {
      "cell_type": "code",
      "metadata": {
        "colab": {
          "base_uri": "https://localhost:8080/"
        },
        "id": "F4QicAwwPtYp",
        "outputId": "8b813ef7-22be-4556-d25e-8c512ce80446"
      },
      "source": [
        "# 2) 이 배열에서 4로 나누면 1이 남는 수를 찾아라.\n",
        "f[f % 4 == 1]"
      ],
      "execution_count": 11,
      "outputs": [
        {
          "output_type": "execute_result",
          "data": {
            "text/plain": [
              "array([ 1,  5,  9, 13])"
            ]
          },
          "metadata": {
            "tags": []
          },
          "execution_count": 11
        }
      ]
    },
    {
      "cell_type": "code",
      "metadata": {
        "colab": {
          "base_uri": "https://localhost:8080/"
        },
        "id": "l9l-ObELP6GF",
        "outputId": "0af2aa88-57d9-4120-d182-f5fabacbaa20"
      },
      "source": [
        "# 3) 이 배열에서 3으로 나누면 나누어지고 4로 나누면 1이 남는 수를 찾아라.\n",
        "f[np.logical_and(f % 3 ==0, f % 4 ==1)]"
      ],
      "execution_count": 12,
      "outputs": [
        {
          "output_type": "execute_result",
          "data": {
            "text/plain": [
              "array([9])"
            ]
          },
          "metadata": {
            "tags": []
          },
          "execution_count": 12
        }
      ]
    },
    {
      "cell_type": "markdown",
      "metadata": {
        "id": "Qt3FG-HqQgDp"
      },
      "source": [
        "## 4. 값을 직접 입력하지 말고 아래의 행렬을 만드시오.\n",
        "\n",
        "        2, 1, 0, 0, 0\n",
        "        3, 2, 1, 0, 0\n",
        "        0, 3, 2, 1, 0\n",
        "        0, 0, 3, 2, 1\n",
        "        0, 0, 0, 3, 2"
      ]
    },
    {
      "cell_type": "code",
      "metadata": {
        "colab": {
          "base_uri": "https://localhost:8080/"
        },
        "id": "pr1lHaHPm2Kp",
        "outputId": "e2299c93-cb08-4af5-fb9d-b356f233ff52"
      },
      "source": [
        "np.eye(5, 5, k = -1) * 3 + np.eye(5, 5) * 2 + np.eye(5, 5, k = 1)"
      ],
      "execution_count": 13,
      "outputs": [
        {
          "output_type": "execute_result",
          "data": {
            "text/plain": [
              "array([[2., 1., 0., 0., 0.],\n",
              "       [3., 2., 1., 0., 0.],\n",
              "       [0., 3., 2., 1., 0.],\n",
              "       [0., 0., 3., 2., 1.],\n",
              "       [0., 0., 0., 3., 2.]])"
            ]
          },
          "metadata": {
            "tags": []
          },
          "execution_count": 13
        }
      ]
    },
    {
      "cell_type": "code",
      "metadata": {
        "colab": {
          "base_uri": "https://localhost:8080/"
        },
        "id": "F1geofIGQCz6",
        "outputId": "16e20b92-1b3b-4baf-f33f-3f23aa64c244"
      },
      "source": [
        "a = np.eye(5, 5, dtype = np.int64)\n",
        "a = a * 2\n",
        "b = np.eye(5, 5, k = 1, dtype = np.int64)\n",
        "c = np.eye(5, 5, k = -1, dtype = np.int64)\n",
        "c = c * 3\n",
        "a + b + c"
      ],
      "execution_count": 14,
      "outputs": [
        {
          "output_type": "execute_result",
          "data": {
            "text/plain": [
              "array([[2, 1, 0, 0, 0],\n",
              "       [3, 2, 1, 0, 0],\n",
              "       [0, 3, 2, 1, 0],\n",
              "       [0, 0, 3, 2, 1],\n",
              "       [0, 0, 0, 3, 2]])"
            ]
          },
          "metadata": {
            "tags": []
          },
          "execution_count": 14
        }
      ]
    },
    {
      "cell_type": "markdown",
      "metadata": {
        "id": "2Eo53puCR1-Q"
      },
      "source": [
        "## 5. 0에서 10까지 랜덤 실수값으로 이루어진 5 x 6 형태의 데이터 행렬을 만들고, 이 데이터에 대해 다음과 같은 값을 구하시오."
      ]
    },
    {
      "cell_type": "code",
      "metadata": {
        "colab": {
          "base_uri": "https://localhost:8080/"
        },
        "id": "oOvCkh5inLcj",
        "outputId": "bc1f0307-8097-47e8-ba7d-5890e68c2fbd"
      },
      "source": [
        "np.random.seed(2021)\n",
        "m = np.random.uniform(0, 10, 30).reshape(5, 6).round(4)\n",
        "m"
      ],
      "execution_count": 15,
      "outputs": [
        {
          "output_type": "execute_result",
          "data": {
            "text/plain": [
              "array([[6.0598, 7.3337, 1.3895, 3.1267, 9.9724, 1.2816],\n",
              "       [1.7899, 7.5293, 6.6216, 7.8431, 0.9689, 0.5857],\n",
              "       [9.624 , 6.1656, 0.8663, 5.6127, 6.1652, 9.6384],\n",
              "       [5.743 , 3.7116, 4.5215, 2.0185, 5.6931, 1.951 ],\n",
              "       [5.837 , 4.7631, 5.1781, 8.231 , 7.3223, 0.6906]])"
            ]
          },
          "metadata": {
            "tags": []
          },
          "execution_count": 15
        }
      ]
    },
    {
      "cell_type": "code",
      "metadata": {
        "colab": {
          "base_uri": "https://localhost:8080/"
        },
        "id": "NFHBMDptngGl",
        "outputId": "3f67db2d-218b-4094-cf26-1fe8d29b57b0"
      },
      "source": [
        "# 5 - 1\n",
        "np.max(m)"
      ],
      "execution_count": 16,
      "outputs": [
        {
          "output_type": "execute_result",
          "data": {
            "text/plain": [
              "9.9724"
            ]
          },
          "metadata": {
            "tags": []
          },
          "execution_count": 16
        }
      ]
    },
    {
      "cell_type": "code",
      "metadata": {
        "colab": {
          "base_uri": "https://localhost:8080/"
        },
        "id": "PPZuqNMfnrJo",
        "outputId": "c3f257af-e1e1-4425-d321-a1ce0983fa2a"
      },
      "source": [
        "# 5 - 2\n",
        "np.sum(m, axis = 1)"
      ],
      "execution_count": 17,
      "outputs": [
        {
          "output_type": "execute_result",
          "data": {
            "text/plain": [
              "array([29.1637, 25.3385, 38.0722, 23.6387, 32.0221])"
            ]
          },
          "metadata": {
            "tags": []
          },
          "execution_count": 17
        }
      ]
    },
    {
      "cell_type": "code",
      "metadata": {
        "colab": {
          "base_uri": "https://localhost:8080/"
        },
        "id": "ixM-5YhKnxip",
        "outputId": "ac9e81cf-0aa6-40b5-f938-ed6772e0821d"
      },
      "source": [
        "# 5 - 3\n",
        "np.max(m, axis = 1)"
      ],
      "execution_count": 18,
      "outputs": [
        {
          "output_type": "execute_result",
          "data": {
            "text/plain": [
              "array([9.9724, 7.8431, 9.6384, 5.743 , 8.231 ])"
            ]
          },
          "metadata": {
            "tags": []
          },
          "execution_count": 18
        }
      ]
    },
    {
      "cell_type": "code",
      "metadata": {
        "colab": {
          "base_uri": "https://localhost:8080/"
        },
        "id": "rbCtBuN6n6em",
        "outputId": "af7d3058-d481-4fdb-ecc6-35f78d2d3298"
      },
      "source": [
        "# 5 - 4\n",
        "np.mean(m, axis = 0)"
      ],
      "execution_count": 19,
      "outputs": [
        {
          "output_type": "execute_result",
          "data": {
            "text/plain": [
              "array([5.81074, 5.90066, 3.7154 , 5.3664 , 6.02438, 2.82946])"
            ]
          },
          "metadata": {
            "tags": []
          },
          "execution_count": 19
        }
      ]
    },
    {
      "cell_type": "code",
      "metadata": {
        "colab": {
          "base_uri": "https://localhost:8080/"
        },
        "id": "yotkiKZ2oAVb",
        "outputId": "5dcf0c98-f561-4778-9760-81cb9ba75913"
      },
      "source": [
        "# 5 - 5\n",
        "np.min(m, axis = 0)"
      ],
      "execution_count": 20,
      "outputs": [
        {
          "output_type": "execute_result",
          "data": {
            "text/plain": [
              "array([1.7899, 3.7116, 0.8663, 2.0185, 0.9689, 0.5857])"
            ]
          },
          "metadata": {
            "tags": []
          },
          "execution_count": 20
        }
      ]
    },
    {
      "cell_type": "code",
      "metadata": {
        "colab": {
          "base_uri": "https://localhost:8080/"
        },
        "id": "h8QUHyMTSDdv",
        "outputId": "28a53d53-c188-44a7-9f96-0348a4fe8e08"
      },
      "source": [
        "m = np.random.uniform(0, 10, 30).reshape(5, 6)\n",
        "m"
      ],
      "execution_count": null,
      "outputs": [
        {
          "output_type": "execute_result",
          "data": {
            "text/plain": [
              "array([[3.57680185, 7.53564802, 5.1589753 , 5.42474965, 8.0163574 ,\n",
              "        7.43703485],\n",
              "       [1.06534801, 3.8197143 , 0.71863816, 0.39412839, 6.4394694 ,\n",
              "        7.18546485],\n",
              "       [2.45590949, 1.29063637, 1.32260449, 0.2124251 , 0.53072487,\n",
              "        4.13673763],\n",
              "       [3.75117368, 9.76341706, 5.37353995, 6.03704677, 0.86509967,\n",
              "        1.25881195],\n",
              "       [7.84823821, 0.57516273, 5.90785676, 9.34754267, 9.08920028,\n",
              "        4.2895815 ]])"
            ]
          },
          "metadata": {
            "tags": []
          },
          "execution_count": 44
        }
      ]
    },
    {
      "cell_type": "code",
      "metadata": {
        "colab": {
          "base_uri": "https://localhost:8080/"
        },
        "id": "7BhbQn1IRWDB",
        "outputId": "4a62fe38-1737-4489-f524-da71ed7c9a23"
      },
      "source": [
        "# 1) 전체의 최댓값\n",
        "n = np.argmax(m)\n",
        "row, col = n // 5 , n % 6\n",
        "m[row, col] "
      ],
      "execution_count": null,
      "outputs": [
        {
          "output_type": "execute_result",
          "data": {
            "text/plain": [
              "9.763417059035845"
            ]
          },
          "metadata": {
            "tags": []
          },
          "execution_count": 48
        }
      ]
    },
    {
      "cell_type": "code",
      "metadata": {
        "colab": {
          "base_uri": "https://localhost:8080/"
        },
        "id": "jj4yVlnnShEY",
        "outputId": "9fb22594-13e1-4da2-d9d7-bf7f3e1f1bdc"
      },
      "source": [
        "# 2) 각 행의 합\n",
        "m.sum(axis = 1)"
      ],
      "execution_count": null,
      "outputs": [
        {
          "output_type": "execute_result",
          "data": {
            "text/plain": [
              "array([37.14956707, 19.6227631 ,  9.94903795, 27.04908907, 37.05758214])"
            ]
          },
          "metadata": {
            "tags": []
          },
          "execution_count": 49
        }
      ]
    },
    {
      "cell_type": "code",
      "metadata": {
        "colab": {
          "base_uri": "https://localhost:8080/"
        },
        "id": "dMcCipeYWWL7",
        "outputId": "5abedbc3-c1d1-4bb5-99c6-37ec14185747"
      },
      "source": [
        "# 3) 각 행의 최댓값\n",
        "n = np.max(m, axis = 1)\n",
        "n"
      ],
      "execution_count": null,
      "outputs": [
        {
          "output_type": "execute_result",
          "data": {
            "text/plain": [
              "array([8.0163574 , 7.18546485, 4.13673763, 9.76341706, 9.34754267])"
            ]
          },
          "metadata": {
            "tags": []
          },
          "execution_count": 69
        }
      ]
    },
    {
      "cell_type": "code",
      "metadata": {
        "colab": {
          "base_uri": "https://localhost:8080/"
        },
        "id": "7ljrzAG6WgA0",
        "outputId": "20199f37-8321-4d52-b69e-ff8986785cfd"
      },
      "source": [
        "# 4) 각 열의 평균\n",
        "m.mean(axis = 0)"
      ],
      "execution_count": null,
      "outputs": [
        {
          "output_type": "execute_result",
          "data": {
            "text/plain": [
              "array([3.73949425, 4.59691569, 3.69632293, 4.28317851, 4.98817032,\n",
              "       4.86152615])"
            ]
          },
          "metadata": {
            "tags": []
          },
          "execution_count": 51
        }
      ]
    },
    {
      "cell_type": "code",
      "metadata": {
        "colab": {
          "base_uri": "https://localhost:8080/"
        },
        "id": "L2wQzcnhWiGs",
        "outputId": "88aa222c-c461-40a4-c9da-3fe9e64006fa"
      },
      "source": [
        "# 5) 각 열의 최솟값\n",
        "n = np.min(m, axis = 0)\n",
        "n"
      ],
      "execution_count": null,
      "outputs": [
        {
          "output_type": "execute_result",
          "data": {
            "text/plain": [
              "array([1.06534801, 0.57516273, 0.71863816, 0.2124251 , 0.53072487,\n",
              "       1.25881195])"
            ]
          },
          "metadata": {
            "tags": []
          },
          "execution_count": 70
        }
      ]
    },
    {
      "cell_type": "markdown",
      "metadata": {
        "id": "GlJXuzRPaj2A"
      },
      "source": [
        "## 6. 다음 배열은 첫번째 행(row)에 학번, 두번째 행에 영어 성적, 세번째 행에 수학 성적을 적은 배열이다. 영어 성적을 기준으로 각 열(column)을 재정렬하시오.\n",
        "        array([[1, 2, 3, 4],\n",
        "            [46, 99, 100, 71],\n",
        "            [81, 59, 90, 100]])"
      ]
    },
    {
      "cell_type": "code",
      "metadata": {
        "colab": {
          "base_uri": "https://localhost:8080/"
        },
        "id": "-pw5SFYVZRor",
        "outputId": "1f2d1be4-cd61-431a-b95e-210fb0eee83c"
      },
      "source": [
        "score = np.array([[1, 2, 3, 4], [46, 99, 100, 71], [81, 59, 90, 100]])\n",
        "score"
      ],
      "execution_count": 21,
      "outputs": [
        {
          "output_type": "execute_result",
          "data": {
            "text/plain": [
              "array([[  1,   2,   3,   4],\n",
              "       [ 46,  99, 100,  71],\n",
              "       [ 81,  59,  90, 100]])"
            ]
          },
          "metadata": {
            "tags": []
          },
          "execution_count": 21
        }
      ]
    },
    {
      "cell_type": "code",
      "metadata": {
        "colab": {
          "base_uri": "https://localhost:8080/"
        },
        "id": "i7ofzq7Fod9R",
        "outputId": "7a685db4-48c3-468a-c8b7-f417d36cc6af"
      },
      "source": [
        "np.sort(score)"
      ],
      "execution_count": 22,
      "outputs": [
        {
          "output_type": "execute_result",
          "data": {
            "text/plain": [
              "array([[  1,   2,   3,   4],\n",
              "       [ 46,  71,  99, 100],\n",
              "       [ 59,  81,  90, 100]])"
            ]
          },
          "metadata": {
            "tags": []
          },
          "execution_count": 22
        }
      ]
    },
    {
      "cell_type": "code",
      "metadata": {
        "colab": {
          "base_uri": "https://localhost:8080/"
        },
        "id": "ehNIpZkxouVL",
        "outputId": "c8d3a715-d66a-4521-a44f-8ca48b078fb7"
      },
      "source": [
        "s = np.argsort(score[1])\n",
        "s"
      ],
      "execution_count": 23,
      "outputs": [
        {
          "output_type": "execute_result",
          "data": {
            "text/plain": [
              "array([0, 3, 1, 2])"
            ]
          },
          "metadata": {
            "tags": []
          },
          "execution_count": 23
        }
      ]
    },
    {
      "cell_type": "code",
      "metadata": {
        "colab": {
          "base_uri": "https://localhost:8080/"
        },
        "id": "g_1gWBQHo3lk",
        "outputId": "71cf4d72-d6e5-43cf-b213-01c57df7c638"
      },
      "source": [
        "# 내림차순\n",
        "s[::-1]"
      ],
      "execution_count": 24,
      "outputs": [
        {
          "output_type": "execute_result",
          "data": {
            "text/plain": [
              "array([2, 1, 3, 0])"
            ]
          },
          "metadata": {
            "tags": []
          },
          "execution_count": 24
        }
      ]
    },
    {
      "cell_type": "code",
      "metadata": {
        "colab": {
          "base_uri": "https://localhost:8080/"
        },
        "id": "zfiSlYMKo9kE",
        "outputId": "95f36dda-2460-44f0-e686-c45ad5967862"
      },
      "source": [
        "# 행 전체를(:), 열 기준으로(s[::-1]) 재정렬\n",
        "score[:, s[::-1]]"
      ],
      "execution_count": 25,
      "outputs": [
        {
          "output_type": "execute_result",
          "data": {
            "text/plain": [
              "array([[  3,   2,   4,   1],\n",
              "       [100,  99,  71,  46],\n",
              "       [ 90,  59, 100,  81]])"
            ]
          },
          "metadata": {
            "tags": []
          },
          "execution_count": 25
        }
      ]
    },
    {
      "cell_type": "code",
      "metadata": {
        "colab": {
          "base_uri": "https://localhost:8080/"
        },
        "id": "ujwWxUE1pKlz",
        "outputId": "65057545-aeaf-408a-c6de-d7b3f1818b9c"
      },
      "source": [
        "# 한 번에 작성\n",
        "score[:, np.argsort(score[1])[::-1]]"
      ],
      "execution_count": 26,
      "outputs": [
        {
          "output_type": "execute_result",
          "data": {
            "text/plain": [
              "array([[  3,   2,   4,   1],\n",
              "       [100,  99,  71,  46],\n",
              "       [ 90,  59, 100,  81]])"
            ]
          },
          "metadata": {
            "tags": []
          },
          "execution_count": 26
        }
      ]
    },
    {
      "cell_type": "markdown",
      "metadata": {
        "id": "RRD2MIgdbYmC"
      },
      "source": [
        "## 7. 주사위를 100번 던지는 가상 실험을 파이썬으로 작성하고, 던져서 나오는 숫자의 평균을 구하시오."
      ]
    },
    {
      "cell_type": "code",
      "metadata": {
        "colab": {
          "base_uri": "https://localhost:8080/"
        },
        "id": "NcMXDnIMbfOB",
        "outputId": "24715ca0-001e-47d3-aa87-99c0a5b41f10"
      },
      "source": [
        "np.random.seed(2021)\n",
        "dice = np.random.randint(1, 7, 100)\n",
        "dice"
      ],
      "execution_count": 27,
      "outputs": [
        {
          "output_type": "execute_result",
          "data": {
            "text/plain": [
              "array([5, 6, 2, 1, 6, 5, 4, 6, 6, 6, 1, 5, 2, 6, 2, 2, 5, 6, 3, 3, 1, 4,\n",
              "       2, 1, 3, 4, 5, 6, 1, 6, 2, 3, 6, 2, 6, 2, 3, 3, 5, 6, 3, 4, 2, 3,\n",
              "       3, 1, 3, 5, 6, 4, 4, 2, 2, 2, 3, 6, 4, 4, 5, 4, 2, 5, 2, 2, 5, 4,\n",
              "       6, 4, 4, 4, 3, 2, 4, 3, 6, 3, 3, 1, 5, 4, 2, 4, 2, 5, 3, 4, 2, 3,\n",
              "       6, 3, 6, 3, 4, 5, 6, 2, 2, 6, 1, 6])"
            ]
          },
          "metadata": {
            "tags": []
          },
          "execution_count": 27
        }
      ]
    },
    {
      "cell_type": "code",
      "metadata": {
        "colab": {
          "base_uri": "https://localhost:8080/"
        },
        "id": "ydqVQkp3plnB",
        "outputId": "0417e79d-2562-4409-e2ed-80a0f1bc915d"
      },
      "source": [
        "np.mean(dice)"
      ],
      "execution_count": 28,
      "outputs": [
        {
          "output_type": "execute_result",
          "data": {
            "text/plain": [
              "3.7"
            ]
          },
          "metadata": {
            "tags": []
          },
          "execution_count": 28
        }
      ]
    },
    {
      "cell_type": "code",
      "metadata": {
        "colab": {
          "base_uri": "https://localhost:8080/"
        },
        "id": "bc4FbiEUp5bm",
        "outputId": "a76943aa-ec61-493c-cc7a-6adb7fbdf5bb"
      },
      "source": [
        "np.unique(dice)"
      ],
      "execution_count": 29,
      "outputs": [
        {
          "output_type": "execute_result",
          "data": {
            "text/plain": [
              "array([1, 2, 3, 4, 5, 6])"
            ]
          },
          "metadata": {
            "tags": []
          },
          "execution_count": 29
        }
      ]
    },
    {
      "cell_type": "markdown",
      "metadata": {
        "id": "L1F2iP2fcoGl"
      },
      "source": [
        "## 8. 가격이 10,000원인 주식이 있다. 이 주식의 일간 수익률(%)은 기댓값이 0%이고, 표준편차가 1%인 표준 정규 분포를 따른다고 하자. 250일 동안의 주가를 무작위로 생성하시오."
      ]
    },
    {
      "cell_type": "code",
      "metadata": {
        "colab": {
          "base_uri": "https://localhost:8080/"
        },
        "id": "ZPJbqvfsiW4S",
        "outputId": "f8db45db-5b4b-487f-8090-60858e45d402"
      },
      "source": [
        "# 일단 10개만 test\n",
        "np.random.seed(2021)\n",
        "price = 10000\n",
        "rate = np.random.normal(0, 0.01, 10)\n",
        "for i in range(10):\n",
        "    price = price + np.round(price * rate[i])\n",
        "    print(price, end = ', ')"
      ],
      "execution_count": 30,
      "outputs": [
        {
          "output_type": "stream",
          "text": [
            "10149.0, 10218.0, 10175.0, 10093.0, 10149.0, 10077.0, 10191.0, 10257.0, 10268.0, 10311.0, "
          ],
          "name": "stdout"
        }
      ]
    },
    {
      "cell_type": "code",
      "metadata": {
        "id": "1P9a9IXVjHsk"
      },
      "source": [
        "np.random.seed(2021)\n",
        "price_list = []\n",
        "rate = np.random.normal(0, 0.01, 250)\n",
        "price = 10000\n",
        "for i in range(250):\n",
        "    price += np.round(price * rate[i])\n",
        "    price_list.append(int(price))"
      ],
      "execution_count": 31,
      "outputs": []
    },
    {
      "cell_type": "code",
      "metadata": {
        "colab": {
          "base_uri": "https://localhost:8080/"
        },
        "id": "8U4uDPz3kQWQ",
        "outputId": "255b6e1f-a9ba-4c8c-9ca8-9d29fb2744b8"
      },
      "source": [
        "price_list[:10]"
      ],
      "execution_count": 32,
      "outputs": [
        {
          "output_type": "execute_result",
          "data": {
            "text/plain": [
              "[10149, 10218, 10175, 10093, 10149, 10077, 10191, 10257, 10268, 10311]"
            ]
          },
          "metadata": {
            "tags": []
          },
          "execution_count": 32
        }
      ]
    }
  ]
}