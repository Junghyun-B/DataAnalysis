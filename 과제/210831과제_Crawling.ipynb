{
 "cells": [
  {
   "cell_type": "markdown",
   "source": [
    "# Crawling - 네이버 뷰 '영화'"
   ],
   "metadata": {}
  },
  {
   "cell_type": "code",
   "execution_count": 1,
   "source": [
    "from selenium import webdriver\r\n",
    "from bs4 import BeautifulSoup\r\n",
    "import time\r\n",
    "import pandas as pd\r\n",
    "from urllib.parse import quote"
   ],
   "outputs": [],
   "metadata": {}
  },
  {
   "cell_type": "code",
   "execution_count": 2,
   "source": [
    "chromedriver = '/Users/정현/Desktop/chromedriver.exe'\r\n",
    "driver = webdriver.Chrome(chromedriver)"
   ],
   "outputs": [],
   "metadata": {}
  },
  {
   "cell_type": "code",
   "execution_count": 3,
   "source": [
    "base_url = 'https://search.naver.com/search.naver?where=view&sm=tab_jum&query='\r\n",
    "url = base_url + quote('영화')"
   ],
   "outputs": [],
   "metadata": {}
  },
  {
   "cell_type": "code",
   "execution_count": 6,
   "source": [
    "driver.get(url)"
   ],
   "outputs": [],
   "metadata": {}
  },
  {
   "cell_type": "code",
   "execution_count": 8,
   "source": [
    "# blog 페이지를 아래로 내려서 많은 데이터 확보\r\n",
    "from selenium.webdriver.common.keys import Keys\r\n",
    "\r\n",
    "body = driver.find_element_by_tag_name('body')\r\n",
    "for i in range(20):\r\n",
    "    body.send_keys(Keys.PAGE_DOWN)\r\n",
    "    time.sleep(2)"
   ],
   "outputs": [],
   "metadata": {}
  },
  {
   "cell_type": "code",
   "execution_count": 9,
   "source": [
    "html = driver.page_source\r\n",
    "soup = BeautifulSoup(html, 'html.parser')"
   ],
   "outputs": [],
   "metadata": {}
  },
  {
   "cell_type": "code",
   "execution_count": 10,
   "source": [
    "lis = soup.select('li.bx._svp_item')\r\n",
    "len(lis)"
   ],
   "outputs": [
    {
     "output_type": "execute_result",
     "data": {
      "text/plain": [
       "45"
      ]
     },
     "metadata": {},
     "execution_count": 10
    }
   ],
   "metadata": {}
  },
  {
   "cell_type": "code",
   "execution_count": 11,
   "source": [
    "li = lis[0]\r\n",
    "title = li.select_one('a.api_txt_lines.total_tit._cross_trigger').get_text()\r\n",
    "content = li.select_one('div.api_txt_lines.dsc_txt').get_text()\r\n",
    "date = li.select_one('.sub_time.sub_txt').get_text()\r\n",
    "title, date, content"
   ],
   "outputs": [
    {
     "output_type": "execute_result",
     "data": {
      "text/plain": [
       "('넷플릭스 로맨틱 코미디 영화 추천 10편 소개해요',\n",
       " '2021.08.13.',\n",
       " '넷플릭스 로맨틱 코미디 영화 추천 10편 소개해요 오늘은 금요일. 불금이 될 것 같지는 않고 늘 그렇듯... 오늘은 그중에서도 사람들의 선호도가 높은 로맨틱 코미디 영화 목록이다. 총 열개를 선정해보았고 뽑은건 전부...')"
      ]
     },
     "metadata": {},
     "execution_count": 11
    }
   ],
   "metadata": {}
  },
  {
   "cell_type": "code",
   "execution_count": 12,
   "source": [
    "title_list, content_list, date_list = [], [], []\r\n",
    "for i, li in enumerate(lis):\r\n",
    "    title = li.select_one('a.api_txt_lines.total_tit').get_text()\r\n",
    "    content = li.select_one('div.api_txt_lines.dsc_txt').get_text()\r\n",
    "    date = li.select_one('.sub_time.sub_txt').get_text()\r\n",
    "\r\n",
    "    title_list.append(title)\r\n",
    "    content_list.append(content)\r\n",
    "    date_list.append(date)\r\n",
    "\r\n",
    "    # print(i)"
   ],
   "outputs": [],
   "metadata": {}
  },
  {
   "cell_type": "code",
   "execution_count": 13,
   "source": [
    "df = pd.DataFrame({\r\n",
    "    'title':title_list, 'date':date_list, 'content':content_list\r\n",
    "})\r\n",
    "df.head()"
   ],
   "outputs": [
    {
     "output_type": "execute_result",
     "data": {
      "text/plain": [
       "                                               title         date  \\\n",
       "0                        넷플릭스 로맨틱 코미디 영화 추천 10편 소개해요  2021.08.13.   \n",
       "1     추석엔 한국 영화라는 공식은?_9월 개봉 예정 영화 추천 9 [+1 넷플릭스 신작]           어제   \n",
       "2  넷플릭스 19영화 추천-주말 밤, 몰래봐야 하는 파격적인 미친 사랑을 다룬 청불 영...  2021.08.21.   \n",
       "3                  넷플릭스 오리지널 영화 스위트 걸 리뷰 * 제목이 스포였어!  2021.08.22.   \n",
       "4                이게 뉴스야, 영화야? 극 현실주의라 더 무서운 국내 재난 영화  2021.08.11.   \n",
       "\n",
       "                                             content  \n",
       "0  넷플릭스 로맨틱 코미디 영화 추천 10편 소개해요 오늘은 금요일. 불금이 될 것 같...  \n",
       "1  추석엔 한국 영화라는 공식은?_9월 개봉 예정 영화 9 진짜 9월이 바로 코앞입니다...  \n",
       "2  오늘은 장마 기간 집에서 혼자, 혹은 연인들이 볼만한 넷플릭스 청불 영화 몇 편에 ...  \n",
       "3  이럴 땐 집중력을 요하는 책 읽기보단 멍 때리며 볼 수 있는 영화가 낫지! 역시나 ...  \n",
       "4  재난 영화에서나 일어날 법한 일이 현실이 되고, 그것이 일상이 되어버린 요즘. 또 ...  "
      ],
      "text/html": [
       "<div>\n",
       "<style scoped>\n",
       "    .dataframe tbody tr th:only-of-type {\n",
       "        vertical-align: middle;\n",
       "    }\n",
       "\n",
       "    .dataframe tbody tr th {\n",
       "        vertical-align: top;\n",
       "    }\n",
       "\n",
       "    .dataframe thead th {\n",
       "        text-align: right;\n",
       "    }\n",
       "</style>\n",
       "<table border=\"1\" class=\"dataframe\">\n",
       "  <thead>\n",
       "    <tr style=\"text-align: right;\">\n",
       "      <th></th>\n",
       "      <th>title</th>\n",
       "      <th>date</th>\n",
       "      <th>content</th>\n",
       "    </tr>\n",
       "  </thead>\n",
       "  <tbody>\n",
       "    <tr>\n",
       "      <th>0</th>\n",
       "      <td>넷플릭스 로맨틱 코미디 영화 추천 10편 소개해요</td>\n",
       "      <td>2021.08.13.</td>\n",
       "      <td>넷플릭스 로맨틱 코미디 영화 추천 10편 소개해요 오늘은 금요일. 불금이 될 것 같...</td>\n",
       "    </tr>\n",
       "    <tr>\n",
       "      <th>1</th>\n",
       "      <td>추석엔 한국 영화라는 공식은?_9월 개봉 예정 영화 추천 9 [+1 넷플릭스 신작]</td>\n",
       "      <td>어제</td>\n",
       "      <td>추석엔 한국 영화라는 공식은?_9월 개봉 예정 영화 9 진짜 9월이 바로 코앞입니다...</td>\n",
       "    </tr>\n",
       "    <tr>\n",
       "      <th>2</th>\n",
       "      <td>넷플릭스 19영화 추천-주말 밤, 몰래봐야 하는 파격적인 미친 사랑을 다룬 청불 영...</td>\n",
       "      <td>2021.08.21.</td>\n",
       "      <td>오늘은 장마 기간 집에서 혼자, 혹은 연인들이 볼만한 넷플릭스 청불 영화 몇 편에 ...</td>\n",
       "    </tr>\n",
       "    <tr>\n",
       "      <th>3</th>\n",
       "      <td>넷플릭스 오리지널 영화 스위트 걸 리뷰 * 제목이 스포였어!</td>\n",
       "      <td>2021.08.22.</td>\n",
       "      <td>이럴 땐 집중력을 요하는 책 읽기보단 멍 때리며 볼 수 있는 영화가 낫지! 역시나 ...</td>\n",
       "    </tr>\n",
       "    <tr>\n",
       "      <th>4</th>\n",
       "      <td>이게 뉴스야, 영화야? 극 현실주의라 더 무서운 국내 재난 영화</td>\n",
       "      <td>2021.08.11.</td>\n",
       "      <td>재난 영화에서나 일어날 법한 일이 현실이 되고, 그것이 일상이 되어버린 요즘. 또 ...</td>\n",
       "    </tr>\n",
       "  </tbody>\n",
       "</table>\n",
       "</div>"
      ]
     },
     "metadata": {},
     "execution_count": 13
    }
   ],
   "metadata": {}
  },
  {
   "cell_type": "code",
   "execution_count": 14,
   "source": [
    "df.shape"
   ],
   "outputs": [
    {
     "output_type": "execute_result",
     "data": {
      "text/plain": [
       "(45, 3)"
      ]
     },
     "metadata": {},
     "execution_count": 14
    }
   ],
   "metadata": {}
  },
  {
   "cell_type": "code",
   "execution_count": 15,
   "source": [
    "df.to_csv('data/movie.txt')"
   ],
   "outputs": [],
   "metadata": {}
  },
  {
   "cell_type": "code",
   "execution_count": 16,
   "source": [
    "driver.close()"
   ],
   "outputs": [],
   "metadata": {}
  }
 ],
 "metadata": {
  "orig_nbformat": 4,
  "language_info": {
   "name": "python",
   "version": "3.8.11",
   "mimetype": "text/x-python",
   "codemirror_mode": {
    "name": "ipython",
    "version": 3
   },
   "pygments_lexer": "ipython3",
   "nbconvert_exporter": "python",
   "file_extension": ".py"
  },
  "kernelspec": {
   "name": "python3",
   "display_name": "Python 3.8.11 64-bit ('base': conda)"
  },
  "interpreter": {
   "hash": "43d8860d6d3595aca645bc9e33a6b5bcab00aca1ae91383310f9ee73ef935b6e"
  }
 },
 "nbformat": 4,
 "nbformat_minor": 2
}