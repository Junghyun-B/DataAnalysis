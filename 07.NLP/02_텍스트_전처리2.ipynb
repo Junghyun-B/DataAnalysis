{
  "nbformat": 4,
  "nbformat_minor": 0,
  "metadata": {
    "colab": {
      "name": "02_텍스트전처리2.ipynb",
      "provenance": [],
      "collapsed_sections": []
    },
    "kernelspec": {
      "name": "python3",
      "display_name": "Python 3"
    },
    "language_info": {
      "name": "python"
    }
  },
  "cells": [
    {
      "cell_type": "markdown",
      "metadata": {
        "id": "JcardtFRcZH2"
      },
      "source": [
        "# 텍스트 전처리"
      ]
    },
    {
      "cell_type": "markdown",
      "metadata": {
        "id": "YzF1dnqgccE2"
      },
      "source": [
        "## 정규표현식(Regular Expression)"
      ]
    },
    {
      "cell_type": "code",
      "metadata": {
        "id": "Kx66Bb0weM8s"
      },
      "source": [
        "import re"
      ],
      "execution_count": 1,
      "outputs": []
    },
    {
      "cell_type": "markdown",
      "metadata": {
        "id": "lFNVg_M9e7yJ"
      },
      "source": [
        "### 정규표현식 실습"
      ]
    },
    {
      "cell_type": "markdown",
      "metadata": {
        "id": "Yu2gtcTRfSYn"
      },
      "source": [
        "- . 기호 : 한 개의 임의의 문자"
      ]
    },
    {
      "cell_type": "code",
      "metadata": {
        "id": "hBjm96YFe3IU"
      },
      "source": [
        "re.search('a.c', 'kkk')"
      ],
      "execution_count": 2,
      "outputs": []
    },
    {
      "cell_type": "code",
      "metadata": {
        "colab": {
          "base_uri": "https://localhost:8080/"
        },
        "id": "Toq6kHhde_g4",
        "outputId": "4ea18e1b-4a8a-495a-f669-9d00895599d0"
      },
      "source": [
        "re.search('a.c','abc')"
      ],
      "execution_count": 3,
      "outputs": [
        {
          "output_type": "execute_result",
          "data": {
            "text/plain": [
              "<re.Match object; span=(0, 3), match='abc'>"
            ]
          },
          "metadata": {},
          "execution_count": 3
        }
      ]
    },
    {
      "cell_type": "markdown",
      "metadata": {
        "id": "DfIPDBdZfWoi"
      },
      "source": [
        "- ? 기호 : 문자가 0개 또는 1개"
      ]
    },
    {
      "cell_type": "code",
      "metadata": {
        "id": "WFE1f_wtfQ0L"
      },
      "source": [
        "r = re.compile('ab?c')\n",
        "r.search('abbc')"
      ],
      "execution_count": 4,
      "outputs": []
    },
    {
      "cell_type": "code",
      "metadata": {
        "colab": {
          "base_uri": "https://localhost:8080/"
        },
        "id": "eLCG-W5Tfox9",
        "outputId": "500519c2-a7b1-4122-c980-291c194d2bf4"
      },
      "source": [
        "r.search('abc')"
      ],
      "execution_count": 5,
      "outputs": [
        {
          "output_type": "execute_result",
          "data": {
            "text/plain": [
              "<re.Match object; span=(0, 3), match='abc'>"
            ]
          },
          "metadata": {},
          "execution_count": 5
        }
      ]
    },
    {
      "cell_type": "code",
      "metadata": {
        "colab": {
          "base_uri": "https://localhost:8080/"
        },
        "id": "CKUP6XXFfuYl",
        "outputId": "d71c8956-d65c-46c9-b744-4614b7c1ac70"
      },
      "source": [
        "r.search('ac')"
      ],
      "execution_count": 6,
      "outputs": [
        {
          "output_type": "execute_result",
          "data": {
            "text/plain": [
              "<re.Match object; span=(0, 2), match='ac'>"
            ]
          },
          "metadata": {},
          "execution_count": 6
        }
      ]
    },
    {
      "cell_type": "markdown",
      "metadata": {
        "id": "ZhihKqdhxRS_"
      },
      "source": [
        "- \\* 기호 : 앞의 문자가 0개 이상"
      ]
    },
    {
      "cell_type": "code",
      "metadata": {
        "id": "23qnjgypfv2z"
      },
      "source": [
        "r = re.compile('ab*c')\n",
        "r.search('a')"
      ],
      "execution_count": 7,
      "outputs": []
    },
    {
      "cell_type": "code",
      "metadata": {
        "colab": {
          "base_uri": "https://localhost:8080/"
        },
        "id": "xP-j8vYgxm7o",
        "outputId": "1ca2be84-4b88-4752-adc6-8d53d4ac740e"
      },
      "source": [
        "r.search('ac')"
      ],
      "execution_count": 8,
      "outputs": [
        {
          "output_type": "execute_result",
          "data": {
            "text/plain": [
              "<re.Match object; span=(0, 2), match='ac'>"
            ]
          },
          "metadata": {},
          "execution_count": 8
        }
      ]
    },
    {
      "cell_type": "code",
      "metadata": {
        "colab": {
          "base_uri": "https://localhost:8080/"
        },
        "id": "m41ypn9yxqWe",
        "outputId": "3cd3ec74-1ba6-437f-c0d0-20c1e9ef2dd9"
      },
      "source": [
        "r.search('abbbbbc')"
      ],
      "execution_count": 9,
      "outputs": [
        {
          "output_type": "execute_result",
          "data": {
            "text/plain": [
              "<re.Match object; span=(0, 7), match='abbbbbc'>"
            ]
          },
          "metadata": {},
          "execution_count": 9
        }
      ]
    },
    {
      "cell_type": "markdown",
      "metadata": {
        "id": "iyESk80JxuL2"
      },
      "source": [
        "- \\+ 기호 : 앞의 문자가 1개 이상"
      ]
    },
    {
      "cell_type": "code",
      "metadata": {
        "id": "feiIUoD6xss-"
      },
      "source": [
        "r = re.compile('ab+c')\n",
        "r.search('ac')"
      ],
      "execution_count": 10,
      "outputs": []
    },
    {
      "cell_type": "code",
      "metadata": {
        "colab": {
          "base_uri": "https://localhost:8080/"
        },
        "id": "uskKYGOMyFCb",
        "outputId": "54673e18-6828-4bf8-efdd-d0e592099a35"
      },
      "source": [
        "r.search('abbbbbc')"
      ],
      "execution_count": 11,
      "outputs": [
        {
          "output_type": "execute_result",
          "data": {
            "text/plain": [
              "<re.Match object; span=(0, 7), match='abbbbbc'>"
            ]
          },
          "metadata": {},
          "execution_count": 11
        }
      ]
    },
    {
      "cell_type": "markdown",
      "metadata": {
        "id": "t07BVkrvyI3g"
      },
      "source": [
        "- ^ 기호 : 시작되는 글자 지정"
      ]
    },
    {
      "cell_type": "code",
      "metadata": {
        "id": "tcqevnE5yHRg"
      },
      "source": [
        "re.search('^a', 'bbc')"
      ],
      "execution_count": 12,
      "outputs": []
    },
    {
      "cell_type": "code",
      "metadata": {
        "colab": {
          "base_uri": "https://localhost:8080/"
        },
        "id": "3r4syMiUyPuh",
        "outputId": "36095d56-7cdd-4e11-c85d-b5534e1dcd49"
      },
      "source": [
        "re.search('^a','ab')"
      ],
      "execution_count": 13,
      "outputs": [
        {
          "output_type": "execute_result",
          "data": {
            "text/plain": [
              "<re.Match object; span=(0, 1), match='a'>"
            ]
          },
          "metadata": {},
          "execution_count": 13
        }
      ]
    },
    {
      "cell_type": "markdown",
      "metadata": {
        "id": "jqMIsgMxyVrN"
      },
      "source": [
        "- {숫자} 기호 : 해당 문자를 숫자만큼 반복"
      ]
    },
    {
      "cell_type": "code",
      "metadata": {
        "id": "Y5tPdA-WyR2K"
      },
      "source": [
        "r = re.compile('ab{2}c')\n",
        "r.search('ac')\n",
        "r.search('abc')"
      ],
      "execution_count": 14,
      "outputs": []
    },
    {
      "cell_type": "code",
      "metadata": {
        "colab": {
          "base_uri": "https://localhost:8080/"
        },
        "id": "WEVbi7ONykM3",
        "outputId": "be680bc2-8769-42a2-eea2-84ba7113d3c5"
      },
      "source": [
        "r.search('abbc')"
      ],
      "execution_count": 15,
      "outputs": [
        {
          "output_type": "execute_result",
          "data": {
            "text/plain": [
              "<re.Match object; span=(0, 4), match='abbc'>"
            ]
          },
          "metadata": {},
          "execution_count": 15
        }
      ]
    },
    {
      "cell_type": "markdown",
      "metadata": {
        "id": "AVZY4CFZyryQ"
      },
      "source": [
        "- {숫자1, 숫자2} : 해당 문자를 숫자1 이상 숫자2 이하만큼 반복"
      ]
    },
    {
      "cell_type": "code",
      "metadata": {
        "id": "zx-9mvBbymOT"
      },
      "source": [
        "r = re.compile('ab{2,8}c')\n",
        "r.search('ac')\n",
        "r.search('abc')"
      ],
      "execution_count": 16,
      "outputs": []
    },
    {
      "cell_type": "code",
      "metadata": {
        "colab": {
          "base_uri": "https://localhost:8080/"
        },
        "id": "EdEjLmD_y_Zw",
        "outputId": "a28b17ed-1bcc-486e-fd73-caea403caac4"
      },
      "source": [
        "r.search('abbbbbc')"
      ],
      "execution_count": 17,
      "outputs": [
        {
          "output_type": "execute_result",
          "data": {
            "text/plain": [
              "<re.Match object; span=(0, 7), match='abbbbbc'>"
            ]
          },
          "metadata": {},
          "execution_count": 17
        }
      ]
    },
    {
      "cell_type": "markdown",
      "metadata": {
        "id": "pz7pWWYhzGdF"
      },
      "source": [
        "- \\[ \\] 기호 : 문자들 중 한개의 문자와 매치"
      ]
    },
    {
      "cell_type": "code",
      "metadata": {
        "id": "wvlDh7t5zBwW"
      },
      "source": [
        "r=re.compile(\"[abc]\") # [abc]는 [a-c]와 같다.\n",
        "r.search(\"zzz\")"
      ],
      "execution_count": 18,
      "outputs": []
    },
    {
      "cell_type": "code",
      "metadata": {
        "colab": {
          "base_uri": "https://localhost:8080/"
        },
        "id": "7YN4xiO-zYZm",
        "outputId": "8d2c24a8-71a2-49bf-ac07-2c6a2518d72e"
      },
      "source": [
        "r.search('baac')"
      ],
      "execution_count": 19,
      "outputs": [
        {
          "output_type": "execute_result",
          "data": {
            "text/plain": [
              "<re.Match object; span=(0, 1), match='b'>"
            ]
          },
          "metadata": {},
          "execution_count": 19
        }
      ]
    },
    {
      "cell_type": "code",
      "metadata": {
        "id": "y0fVBVG_zaGv"
      },
      "source": [
        "# 소문자\n",
        "re.search('[a-z]', 'ABC')"
      ],
      "execution_count": 20,
      "outputs": []
    },
    {
      "cell_type": "code",
      "metadata": {
        "colab": {
          "base_uri": "https://localhost:8080/"
        },
        "id": "WYrFMYSEzig0",
        "outputId": "a797c332-6d19-4e65-8837-1148a69412f9"
      },
      "source": [
        "re.search('[a-z]', 'AbC')"
      ],
      "execution_count": 21,
      "outputs": [
        {
          "output_type": "execute_result",
          "data": {
            "text/plain": [
              "<re.Match object; span=(1, 2), match='b'>"
            ]
          },
          "metadata": {},
          "execution_count": 21
        }
      ]
    },
    {
      "cell_type": "code",
      "metadata": {
        "id": "289F5eNl0Qe_"
      },
      "source": [
        "# 문자 또는 숫자\n",
        "re.search('[0-9A-Za-z]', '$%^&')\n",
        "re.search('\\w', '$%^&')"
      ],
      "execution_count": 22,
      "outputs": []
    },
    {
      "cell_type": "markdown",
      "metadata": {
        "id": "YPzelTfbzx-8"
      },
      "source": [
        "- [^문자] 기호 : 해당 문자를 제외한 문자를 매치"
      ]
    },
    {
      "cell_type": "code",
      "metadata": {
        "id": "MCIohnCdz1yd"
      },
      "source": [
        "r=re.compile(\"[^abc]\")\n",
        "r.search(\"a\")\n",
        "r.search(\"ab\") \n",
        "r.search(\"b\") "
      ],
      "execution_count": 23,
      "outputs": []
    },
    {
      "cell_type": "code",
      "metadata": {
        "colab": {
          "base_uri": "https://localhost:8080/"
        },
        "id": "fklEN0Lt0KQr",
        "outputId": "c5bf4dca-6f74-41e4-c5ed-a5a9b8878fea"
      },
      "source": [
        "r.search(\"d1\")"
      ],
      "execution_count": 24,
      "outputs": [
        {
          "output_type": "execute_result",
          "data": {
            "text/plain": [
              "<re.Match object; span=(0, 1), match='d'>"
            ]
          },
          "metadata": {},
          "execution_count": 24
        }
      ]
    },
    {
      "cell_type": "code",
      "metadata": {
        "colab": {
          "base_uri": "https://localhost:8080/",
          "height": 36
        },
        "id": "dFzy2BbK1JXv",
        "outputId": "0c324ebe-0779-41e5-93e1-0db36cc3970a"
      },
      "source": [
        "# 한글과 공백 이외의 모든 문자를 제거\n",
        "re.sub('[^ㄱ-ㅎㅏ-ㅣ가-힣 ]', '', '^ 기호 뒤에 붙은 문자.')"
      ],
      "execution_count": 26,
      "outputs": [
        {
          "output_type": "execute_result",
          "data": {
            "application/vnd.google.colaboratory.intrinsic+json": {
              "type": "string"
            },
            "text/plain": [
              "' 기호 뒤에 붙은 문자'"
            ]
          },
          "metadata": {},
          "execution_count": 26
        }
      ]
    },
    {
      "cell_type": "markdown",
      "metadata": {
        "id": "1yYjVKo-1yXd"
      },
      "source": [
        "### re 모듈함수"
      ]
    },
    {
      "cell_type": "markdown",
      "metadata": {
        "id": "T2gDUvVx2Hmn"
      },
      "source": [
        "- re.match() : 문자열의 처음이 정규표현식과 매치되는지를 검색\n",
        "- re.search() : 문자열 전체에 대해서 정규표현식과 매치되는지를 검색"
      ]
    },
    {
      "cell_type": "code",
      "metadata": {
        "id": "JCGdrVTV1b_0"
      },
      "source": [
        "re.match('ab', 'kkkabc')"
      ],
      "execution_count": 27,
      "outputs": []
    },
    {
      "cell_type": "code",
      "metadata": {
        "colab": {
          "base_uri": "https://localhost:8080/"
        },
        "id": "GPRwNLFX2Bkw",
        "outputId": "06280b30-37f3-4c81-8294-980e0a56c155"
      },
      "source": [
        "re.search('ab.', 'kkkabc')"
      ],
      "execution_count": 28,
      "outputs": [
        {
          "output_type": "execute_result",
          "data": {
            "text/plain": [
              "<re.Match object; span=(3, 6), match='abc'>"
            ]
          },
          "metadata": {},
          "execution_count": 28
        }
      ]
    },
    {
      "cell_type": "markdown",
      "metadata": {
        "id": "aBU0KVFd2JbF"
      },
      "source": [
        "- re.split() : 정규표현식을 기준으로 문자열을 분리하여 리스트로 리턴"
      ]
    },
    {
      "cell_type": "code",
      "metadata": {
        "colab": {
          "base_uri": "https://localhost:8080/"
        },
        "id": "ZHX3qkiS2EDj",
        "outputId": "c2326bb9-e1ef-4c80-a3e6-c24c80bf2792"
      },
      "source": [
        "text=\"사과 딸기 수박 메론 바나나\"\n",
        "re.split(\" \",text)"
      ],
      "execution_count": 29,
      "outputs": [
        {
          "output_type": "execute_result",
          "data": {
            "text/plain": [
              "['사과', '딸기', '수박', '메론', '바나나']"
            ]
          },
          "metadata": {},
          "execution_count": 29
        }
      ]
    },
    {
      "cell_type": "code",
      "metadata": {
        "colab": {
          "base_uri": "https://localhost:8080/"
        },
        "id": "B6qf9t-r2SAX",
        "outputId": "98a27b61-014a-4c23-a3a5-6dc5b070dfd6"
      },
      "source": [
        "text.split()"
      ],
      "execution_count": 30,
      "outputs": [
        {
          "output_type": "execute_result",
          "data": {
            "text/plain": [
              "['사과', '딸기', '수박', '메론', '바나나']"
            ]
          },
          "metadata": {},
          "execution_count": 30
        }
      ]
    },
    {
      "cell_type": "code",
      "metadata": {
        "colab": {
          "base_uri": "https://localhost:8080/"
        },
        "id": "NofL2U4h2TGO",
        "outputId": "ce645d7f-5584-4cbd-d802-f3a626ff8c2e"
      },
      "source": [
        "text=\"\"\"사과      딸기\n",
        " 수박\n",
        "메론            바나나\"\"\"\n",
        "text.split()        # '\\s+'가 default"
      ],
      "execution_count": 31,
      "outputs": [
        {
          "output_type": "execute_result",
          "data": {
            "text/plain": [
              "['사과', '딸기', '수박', '메론', '바나나']"
            ]
          },
          "metadata": {},
          "execution_count": 31
        }
      ]
    },
    {
      "cell_type": "code",
      "metadata": {
        "colab": {
          "base_uri": "https://localhost:8080/"
        },
        "id": "4ZSwwprw2hzD",
        "outputId": "9fd82360-2df8-4b22-f614-c81018081ee6"
      },
      "source": [
        "re.split('\\s+', text)"
      ],
      "execution_count": 32,
      "outputs": [
        {
          "output_type": "execute_result",
          "data": {
            "text/plain": [
              "['사과', '딸기', '수박', '메론', '바나나']"
            ]
          },
          "metadata": {},
          "execution_count": 32
        }
      ]
    },
    {
      "cell_type": "markdown",
      "metadata": {
        "id": "mjAyT1Kg3MDA"
      },
      "source": [
        "- re.findall() : 문자열에서 정규표현식과 매치되는 모든 경우의 문자열을 찾아서 리스트로 리턴"
      ]
    },
    {
      "cell_type": "code",
      "metadata": {
        "colab": {
          "base_uri": "https://localhost:8080/"
        },
        "id": "27f-VFjV2vws",
        "outputId": "4dd1ff84-def0-4593-8dfe-a3494d7d3e47"
      },
      "source": [
        "text=\"\"\"이름 : 김철수\n",
        "전화번호 : 010 - 1234 - 1234\n",
        "나이 : 30\n",
        "성별 : 남\"\"\"  \n",
        "re.findall(\"\\d+\",text)"
      ],
      "execution_count": 33,
      "outputs": [
        {
          "output_type": "execute_result",
          "data": {
            "text/plain": [
              "['010', '1234', '1234', '30']"
            ]
          },
          "metadata": {},
          "execution_count": 33
        }
      ]
    },
    {
      "cell_type": "code",
      "metadata": {
        "colab": {
          "base_uri": "https://localhost:8080/"
        },
        "id": "EbOgKizG3Yeb",
        "outputId": "758c73a6-8b7f-4c22-f044-67d4e5ab96bd"
      },
      "source": [
        "# 매치되는 문자열이 없다면 빈 리스트가 리턴\n",
        "re.findall('\\d+', '김철수')"
      ],
      "execution_count": 34,
      "outputs": [
        {
          "output_type": "execute_result",
          "data": {
            "text/plain": [
              "[]"
            ]
          },
          "metadata": {},
          "execution_count": 34
        }
      ]
    },
    {
      "cell_type": "markdown",
      "metadata": {
        "id": "XOn129u13lK6"
      },
      "source": [
        "- re.sub() : 문자열에서 정규표현식과 일치하는 부분에 대해서 다른 문자열로 대체"
      ]
    },
    {
      "cell_type": "code",
      "metadata": {
        "colab": {
          "base_uri": "https://localhost:8080/",
          "height": 73
        },
        "id": "psIUgHm13qLB",
        "outputId": "156f9260-3223-4d3d-e052-7dc2b5cbb55d"
      },
      "source": [
        "text = \"\"\"Regular expression : A regular expression, regex or regexp[1] \n",
        "(sometimes called a rational expression)[2][3] \n",
        "is, in theoretical computer science and formal language theory, \n",
        "a sequence of characters that define a search pattern.\"\"\"\n",
        "re.sub('[^a-zA-Z]',' ',text)"
      ],
      "execution_count": 35,
      "outputs": [
        {
          "output_type": "execute_result",
          "data": {
            "application/vnd.google.colaboratory.intrinsic+json": {
              "type": "string"
            },
            "text/plain": [
              "'Regular expression   A regular expression  regex or regexp      sometimes called a rational expression         is  in theoretical computer science and formal language theory   a sequence of characters that define a search pattern '"
            ]
          },
          "metadata": {},
          "execution_count": 35
        }
      ]
    },
    {
      "cell_type": "markdown",
      "metadata": {
        "id": "PqIoCK003-Iw"
      },
      "source": [
        "### 정규표현식 텍스트 전처리 예제"
      ]
    },
    {
      "cell_type": "code",
      "metadata": {
        "colab": {
          "base_uri": "https://localhost:8080/"
        },
        "id": "1plPJavH366Q",
        "outputId": "feaeec39-64aa-42bc-a62d-2b4fcf09b157"
      },
      "source": [
        "text = \"\"\"100 John    PROF\n",
        "101 James   STUD\n",
        "102 Mac   STUD\"\"\"  \n",
        "\n",
        "re.split('\\s+', text)"
      ],
      "execution_count": 36,
      "outputs": [
        {
          "output_type": "execute_result",
          "data": {
            "text/plain": [
              "['100', 'John', 'PROF', '101', 'James', 'STUD', '102', 'Mac', 'STUD']"
            ]
          },
          "metadata": {},
          "execution_count": 36
        }
      ]
    },
    {
      "cell_type": "code",
      "metadata": {
        "colab": {
          "base_uri": "https://localhost:8080/"
        },
        "id": "YLODGj6J4NiN",
        "outputId": "b0956154-e766-4bed-97c5-f534f68c2302"
      },
      "source": [
        "re.findall('\\d+',text)"
      ],
      "execution_count": 37,
      "outputs": [
        {
          "output_type": "execute_result",
          "data": {
            "text/plain": [
              "['100', '101', '102']"
            ]
          },
          "metadata": {},
          "execution_count": 37
        }
      ]
    },
    {
      "cell_type": "code",
      "metadata": {
        "colab": {
          "base_uri": "https://localhost:8080/"
        },
        "id": "iPVwSFWU4XHO",
        "outputId": "7c704036-a268-4de9-887f-1e7ef848cd1f"
      },
      "source": [
        "re.findall('[A-Z]+',text)"
      ],
      "execution_count": 39,
      "outputs": [
        {
          "output_type": "execute_result",
          "data": {
            "text/plain": [
              "['J', 'PROF', 'J', 'STUD', 'M', 'STUD']"
            ]
          },
          "metadata": {},
          "execution_count": 39
        }
      ]
    },
    {
      "cell_type": "code",
      "metadata": {
        "colab": {
          "base_uri": "https://localhost:8080/"
        },
        "id": "TTNmsEeY4sYu",
        "outputId": "5d9e99f0-8f88-4ca0-e811-86257c127fca"
      },
      "source": [
        "# 대문자만 연속적으로 4번 등장하는 문자\n",
        "re.findall('[A-Z]{4}',text)"
      ],
      "execution_count": 40,
      "outputs": [
        {
          "output_type": "execute_result",
          "data": {
            "text/plain": [
              "['PROF', 'STUD', 'STUD']"
            ]
          },
          "metadata": {},
          "execution_count": 40
        }
      ]
    },
    {
      "cell_type": "code",
      "metadata": {
        "colab": {
          "base_uri": "https://localhost:8080/"
        },
        "id": "6XqhLHfx408K",
        "outputId": "a534bad2-91dc-4906-8197-3f4aa0519291"
      },
      "source": [
        "# 첫글자 대문자, 나머지 소문자\n",
        "re.findall('[A-Z][a-z]+',text)"
      ],
      "execution_count": 41,
      "outputs": [
        {
          "output_type": "execute_result",
          "data": {
            "text/plain": [
              "['John', 'James', 'Mac']"
            ]
          },
          "metadata": {},
          "execution_count": 41
        }
      ]
    }
  ]
}