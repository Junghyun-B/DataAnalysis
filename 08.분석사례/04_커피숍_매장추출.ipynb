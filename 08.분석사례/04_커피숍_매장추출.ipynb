{
  "nbformat": 4,
  "nbformat_minor": 0,
  "metadata": {
    "colab": {
      "name": "04_커피숍_매장추출.ipynb",
      "provenance": [],
      "collapsed_sections": []
    },
    "kernelspec": {
      "name": "python3",
      "display_name": "Python 3"
    },
    "language_info": {
      "name": "python"
    }
  },
  "cells": [
    {
      "cell_type": "markdown",
      "metadata": {
        "id": "XIuRsFIXpNQu"
      },
      "source": [
        "# 커피지수"
      ]
    },
    {
      "cell_type": "markdown",
      "metadata": {
        "id": "XgXfBkMmpQMF"
      },
      "source": [
        "## 데이터로부터 4개 매장 정보 추출 후 저장"
      ]
    },
    {
      "cell_type": "code",
      "metadata": {
        "id": "lcEf4MKFJXv5"
      },
      "source": [
        "import numpy as np\n",
        "import pandas as pd\n",
        "import warnings\n",
        "warnings.filterwarnings('ignore')"
      ],
      "execution_count": 1,
      "outputs": []
    },
    {
      "cell_type": "code",
      "metadata": {
        "colab": {
          "base_uri": "https://localhost:8080/"
        },
        "id": "TpKPIlxLoFQD",
        "outputId": "5b5343eb-e668-4f71-d6b3-a589f4fd2af4"
      },
      "source": [
        "from google.colab import drive\n",
        "drive.mount('/content/mnt')"
      ],
      "execution_count": 2,
      "outputs": [
        {
          "output_type": "stream",
          "name": "stdout",
          "text": [
            "Mounted at /content/mnt\n"
          ]
        }
      ]
    },
    {
      "cell_type": "code",
      "metadata": {
        "id": "SwgZE8aHoGtF"
      },
      "source": [
        "data_folder = '/content/mnt/MyDrive/데이터/소상공인시장진흥공단'"
      ],
      "execution_count": 3,
      "outputs": []
    },
    {
      "cell_type": "code",
      "metadata": {
        "colab": {
          "base_uri": "https://localhost:8080/"
        },
        "id": "xnrpb56SoS46",
        "outputId": "604597cb-15f3-4e41-d5df-d3d4e940de04"
      },
      "source": [
        "from glob import glob\n",
        "for file in glob(f'{data_folder}/*.csv'):\n",
        "    print(file)"
      ],
      "execution_count": 4,
      "outputs": [
        {
          "output_type": "stream",
          "name": "stdout",
          "text": [
            "/content/mnt/MyDrive/데이터/소상공인시장진흥공단/소상공인시장진흥공단_상가(상권)정보_강원_202106.csv\n",
            "/content/mnt/MyDrive/데이터/소상공인시장진흥공단/소상공인시장진흥공단_상가(상권)정보_경기_202106.csv\n",
            "/content/mnt/MyDrive/데이터/소상공인시장진흥공단/소상공인시장진흥공단_상가(상권)정보_경남_202106.csv\n",
            "/content/mnt/MyDrive/데이터/소상공인시장진흥공단/소상공인시장진흥공단_상가(상권)정보_경북_202106.csv\n",
            "/content/mnt/MyDrive/데이터/소상공인시장진흥공단/소상공인시장진흥공단_상가(상권)정보_광주_202106.csv\n",
            "/content/mnt/MyDrive/데이터/소상공인시장진흥공단/소상공인시장진흥공단_상가(상권)정보_대전_202106.csv\n",
            "/content/mnt/MyDrive/데이터/소상공인시장진흥공단/소상공인시장진흥공단_상가(상권)정보_대구_202106.csv\n",
            "/content/mnt/MyDrive/데이터/소상공인시장진흥공단/소상공인시장진흥공단_상가(상권)정보_부산_202106.csv\n",
            "/content/mnt/MyDrive/데이터/소상공인시장진흥공단/소상공인시장진흥공단_상가(상권)정보_서울_202106.csv\n",
            "/content/mnt/MyDrive/데이터/소상공인시장진흥공단/소상공인시장진흥공단_상가(상권)정보_울산_202106.csv\n",
            "/content/mnt/MyDrive/데이터/소상공인시장진흥공단/소상공인시장진흥공단_상가(상권)정보_세종_202106.csv\n",
            "/content/mnt/MyDrive/데이터/소상공인시장진흥공단/소상공인시장진흥공단_상가(상권)정보_인천_202106.csv\n",
            "/content/mnt/MyDrive/데이터/소상공인시장진흥공단/소상공인시장진흥공단_상가(상권)정보_전남_202106.csv\n",
            "/content/mnt/MyDrive/데이터/소상공인시장진흥공단/소상공인시장진흥공단_상가(상권)정보_전북_202106.csv\n",
            "/content/mnt/MyDrive/데이터/소상공인시장진흥공단/소상공인시장진흥공단_상가(상권)정보_제주_202106.csv\n",
            "/content/mnt/MyDrive/데이터/소상공인시장진흥공단/소상공인시장진흥공단_상가(상권)정보_충남_202106.csv\n",
            "/content/mnt/MyDrive/데이터/소상공인시장진흥공단/소상공인시장진흥공단_상가(상권)정보_충북_202106.csv\n"
          ]
        }
      ]
    },
    {
      "cell_type": "code",
      "metadata": {
        "colab": {
          "base_uri": "https://localhost:8080/",
          "height": 222
        },
        "id": "n4cpEL_hIhH7",
        "outputId": "1462c7a9-4b12-4f65-c183-b158b2667bb5"
      },
      "source": [
        "df = pd.read_csv(f'{data_folder}/소상공인시장진흥공단_상가(상권)정보_서울_202106.csv')\n",
        "df = df[df.상권업종중분류코드 == 'Q12']\n",
        "df = df[['상호명','지점명','시도명','시군구명','도로명주소']]\n",
        "print(df.shape)\n",
        "df.head()"
      ],
      "execution_count": 5,
      "outputs": [
        {
          "output_type": "stream",
          "name": "stdout",
          "text": [
            "(20832, 5)\n"
          ]
        },
        {
          "output_type": "execute_result",
          "data": {
            "text/html": [
              "<div>\n",
              "<style scoped>\n",
              "    .dataframe tbody tr th:only-of-type {\n",
              "        vertical-align: middle;\n",
              "    }\n",
              "\n",
              "    .dataframe tbody tr th {\n",
              "        vertical-align: top;\n",
              "    }\n",
              "\n",
              "    .dataframe thead th {\n",
              "        text-align: right;\n",
              "    }\n",
              "</style>\n",
              "<table border=\"1\" class=\"dataframe\">\n",
              "  <thead>\n",
              "    <tr style=\"text-align: right;\">\n",
              "      <th></th>\n",
              "      <th>상호명</th>\n",
              "      <th>지점명</th>\n",
              "      <th>시도명</th>\n",
              "      <th>시군구명</th>\n",
              "      <th>도로명주소</th>\n",
              "    </tr>\n",
              "  </thead>\n",
              "  <tbody>\n",
              "    <tr>\n",
              "      <th>28</th>\n",
              "      <td>커피빈</td>\n",
              "      <td>코리아대학로대명거리점</td>\n",
              "      <td>서울특별시</td>\n",
              "      <td>종로구</td>\n",
              "      <td>서울특별시 종로구 대명길 25</td>\n",
              "    </tr>\n",
              "    <tr>\n",
              "      <th>111</th>\n",
              "      <td>요거프레소</td>\n",
              "      <td>쌍문점</td>\n",
              "      <td>서울특별시</td>\n",
              "      <td>도봉구</td>\n",
              "      <td>서울특별시 도봉구 도당로 7</td>\n",
              "    </tr>\n",
              "    <tr>\n",
              "      <th>190</th>\n",
              "      <td>메머드커피</td>\n",
              "      <td>NaN</td>\n",
              "      <td>서울특별시</td>\n",
              "      <td>마포구</td>\n",
              "      <td>서울특별시 마포구 와우산로 149</td>\n",
              "    </tr>\n",
              "    <tr>\n",
              "      <th>197</th>\n",
              "      <td>우성커피숍</td>\n",
              "      <td>NaN</td>\n",
              "      <td>서울특별시</td>\n",
              "      <td>양천구</td>\n",
              "      <td>서울특별시 양천구 오목로 48</td>\n",
              "    </tr>\n",
              "    <tr>\n",
              "      <th>225</th>\n",
              "      <td>카페클럽</td>\n",
              "      <td>NaN</td>\n",
              "      <td>서울특별시</td>\n",
              "      <td>송파구</td>\n",
              "      <td>서울특별시 송파구 동남로2길 3-6</td>\n",
              "    </tr>\n",
              "  </tbody>\n",
              "</table>\n",
              "</div>"
            ],
            "text/plain": [
              "       상호명          지점명    시도명 시군구명                도로명주소\n",
              "28     커피빈  코리아대학로대명거리점  서울특별시  종로구     서울특별시 종로구 대명길 25\n",
              "111  요거프레소          쌍문점  서울특별시  도봉구      서울특별시 도봉구 도당로 7\n",
              "190  메머드커피          NaN  서울특별시  마포구   서울특별시 마포구 와우산로 149\n",
              "197  우성커피숍          NaN  서울특별시  양천구     서울특별시 양천구 오목로 48\n",
              "225   카페클럽          NaN  서울특별시  송파구  서울특별시 송파구 동남로2길 3-6"
            ]
          },
          "metadata": {},
          "execution_count": 5
        }
      ]
    },
    {
      "cell_type": "code",
      "metadata": {
        "colab": {
          "base_uri": "https://localhost:8080/",
          "height": 204
        },
        "id": "EHUa5QU-JdVw",
        "outputId": "3eadc11a-2180-41ee-8dbf-83804db6a227"
      },
      "source": [
        "sb = df[df.상호명.str.contains('스타벅스|STARBUCKS|스타박스', case=False)]\n",
        "sb.head()"
      ],
      "execution_count": 6,
      "outputs": [
        {
          "output_type": "execute_result",
          "data": {
            "text/html": [
              "<div>\n",
              "<style scoped>\n",
              "    .dataframe tbody tr th:only-of-type {\n",
              "        vertical-align: middle;\n",
              "    }\n",
              "\n",
              "    .dataframe tbody tr th {\n",
              "        vertical-align: top;\n",
              "    }\n",
              "\n",
              "    .dataframe thead th {\n",
              "        text-align: right;\n",
              "    }\n",
              "</style>\n",
              "<table border=\"1\" class=\"dataframe\">\n",
              "  <thead>\n",
              "    <tr style=\"text-align: right;\">\n",
              "      <th></th>\n",
              "      <th>상호명</th>\n",
              "      <th>지점명</th>\n",
              "      <th>시도명</th>\n",
              "      <th>시군구명</th>\n",
              "      <th>도로명주소</th>\n",
              "    </tr>\n",
              "  </thead>\n",
              "  <tbody>\n",
              "    <tr>\n",
              "      <th>1738</th>\n",
              "      <td>스타벅스</td>\n",
              "      <td>동숭로아트점</td>\n",
              "      <td>서울특별시</td>\n",
              "      <td>종로구</td>\n",
              "      <td>서울특별시 종로구 동숭길 110</td>\n",
              "    </tr>\n",
              "    <tr>\n",
              "      <th>2766</th>\n",
              "      <td>스타벅스남부터미널2점</td>\n",
              "      <td>남부터미널2점</td>\n",
              "      <td>서울특별시</td>\n",
              "      <td>서초구</td>\n",
              "      <td>서울특별시 서초구 효령로 274</td>\n",
              "    </tr>\n",
              "    <tr>\n",
              "      <th>3785</th>\n",
              "      <td>스타벅스</td>\n",
              "      <td>당산점</td>\n",
              "      <td>서울특별시</td>\n",
              "      <td>영등포구</td>\n",
              "      <td>서울특별시 영등포구 양평로 64</td>\n",
              "    </tr>\n",
              "    <tr>\n",
              "      <th>3933</th>\n",
              "      <td>스타벅스</td>\n",
              "      <td>가로수길점</td>\n",
              "      <td>서울특별시</td>\n",
              "      <td>강남구</td>\n",
              "      <td>서울특별시 강남구 논현로175길 94</td>\n",
              "    </tr>\n",
              "    <tr>\n",
              "      <th>3995</th>\n",
              "      <td>스타벅스미아사거리역점</td>\n",
              "      <td>미아사거리역점</td>\n",
              "      <td>서울특별시</td>\n",
              "      <td>강북구</td>\n",
              "      <td>서울특별시 강북구 도봉로 32</td>\n",
              "    </tr>\n",
              "  </tbody>\n",
              "</table>\n",
              "</div>"
            ],
            "text/plain": [
              "              상호명      지점명    시도명  시군구명                 도로명주소\n",
              "1738         스타벅스   동숭로아트점  서울특별시   종로구     서울특별시 종로구 동숭길 110\n",
              "2766  스타벅스남부터미널2점  남부터미널2점  서울특별시   서초구     서울특별시 서초구 효령로 274\n",
              "3785         스타벅스      당산점  서울특별시  영등포구     서울특별시 영등포구 양평로 64\n",
              "3933         스타벅스    가로수길점  서울특별시   강남구  서울특별시 강남구 논현로175길 94\n",
              "3995  스타벅스미아사거리역점  미아사거리역점  서울특별시   강북구      서울특별시 강북구 도봉로 32"
            ]
          },
          "metadata": {},
          "execution_count": 6
        }
      ]
    },
    {
      "cell_type": "code",
      "metadata": {
        "colab": {
          "base_uri": "https://localhost:8080/",
          "height": 204
        },
        "id": "-bGDb7umKLmo",
        "outputId": "c98a1473-96f3-4f7f-e5b5-3b364706b2d4"
      },
      "source": [
        "cb = df[df.상호명.str.contains('커피빈|COFFEEBEAN', case=False)]\n",
        "cb.head()"
      ],
      "execution_count": 7,
      "outputs": [
        {
          "output_type": "execute_result",
          "data": {
            "text/html": [
              "<div>\n",
              "<style scoped>\n",
              "    .dataframe tbody tr th:only-of-type {\n",
              "        vertical-align: middle;\n",
              "    }\n",
              "\n",
              "    .dataframe tbody tr th {\n",
              "        vertical-align: top;\n",
              "    }\n",
              "\n",
              "    .dataframe thead th {\n",
              "        text-align: right;\n",
              "    }\n",
              "</style>\n",
              "<table border=\"1\" class=\"dataframe\">\n",
              "  <thead>\n",
              "    <tr style=\"text-align: right;\">\n",
              "      <th></th>\n",
              "      <th>상호명</th>\n",
              "      <th>지점명</th>\n",
              "      <th>시도명</th>\n",
              "      <th>시군구명</th>\n",
              "      <th>도로명주소</th>\n",
              "    </tr>\n",
              "  </thead>\n",
              "  <tbody>\n",
              "    <tr>\n",
              "      <th>28</th>\n",
              "      <td>커피빈</td>\n",
              "      <td>코리아대학로대명거리점</td>\n",
              "      <td>서울특별시</td>\n",
              "      <td>종로구</td>\n",
              "      <td>서울특별시 종로구 대명길 25</td>\n",
              "    </tr>\n",
              "    <tr>\n",
              "      <th>316</th>\n",
              "      <td>커피빈코리아낙성대역점</td>\n",
              "      <td>코리아낙성대역점</td>\n",
              "      <td>서울특별시</td>\n",
              "      <td>관악구</td>\n",
              "      <td>서울특별시 관악구 남부순환로 1909</td>\n",
              "    </tr>\n",
              "    <tr>\n",
              "      <th>1470</th>\n",
              "      <td>커피빈</td>\n",
              "      <td>코리아강남역랭기지타워점</td>\n",
              "      <td>서울특별시</td>\n",
              "      <td>강남구</td>\n",
              "      <td>서울특별시 강남구 테헤란로4길 28</td>\n",
              "    </tr>\n",
              "    <tr>\n",
              "      <th>1491</th>\n",
              "      <td>커피빈</td>\n",
              "      <td>코리아청담성당점</td>\n",
              "      <td>서울특별시</td>\n",
              "      <td>강남구</td>\n",
              "      <td>서울특별시 강남구 삼성로 716</td>\n",
              "    </tr>\n",
              "    <tr>\n",
              "      <th>1506</th>\n",
              "      <td>커피빈</td>\n",
              "      <td>코리아청담에스점</td>\n",
              "      <td>서울특별시</td>\n",
              "      <td>강남구</td>\n",
              "      <td>서울특별시 강남구 압구정로 461</td>\n",
              "    </tr>\n",
              "  </tbody>\n",
              "</table>\n",
              "</div>"
            ],
            "text/plain": [
              "              상호명           지점명    시도명 시군구명                 도로명주소\n",
              "28            커피빈   코리아대학로대명거리점  서울특별시  종로구      서울특별시 종로구 대명길 25\n",
              "316   커피빈코리아낙성대역점      코리아낙성대역점  서울특별시  관악구  서울특별시 관악구 남부순환로 1909\n",
              "1470          커피빈  코리아강남역랭기지타워점  서울특별시  강남구   서울특별시 강남구 테헤란로4길 28\n",
              "1491          커피빈      코리아청담성당점  서울특별시  강남구     서울특별시 강남구 삼성로 716\n",
              "1506          커피빈      코리아청담에스점  서울특별시  강남구    서울특별시 강남구 압구정로 461"
            ]
          },
          "metadata": {},
          "execution_count": 7
        }
      ]
    },
    {
      "cell_type": "code",
      "metadata": {
        "colab": {
          "base_uri": "https://localhost:8080/",
          "height": 204
        },
        "id": "oiU8Wd-gLEyw",
        "outputId": "268c67d6-4b2a-49c1-b81d-2141b114d034"
      },
      "source": [
        "ed = df[df.상호명.str.contains('이디야|EDIYA', case=False)]\n",
        "ed.head()"
      ],
      "execution_count": 8,
      "outputs": [
        {
          "output_type": "execute_result",
          "data": {
            "text/html": [
              "<div>\n",
              "<style scoped>\n",
              "    .dataframe tbody tr th:only-of-type {\n",
              "        vertical-align: middle;\n",
              "    }\n",
              "\n",
              "    .dataframe tbody tr th {\n",
              "        vertical-align: top;\n",
              "    }\n",
              "\n",
              "    .dataframe thead th {\n",
              "        text-align: right;\n",
              "    }\n",
              "</style>\n",
              "<table border=\"1\" class=\"dataframe\">\n",
              "  <thead>\n",
              "    <tr style=\"text-align: right;\">\n",
              "      <th></th>\n",
              "      <th>상호명</th>\n",
              "      <th>지점명</th>\n",
              "      <th>시도명</th>\n",
              "      <th>시군구명</th>\n",
              "      <th>도로명주소</th>\n",
              "    </tr>\n",
              "  </thead>\n",
              "  <tbody>\n",
              "    <tr>\n",
              "      <th>1272</th>\n",
              "      <td>이디야커피</td>\n",
              "      <td>신길역점</td>\n",
              "      <td>서울특별시</td>\n",
              "      <td>영등포구</td>\n",
              "      <td>서울특별시 영등포구 영등포로 353</td>\n",
              "    </tr>\n",
              "    <tr>\n",
              "      <th>1411</th>\n",
              "      <td>이디야커피</td>\n",
              "      <td>라이프점</td>\n",
              "      <td>서울특별시</td>\n",
              "      <td>영등포구</td>\n",
              "      <td>서울특별시 영등포구 63로 40</td>\n",
              "    </tr>\n",
              "    <tr>\n",
              "      <th>2433</th>\n",
              "      <td>이디야커피양재AT점</td>\n",
              "      <td>양재AT점</td>\n",
              "      <td>서울특별시</td>\n",
              "      <td>서초구</td>\n",
              "      <td>서울특별시 서초구 동산로 3</td>\n",
              "    </tr>\n",
              "    <tr>\n",
              "      <th>2785</th>\n",
              "      <td>이디야커피</td>\n",
              "      <td>시흥점</td>\n",
              "      <td>서울특별시</td>\n",
              "      <td>금천구</td>\n",
              "      <td>서울특별시 금천구 금하로 750</td>\n",
              "    </tr>\n",
              "    <tr>\n",
              "      <th>4498</th>\n",
              "      <td>이디야커피</td>\n",
              "      <td>개봉중앙점</td>\n",
              "      <td>서울특별시</td>\n",
              "      <td>구로구</td>\n",
              "      <td>서울특별시 구로구 개봉로3길 26</td>\n",
              "    </tr>\n",
              "  </tbody>\n",
              "</table>\n",
              "</div>"
            ],
            "text/plain": [
              "             상호명    지점명    시도명  시군구명                도로명주소\n",
              "1272       이디야커피   신길역점  서울특별시  영등포구  서울특별시 영등포구 영등포로 353\n",
              "1411       이디야커피   라이프점  서울특별시  영등포구    서울특별시 영등포구 63로 40\n",
              "2433  이디야커피양재AT점  양재AT점  서울특별시   서초구      서울특별시 서초구 동산로 3\n",
              "2785       이디야커피    시흥점  서울특별시   금천구    서울특별시 금천구 금하로 750\n",
              "4498       이디야커피  개봉중앙점  서울특별시   구로구   서울특별시 구로구 개봉로3길 26"
            ]
          },
          "metadata": {},
          "execution_count": 8
        }
      ]
    },
    {
      "cell_type": "code",
      "metadata": {
        "colab": {
          "base_uri": "https://localhost:8080/",
          "height": 204
        },
        "id": "w_479wm8LMKz",
        "outputId": "18a3629d-a4c4-4b20-96cc-44ec64e6f18c"
      },
      "source": [
        "bd = df[df.상호명.str.contains('빽다방|PAICKSCOFFEE', case=False)]\n",
        "bd.head()"
      ],
      "execution_count": 9,
      "outputs": [
        {
          "output_type": "execute_result",
          "data": {
            "text/html": [
              "<div>\n",
              "<style scoped>\n",
              "    .dataframe tbody tr th:only-of-type {\n",
              "        vertical-align: middle;\n",
              "    }\n",
              "\n",
              "    .dataframe tbody tr th {\n",
              "        vertical-align: top;\n",
              "    }\n",
              "\n",
              "    .dataframe thead th {\n",
              "        text-align: right;\n",
              "    }\n",
              "</style>\n",
              "<table border=\"1\" class=\"dataframe\">\n",
              "  <thead>\n",
              "    <tr style=\"text-align: right;\">\n",
              "      <th></th>\n",
              "      <th>상호명</th>\n",
              "      <th>지점명</th>\n",
              "      <th>시도명</th>\n",
              "      <th>시군구명</th>\n",
              "      <th>도로명주소</th>\n",
              "    </tr>\n",
              "  </thead>\n",
              "  <tbody>\n",
              "    <tr>\n",
              "      <th>7607</th>\n",
              "      <td>빽다방공덕새창로점</td>\n",
              "      <td>공덕새창로점</td>\n",
              "      <td>서울특별시</td>\n",
              "      <td>마포구</td>\n",
              "      <td>서울특별시 마포구 새창로 15-1</td>\n",
              "    </tr>\n",
              "    <tr>\n",
              "      <th>8565</th>\n",
              "      <td>빽다방서초우성점</td>\n",
              "      <td>서초우성점</td>\n",
              "      <td>서울특별시</td>\n",
              "      <td>서초구</td>\n",
              "      <td>서울특별시 서초구 사임당로 181</td>\n",
              "    </tr>\n",
              "    <tr>\n",
              "      <th>19901</th>\n",
              "      <td>빽다방중계은행사거리점</td>\n",
              "      <td>중계은행사거리점</td>\n",
              "      <td>서울특별시</td>\n",
              "      <td>노원구</td>\n",
              "      <td>서울특별시 노원구 한글비석로 235</td>\n",
              "    </tr>\n",
              "    <tr>\n",
              "      <th>26972</th>\n",
              "      <td>빽다방성신여대점</td>\n",
              "      <td>성신여대점</td>\n",
              "      <td>서울특별시</td>\n",
              "      <td>성북구</td>\n",
              "      <td>서울특별시 성북구 동소문로20나길 3</td>\n",
              "    </tr>\n",
              "    <tr>\n",
              "      <th>27346</th>\n",
              "      <td>빽다방신림역1호점</td>\n",
              "      <td>신림역1호점</td>\n",
              "      <td>서울특별시</td>\n",
              "      <td>관악구</td>\n",
              "      <td>서울특별시 관악구 남부순환로 1592</td>\n",
              "    </tr>\n",
              "  </tbody>\n",
              "</table>\n",
              "</div>"
            ],
            "text/plain": [
              "               상호명       지점명    시도명 시군구명                 도로명주소\n",
              "7607     빽다방공덕새창로점    공덕새창로점  서울특별시  마포구    서울특별시 마포구 새창로 15-1\n",
              "8565      빽다방서초우성점     서초우성점  서울특별시  서초구    서울특별시 서초구 사임당로 181\n",
              "19901  빽다방중계은행사거리점  중계은행사거리점  서울특별시  노원구   서울특별시 노원구 한글비석로 235\n",
              "26972     빽다방성신여대점     성신여대점  서울특별시  성북구  서울특별시 성북구 동소문로20나길 3\n",
              "27346    빽다방신림역1호점    신림역1호점  서울특별시  관악구  서울특별시 관악구 남부순환로 1592"
            ]
          },
          "metadata": {},
          "execution_count": 9
        }
      ]
    },
    {
      "cell_type": "code",
      "metadata": {
        "colab": {
          "base_uri": "https://localhost:8080/"
        },
        "id": "oD4i1l-2LlOf",
        "outputId": "d913d999-5837-40fb-b9c5-e3d667f8f3f7"
      },
      "source": [
        "len(sb), len(cb), len(ed), len(bd)"
      ],
      "execution_count": 10,
      "outputs": [
        {
          "output_type": "execute_result",
          "data": {
            "text/plain": [
              "(489, 169, 440, 126)"
            ]
          },
          "metadata": {},
          "execution_count": 10
        }
      ]
    },
    {
      "cell_type": "markdown",
      "metadata": {
        "id": "DtZIsjz5No6x"
      },
      "source": [
        "## 전국 데이터에서 4개 매장 정보 추출"
      ]
    },
    {
      "cell_type": "code",
      "metadata": {
        "id": "Xk99i2eCNqxe"
      },
      "source": [
        "starbucks = pd.DataFrame(columns=['상호명','지점명','시도명','시군구명','도로명주소'])\n",
        "coffeebean = pd.DataFrame(columns=['상호명','지점명','시도명','시군구명','도로명주소'])\n",
        "ediya = pd.DataFrame(columns=['상호명','지점명','시도명','시군구명','도로명주소'])\n",
        "paik = pd.DataFrame(columns=['상호명','지점명','시도명','시군구명','도로명주소'])"
      ],
      "execution_count": 11,
      "outputs": []
    },
    {
      "cell_type": "code",
      "metadata": {
        "colab": {
          "base_uri": "https://localhost:8080/"
        },
        "id": "v1r3ff3HN9GJ",
        "outputId": "63775517-d34e-4b38-b321-c1054b1f91d9"
      },
      "source": [
        "from glob import glob\n",
        "for filename in glob(f'{data_folder}/*csv'):\n",
        "    print(filename)\n",
        "    df = pd.read_csv(filename)\n",
        "    df = df[df.상권업종중분류코드 == 'Q12']\n",
        "    df = df[['상호명','지점명','시도명','시군구명','도로명주소']]\n",
        "\n",
        "    sb = df[df.상호명.str.contains('스타벅스|STARBUCKS', case=False)]\n",
        "    cb = df[df.상호명.str.contains('커피빈|COFFEEBEAN', case=False)]\n",
        "    ed = df[df.상호명.str.contains('이디야|EDIYA', case=False)]\n",
        "    bd = df[df.상호명.str.contains('빽다방|PAICKSCOFFEE', case=False)]\n",
        "\n",
        "    starbucks = pd.concat([starbucks, sb])\n",
        "    coffeebean = pd.concat([coffeebean, cb])\n",
        "    ediya = pd.concat([ediya, ed])\n",
        "    paik = pd.concat([paik, bd])"
      ],
      "execution_count": 12,
      "outputs": [
        {
          "output_type": "stream",
          "name": "stdout",
          "text": [
            "/content/mnt/MyDrive/데이터/소상공인시장진흥공단/소상공인시장진흥공단_상가(상권)정보_강원_202106.csv\n",
            "/content/mnt/MyDrive/데이터/소상공인시장진흥공단/소상공인시장진흥공단_상가(상권)정보_경기_202106.csv\n",
            "/content/mnt/MyDrive/데이터/소상공인시장진흥공단/소상공인시장진흥공단_상가(상권)정보_경남_202106.csv\n",
            "/content/mnt/MyDrive/데이터/소상공인시장진흥공단/소상공인시장진흥공단_상가(상권)정보_경북_202106.csv\n",
            "/content/mnt/MyDrive/데이터/소상공인시장진흥공단/소상공인시장진흥공단_상가(상권)정보_광주_202106.csv\n",
            "/content/mnt/MyDrive/데이터/소상공인시장진흥공단/소상공인시장진흥공단_상가(상권)정보_대전_202106.csv\n",
            "/content/mnt/MyDrive/데이터/소상공인시장진흥공단/소상공인시장진흥공단_상가(상권)정보_대구_202106.csv\n",
            "/content/mnt/MyDrive/데이터/소상공인시장진흥공단/소상공인시장진흥공단_상가(상권)정보_부산_202106.csv\n",
            "/content/mnt/MyDrive/데이터/소상공인시장진흥공단/소상공인시장진흥공단_상가(상권)정보_서울_202106.csv\n",
            "/content/mnt/MyDrive/데이터/소상공인시장진흥공단/소상공인시장진흥공단_상가(상권)정보_울산_202106.csv\n",
            "/content/mnt/MyDrive/데이터/소상공인시장진흥공단/소상공인시장진흥공단_상가(상권)정보_세종_202106.csv\n",
            "/content/mnt/MyDrive/데이터/소상공인시장진흥공단/소상공인시장진흥공단_상가(상권)정보_인천_202106.csv\n",
            "/content/mnt/MyDrive/데이터/소상공인시장진흥공단/소상공인시장진흥공단_상가(상권)정보_전남_202106.csv\n",
            "/content/mnt/MyDrive/데이터/소상공인시장진흥공단/소상공인시장진흥공단_상가(상권)정보_전북_202106.csv\n",
            "/content/mnt/MyDrive/데이터/소상공인시장진흥공단/소상공인시장진흥공단_상가(상권)정보_제주_202106.csv\n",
            "/content/mnt/MyDrive/데이터/소상공인시장진흥공단/소상공인시장진흥공단_상가(상권)정보_충남_202106.csv\n",
            "/content/mnt/MyDrive/데이터/소상공인시장진흥공단/소상공인시장진흥공단_상가(상권)정보_충북_202106.csv\n"
          ]
        }
      ]
    },
    {
      "cell_type": "code",
      "metadata": {
        "colab": {
          "base_uri": "https://localhost:8080/",
          "height": 204
        },
        "id": "CXwTpUUQPs0D",
        "outputId": "47bfa35d-1dd3-48b4-9df6-f1b3c41ee45a"
      },
      "source": [
        "starbucks.tail()"
      ],
      "execution_count": 13,
      "outputs": [
        {
          "output_type": "execute_result",
          "data": {
            "text/html": [
              "<div>\n",
              "<style scoped>\n",
              "    .dataframe tbody tr th:only-of-type {\n",
              "        vertical-align: middle;\n",
              "    }\n",
              "\n",
              "    .dataframe tbody tr th {\n",
              "        vertical-align: top;\n",
              "    }\n",
              "\n",
              "    .dataframe thead th {\n",
              "        text-align: right;\n",
              "    }\n",
              "</style>\n",
              "<table border=\"1\" class=\"dataframe\">\n",
              "  <thead>\n",
              "    <tr style=\"text-align: right;\">\n",
              "      <th></th>\n",
              "      <th>상호명</th>\n",
              "      <th>지점명</th>\n",
              "      <th>시도명</th>\n",
              "      <th>시군구명</th>\n",
              "      <th>도로명주소</th>\n",
              "    </tr>\n",
              "  </thead>\n",
              "  <tbody>\n",
              "    <tr>\n",
              "      <th>72684</th>\n",
              "      <td>스타벅스</td>\n",
              "      <td>충북대점</td>\n",
              "      <td>충청북도</td>\n",
              "      <td>청주시 서원구</td>\n",
              "      <td>충청북도 청주시 서원구 내수동로 113</td>\n",
              "    </tr>\n",
              "    <tr>\n",
              "      <th>73841</th>\n",
              "      <td>스타벅스</td>\n",
              "      <td>청주율량DT점</td>\n",
              "      <td>충청북도</td>\n",
              "      <td>청주시 청원구</td>\n",
              "      <td>충청북도 청주시 청원구 충청대로107번길 8</td>\n",
              "    </tr>\n",
              "    <tr>\n",
              "      <th>79073</th>\n",
              "      <td>스타벅스</td>\n",
              "      <td>충주연수점</td>\n",
              "      <td>충청북도</td>\n",
              "      <td>충주시</td>\n",
              "      <td>충청북도 충주시 계명대로 227</td>\n",
              "    </tr>\n",
              "    <tr>\n",
              "      <th>79357</th>\n",
              "      <td>스타벅스</td>\n",
              "      <td>충주성서점</td>\n",
              "      <td>충청북도</td>\n",
              "      <td>충주시</td>\n",
              "      <td>충청북도 충주시 예성로 151</td>\n",
              "    </tr>\n",
              "    <tr>\n",
              "      <th>84354</th>\n",
              "      <td>스타벅스</td>\n",
              "      <td>NaN</td>\n",
              "      <td>충청북도</td>\n",
              "      <td>음성군</td>\n",
              "      <td>충청북도 음성군 원남면 보천로 65</td>\n",
              "    </tr>\n",
              "  </tbody>\n",
              "</table>\n",
              "</div>"
            ],
            "text/plain": [
              "        상호명      지점명   시도명     시군구명                     도로명주소\n",
              "72684  스타벅스     충북대점  충청북도  청주시 서원구     충청북도 청주시 서원구 내수동로 113\n",
              "73841  스타벅스  청주율량DT점  충청북도  청주시 청원구  충청북도 청주시 청원구 충청대로107번길 8\n",
              "79073  스타벅스    충주연수점  충청북도      충주시         충청북도 충주시 계명대로 227\n",
              "79357  스타벅스    충주성서점  충청북도      충주시          충청북도 충주시 예성로 151\n",
              "84354  스타벅스      NaN  충청북도      음성군       충청북도 음성군 원남면 보천로 65"
            ]
          },
          "metadata": {},
          "execution_count": 13
        }
      ]
    },
    {
      "cell_type": "code",
      "metadata": {
        "colab": {
          "base_uri": "https://localhost:8080/"
        },
        "id": "W1e5r_fxPwXV",
        "outputId": "3f7b0533-f973-455a-b524-9417eff9e70a"
      },
      "source": [
        "len(starbucks), len(coffeebean), len(ediya), len(paik)"
      ],
      "execution_count": 14,
      "outputs": [
        {
          "output_type": "execute_result",
          "data": {
            "text/plain": [
              "(1547, 293, 2120, 608)"
            ]
          },
          "metadata": {},
          "execution_count": 14
        }
      ]
    },
    {
      "cell_type": "code",
      "metadata": {
        "id": "xxHsMTSuPDMy"
      },
      "source": [
        "result_dir = '/content/mnt/MyDrive/results/CoffeeIndex'"
      ],
      "execution_count": 15,
      "outputs": []
    },
    {
      "cell_type": "code",
      "metadata": {
        "id": "3htR2jedPQBS"
      },
      "source": [
        "!mkdir -p $result_dir"
      ],
      "execution_count": 16,
      "outputs": []
    },
    {
      "cell_type": "code",
      "metadata": {
        "id": "LO9q03f8PeIj"
      },
      "source": [
        "starbucks.to_csv(f'{result_dir}/스타벅스.csv', index=False)\n",
        "coffeebean.to_csv(f'{result_dir}/커피빈.csv', index=False)\n",
        "ediya.to_csv(f'{result_dir}/이디야.csv', index=False)\n",
        "paik.to_csv(f'{result_dir}/빽다방.csv', index=False)"
      ],
      "execution_count": 17,
      "outputs": []
    }
  ]
}