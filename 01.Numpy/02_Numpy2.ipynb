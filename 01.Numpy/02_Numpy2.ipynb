{
  "nbformat": 4,
  "nbformat_minor": 0,
  "metadata": {
    "colab": {
      "name": "02_Numpy2.ipynb",
      "provenance": [],
      "collapsed_sections": []
    },
    "kernelspec": {
      "name": "python3",
      "display_name": "Python 3"
    },
    "language_info": {
      "name": "python"
    }
  },
  "cells": [
    {
      "cell_type": "markdown",
      "metadata": {
        "id": "xQS2RbmGVDnu"
      },
      "source": [
        "# Numerical Python(Numpy) - Part 2"
      ]
    },
    {
      "cell_type": "code",
      "metadata": {
        "id": "CHPbaL60VAZA"
      },
      "source": [
        "import numpy as np"
      ],
      "execution_count": 1,
      "outputs": []
    },
    {
      "cell_type": "markdown",
      "metadata": {
        "id": "AT5sW4rTVITl"
      },
      "source": [
        "## 4. 생성(Creation)"
      ]
    },
    {
      "cell_type": "markdown",
      "metadata": {
        "id": "wvDPhl_AVQCh"
      },
      "source": [
        "### Arange"
      ]
    },
    {
      "cell_type": "code",
      "metadata": {
        "colab": {
          "base_uri": "https://localhost:8080/"
        },
        "id": "M7SyExyBVH1g",
        "outputId": "54b9625a-b7db-41ab-d14c-26c2d6f09585"
      },
      "source": [
        "np.arange(10)"
      ],
      "execution_count": 2,
      "outputs": [
        {
          "output_type": "execute_result",
          "data": {
            "text/plain": [
              "array([0, 1, 2, 3, 4, 5, 6, 7, 8, 9])"
            ]
          },
          "metadata": {
            "tags": []
          },
          "execution_count": 2
        }
      ]
    },
    {
      "cell_type": "code",
      "metadata": {
        "colab": {
          "base_uri": "https://localhost:8080/"
        },
        "id": "x2UjMXrmVZJo",
        "outputId": "1e9f2f42-e8b9-40e2-d4db-f26e5cb85410"
      },
      "source": [
        "np.arange(1, 10, 2)"
      ],
      "execution_count": 3,
      "outputs": [
        {
          "output_type": "execute_result",
          "data": {
            "text/plain": [
              "array([1, 3, 5, 7, 9])"
            ]
          },
          "metadata": {
            "tags": []
          },
          "execution_count": 3
        }
      ]
    },
    {
      "cell_type": "code",
      "metadata": {
        "colab": {
          "base_uri": "https://localhost:8080/"
        },
        "id": "sjX0yPX5ViNc",
        "outputId": "2ff2ea7b-92f9-4ca5-869a-e9ebda9e4fc6"
      },
      "source": [
        "# 실수도 가능\n",
        "np.arange(0, 5.1, 0.5)"
      ],
      "execution_count": 4,
      "outputs": [
        {
          "output_type": "execute_result",
          "data": {
            "text/plain": [
              "array([0. , 0.5, 1. , 1.5, 2. , 2.5, 3. , 3.5, 4. , 4.5, 5. ])"
            ]
          },
          "metadata": {
            "tags": []
          },
          "execution_count": 4
        }
      ]
    },
    {
      "cell_type": "code",
      "metadata": {
        "colab": {
          "base_uri": "https://localhost:8080/"
        },
        "id": "c-xjwB7pVtUu",
        "outputId": "f2c4bbdd-482b-4b32-b463-177e21d740f0"
      },
      "source": [
        "np.arange(0, 5.1, 0.5).tolist()"
      ],
      "execution_count": 5,
      "outputs": [
        {
          "output_type": "execute_result",
          "data": {
            "text/plain": [
              "[0.0, 0.5, 1.0, 1.5, 2.0, 2.5, 3.0, 3.5, 4.0, 4.5, 5.0]"
            ]
          },
          "metadata": {
            "tags": []
          },
          "execution_count": 5
        }
      ]
    },
    {
      "cell_type": "code",
      "metadata": {
        "colab": {
          "base_uri": "https://localhost:8080/"
        },
        "id": "V0U8ZdsYV75C",
        "outputId": "e41b19f3-152d-48d5-f01d-d5ccb301b8ca"
      },
      "source": [
        "np.arange(24).reshape(4, -1)"
      ],
      "execution_count": 8,
      "outputs": [
        {
          "output_type": "execute_result",
          "data": {
            "text/plain": [
              "array([[ 0,  1,  2,  3,  4,  5],\n",
              "       [ 6,  7,  8,  9, 10, 11],\n",
              "       [12, 13, 14, 15, 16, 17],\n",
              "       [18, 19, 20, 21, 22, 23]])"
            ]
          },
          "metadata": {
            "tags": []
          },
          "execution_count": 8
        }
      ]
    },
    {
      "cell_type": "markdown",
      "metadata": {
        "id": "aF0SYLCro1TT"
      },
      "source": [
        "### 그래프 그리는 경우"
      ]
    },
    {
      "cell_type": "code",
      "metadata": {
        "colab": {
          "base_uri": "https://localhost:8080/"
        },
        "id": "GCmXkMhpWVo6",
        "outputId": "5a314746-0151-48b1-c4c6-ad6bd0edbf58"
      },
      "source": [
        "x = np.arange(-2, 2.005, 0.01)\n",
        "x.size, x[-1]"
      ],
      "execution_count": 13,
      "outputs": [
        {
          "output_type": "execute_result",
          "data": {
            "text/plain": [
              "(401, 2.0000000000000036)"
            ]
          },
          "metadata": {
            "tags": []
          },
          "execution_count": 13
        }
      ]
    },
    {
      "cell_type": "code",
      "metadata": {
        "colab": {
          "base_uri": "https://localhost:8080/"
        },
        "id": "1z8JTloMlxrg",
        "outputId": "88da77dd-efce-454d-9a4b-69377feecd30"
      },
      "source": [
        "# linspace(시작, 끝, 등분)\n",
        "x = np.linspace(-2, 2, 401)\n",
        "x.size, x[-1]"
      ],
      "execution_count": 14,
      "outputs": [
        {
          "output_type": "execute_result",
          "data": {
            "text/plain": [
              "(401, 2.0)"
            ]
          },
          "metadata": {
            "tags": []
          },
          "execution_count": 14
        }
      ]
    },
    {
      "cell_type": "code",
      "metadata": {
        "colab": {
          "base_uri": "https://localhost:8080/",
          "height": 283
        },
        "id": "gOPs394Rl4NT",
        "outputId": "80c36c1e-cd06-44ab-fc96-97e29c7d655e"
      },
      "source": [
        "import matplotlib.pyplot as plt\n",
        "\n",
        "y = np.tanh(x)          # Hyperbolic tangent\n",
        "plt.plot(x, y)\n",
        "plt.grid()\n",
        "plt.show"
      ],
      "execution_count": 15,
      "outputs": [
        {
          "output_type": "execute_result",
          "data": {
            "text/plain": [
              "<function matplotlib.pyplot.show>"
            ]
          },
          "metadata": {
            "tags": []
          },
          "execution_count": 15
        },
        {
          "output_type": "display_data",
          "data": {
            "image/png": "[encoded data removed]",
            "text/plain": [
              "<Figure size 432x288 with 1 Axes>"
            ]
          },
          "metadata": {
            "tags": [],
            "needs_background": "light"
          }
        }
      ]
    },
    {
      "cell_type": "markdown",
      "metadata": {
        "id": "n_jvPDbxpUGI"
      },
      "source": [
        "### ones, zeros, empty"
      ]
    },
    {
      "cell_type": "code",
      "metadata": {
        "colab": {
          "base_uri": "https://localhost:8080/"
        },
        "id": "yKw5wweYolS-",
        "outputId": "0524209b-fdfb-41f6-e141-b3f0e8e5b639"
      },
      "source": [
        "np.ones(shape = (10,), dtype = np.int8)"
      ],
      "execution_count": 16,
      "outputs": [
        {
          "output_type": "execute_result",
          "data": {
            "text/plain": [
              "array([1, 1, 1, 1, 1, 1, 1, 1, 1, 1], dtype=int8)"
            ]
          },
          "metadata": {
            "tags": []
          },
          "execution_count": 16
        }
      ]
    },
    {
      "cell_type": "code",
      "metadata": {
        "colab": {
          "base_uri": "https://localhost:8080/"
        },
        "id": "mHwAuSlcpfsf",
        "outputId": "a2bbe1a6-2ff4-464e-b148-72ab2ce632c5"
      },
      "source": [
        "np.ones((2, 4))"
      ],
      "execution_count": 17,
      "outputs": [
        {
          "output_type": "execute_result",
          "data": {
            "text/plain": [
              "array([[1., 1., 1., 1.],\n",
              "       [1., 1., 1., 1.]])"
            ]
          },
          "metadata": {
            "tags": []
          },
          "execution_count": 17
        }
      ]
    },
    {
      "cell_type": "code",
      "metadata": {
        "colab": {
          "base_uri": "https://localhost:8080/"
        },
        "id": "CfNo499Jpm02",
        "outputId": "29439fc6-8524-45f8-cb8d-3674e7bfd89e"
      },
      "source": [
        "np.zeros((8,), dtype = np.float32)"
      ],
      "execution_count": 18,
      "outputs": [
        {
          "output_type": "execute_result",
          "data": {
            "text/plain": [
              "array([0., 0., 0., 0., 0., 0., 0., 0.], dtype=float32)"
            ]
          },
          "metadata": {
            "tags": []
          },
          "execution_count": 18
        }
      ]
    },
    {
      "cell_type": "code",
      "metadata": {
        "colab": {
          "base_uri": "https://localhost:8080/"
        },
        "id": "yT8nhmgTp7Ws",
        "outputId": "6ff433cc-27db-4d2a-dd5c-5b367dcf028f"
      },
      "source": [
        "np.empty((4,))"
      ],
      "execution_count": 19,
      "outputs": [
        {
          "output_type": "execute_result",
          "data": {
            "text/plain": [
              "array([0., 0., 0., 0.])"
            ]
          },
          "metadata": {
            "tags": []
          },
          "execution_count": 19
        }
      ]
    },
    {
      "cell_type": "markdown",
      "metadata": {
        "id": "_-9zU3yeqpUv"
      },
      "source": [
        "### Something like"
      ]
    },
    {
      "cell_type": "code",
      "metadata": {
        "colab": {
          "base_uri": "https://localhost:8080/"
        },
        "id": "ZiWemneSqHfe",
        "outputId": "abff89c7-1182-4351-c662-7218986c9033"
      },
      "source": [
        "a = np.arange(12).reshape(3, 4)\n",
        "np.ones_like(a)"
      ],
      "execution_count": 20,
      "outputs": [
        {
          "output_type": "execute_result",
          "data": {
            "text/plain": [
              "array([[1, 1, 1, 1],\n",
              "       [1, 1, 1, 1],\n",
              "       [1, 1, 1, 1]])"
            ]
          },
          "metadata": {
            "tags": []
          },
          "execution_count": 20
        }
      ]
    },
    {
      "cell_type": "code",
      "metadata": {
        "colab": {
          "base_uri": "https://localhost:8080/"
        },
        "id": "Kmm3WKiTqwrk",
        "outputId": "e6fa9061-a6e6-4f57-a0c0-257059a545a9"
      },
      "source": [
        "np.zeros_like(a)"
      ],
      "execution_count": 21,
      "outputs": [
        {
          "output_type": "execute_result",
          "data": {
            "text/plain": [
              "array([[0, 0, 0, 0],\n",
              "       [0, 0, 0, 0],\n",
              "       [0, 0, 0, 0]])"
            ]
          },
          "metadata": {
            "tags": []
          },
          "execution_count": 21
        }
      ]
    },
    {
      "cell_type": "code",
      "metadata": {
        "colab": {
          "base_uri": "https://localhost:8080/"
        },
        "id": "63uLpo9nrw2Z",
        "outputId": "bf2f6b2b-ccf4-41f4-c028-befa709ef08b"
      },
      "source": [
        "np.zeros_like(a).dtype"
      ],
      "execution_count": 26,
      "outputs": [
        {
          "output_type": "execute_result",
          "data": {
            "text/plain": [
              "dtype('int64')"
            ]
          },
          "metadata": {
            "tags": []
          },
          "execution_count": 26
        }
      ]
    },
    {
      "cell_type": "markdown",
      "metadata": {
        "id": "bhZRF-3XrAky"
      },
      "source": [
        "### 단위 행렬 - Identity"
      ]
    },
    {
      "cell_type": "code",
      "metadata": {
        "colab": {
          "base_uri": "https://localhost:8080/"
        },
        "id": "Xtu-4WTkq65A",
        "outputId": "1c0bef7f-6232-4f32-b94e-9eec4b636d98"
      },
      "source": [
        "np.identity(n = 3, dtype = np.int16)"
      ],
      "execution_count": 22,
      "outputs": [
        {
          "output_type": "execute_result",
          "data": {
            "text/plain": [
              "array([[1, 0, 0],\n",
              "       [0, 1, 0],\n",
              "       [0, 0, 1]], dtype=int16)"
            ]
          },
          "metadata": {
            "tags": []
          },
          "execution_count": 22
        }
      ]
    },
    {
      "cell_type": "code",
      "metadata": {
        "colab": {
          "base_uri": "https://localhost:8080/"
        },
        "id": "lsRu0BSTrWJa",
        "outputId": "42950859-0064-41d3-b5c5-5fc7c9515590"
      },
      "source": [
        "np.identity(3)"
      ],
      "execution_count": 25,
      "outputs": [
        {
          "output_type": "execute_result",
          "data": {
            "text/plain": [
              "array([[1., 0., 0.],\n",
              "       [0., 1., 0.],\n",
              "       [0., 0., 1.]])"
            ]
          },
          "metadata": {
            "tags": []
          },
          "execution_count": 25
        }
      ]
    },
    {
      "cell_type": "markdown",
      "metadata": {
        "id": "-6T1OqJmr0Yo"
      },
      "source": [
        "### Eye - 대각선이 1인 행렬"
      ]
    },
    {
      "cell_type": "code",
      "metadata": {
        "colab": {
          "base_uri": "https://localhost:8080/"
        },
        "id": "a9pZZhf5re1e",
        "outputId": "88069f8c-f15c-4326-d591-2bfd0d5751c5"
      },
      "source": [
        "np.eye(3, 5)"
      ],
      "execution_count": 27,
      "outputs": [
        {
          "output_type": "execute_result",
          "data": {
            "text/plain": [
              "array([[1., 0., 0., 0., 0.],\n",
              "       [0., 1., 0., 0., 0.],\n",
              "       [0., 0., 1., 0., 0.]])"
            ]
          },
          "metadata": {
            "tags": []
          },
          "execution_count": 27
        }
      ]
    },
    {
      "cell_type": "code",
      "metadata": {
        "colab": {
          "base_uri": "https://localhost:8080/"
        },
        "id": "XPcmvSVFr-0k",
        "outputId": "10b01bdb-4723-42e6-eefd-1caadd138fa8"
      },
      "source": [
        "np.eye(N = 3, M = 5, k = 2, dtype = np.int32)   # k : start index"
      ],
      "execution_count": 28,
      "outputs": [
        {
          "output_type": "execute_result",
          "data": {
            "text/plain": [
              "array([[0, 0, 1, 0, 0],\n",
              "       [0, 0, 0, 1, 0],\n",
              "       [0, 0, 0, 0, 1]], dtype=int32)"
            ]
          },
          "metadata": {
            "tags": []
          },
          "execution_count": 28
        }
      ]
    },
    {
      "cell_type": "code",
      "metadata": {
        "colab": {
          "base_uri": "https://localhost:8080/"
        },
        "id": "RQ-0N_wFsMMX",
        "outputId": "5a80b177-a87f-4a30-b46b-82631cfa6267"
      },
      "source": [
        "np.eye(4, 3, k = -1)"
      ],
      "execution_count": 29,
      "outputs": [
        {
          "output_type": "execute_result",
          "data": {
            "text/plain": [
              "array([[0., 0., 0.],\n",
              "       [1., 0., 0.],\n",
              "       [0., 1., 0.],\n",
              "       [0., 0., 1.]])"
            ]
          },
          "metadata": {
            "tags": []
          },
          "execution_count": 29
        }
      ]
    },
    {
      "cell_type": "markdown",
      "metadata": {
        "id": "aYWwvSWKs3Ot"
      },
      "source": [
        "### Diag - 대각선 위치의 값을 추출"
      ]
    },
    {
      "cell_type": "code",
      "metadata": {
        "colab": {
          "base_uri": "https://localhost:8080/"
        },
        "id": "80u8KdUpsft2",
        "outputId": "6b72210b-db1e-45e5-9e32-4418edf59b42"
      },
      "source": [
        "np.diag(np.arange(9).reshape(3, 3))"
      ],
      "execution_count": 31,
      "outputs": [
        {
          "output_type": "execute_result",
          "data": {
            "text/plain": [
              "array([0, 4, 8])"
            ]
          },
          "metadata": {
            "tags": []
          },
          "execution_count": 31
        }
      ]
    },
    {
      "cell_type": "code",
      "metadata": {
        "colab": {
          "base_uri": "https://localhost:8080/"
        },
        "id": "ers87lkjs1wT",
        "outputId": "50f6c910-3ef5-4c5c-f0da-e1301daf93da"
      },
      "source": [
        "np.diag(np.arange(9).reshape(3, 3), k = 1)"
      ],
      "execution_count": 32,
      "outputs": [
        {
          "output_type": "execute_result",
          "data": {
            "text/plain": [
              "array([1, 5])"
            ]
          },
          "metadata": {
            "tags": []
          },
          "execution_count": 32
        }
      ]
    },
    {
      "cell_type": "markdown",
      "metadata": {
        "id": "3q22P_gwtvNl"
      },
      "source": [
        "### Random sampling"
      ]
    },
    {
      "cell_type": "code",
      "metadata": {
        "colab": {
          "base_uri": "https://localhost:8080/"
        },
        "id": "9W4E4TnhtRor",
        "outputId": "d4535d10-b394-4921-d4c8-a08f0f2e96ca"
      },
      "source": [
        "np.random.seed(seed = 2021)\n",
        "np.random.random()"
      ],
      "execution_count": 35,
      "outputs": [
        {
          "output_type": "execute_result",
          "data": {
            "text/plain": [
              "0.6059782788074047"
            ]
          },
          "metadata": {
            "tags": []
          },
          "execution_count": 35
        }
      ]
    },
    {
      "cell_type": "code",
      "metadata": {
        "colab": {
          "base_uri": "https://localhost:8080/"
        },
        "id": "mNCaNYheuGv-",
        "outputId": "544631fe-22dc-4eb9-c82b-91b1749cab4c"
      },
      "source": [
        "# 균등분포\n",
        "np.random.uniform(size = 10)"
      ],
      "execution_count": 36,
      "outputs": [
        {
          "output_type": "execute_result",
          "data": {
            "text/plain": [
              "array([0.73336936, 0.13894716, 0.31267308, 0.99724328, 0.12816238,\n",
              "       0.17899311, 0.75292543, 0.66216051, 0.78431013, 0.0968944 ])"
            ]
          },
          "metadata": {
            "tags": []
          },
          "execution_count": 36
        }
      ]
    },
    {
      "cell_type": "code",
      "metadata": {
        "colab": {
          "base_uri": "https://localhost:8080/"
        },
        "id": "9Tkh_0ulup2i",
        "outputId": "2fc68675-61c5-4811-a103-e01f9cbe9e91"
      },
      "source": [
        "# 정규분포 - N(1,2)\n",
        "np.random.normal(1, 2, size = 10)"
      ],
      "execution_count": 38,
      "outputs": [
        {
          "output_type": "execute_result",
          "data": {
            "text/plain": [
              "array([ 1.71685504, -1.61124852,  5.04143686, -4.37360783,  2.11574313,\n",
              "        2.55235242,  1.40529983, -0.01471271,  3.11796435,  1.9264707 ])"
            ]
          },
          "metadata": {
            "tags": []
          },
          "execution_count": 38
        }
      ]
    },
    {
      "cell_type": "code",
      "metadata": {
        "colab": {
          "base_uri": "https://localhost:8080/"
        },
        "id": "PzFus5_dvQWM",
        "outputId": "1a762973-5ddb-4012-bb5a-d11aa4a24ca8"
      },
      "source": [
        "# 표준정규분포 - N(0,1)\n",
        "np.random.randn(10)"
      ],
      "execution_count": 39,
      "outputs": [
        {
          "output_type": "execute_result",
          "data": {
            "text/plain": [
              "array([ 0.49699852, -1.25014539, -1.51195802,  0.89457475,  0.24281041,\n",
              "        1.00678612, -0.04124402,  0.34396583,  0.02548591, -1.07844433])"
            ]
          },
          "metadata": {
            "tags": []
          },
          "execution_count": 39
        }
      ]
    },
    {
      "cell_type": "code",
      "metadata": {
        "colab": {
          "base_uri": "https://localhost:8080/",
          "height": 265
        },
        "id": "53f1egoawRJd",
        "outputId": "c02081e7-fe03-4d23-abdd-24cdf2e07c6f"
      },
      "source": [
        "rand_norm = np.random.randn(1000)\n",
        "plt.hist(rand_norm)             # Histogram\n",
        "plt.show()"
      ],
      "execution_count": 41,
      "outputs": [
        {
          "output_type": "display_data",
          "data": {
            "image/png": "[encoded data removed]",
            "text/plain": [
              "<Figure size 432x288 with 1 Axes>"
            ]
          },
          "metadata": {
            "tags": [],
            "needs_background": "light"
          }
        }
      ]
    },
    {
      "cell_type": "markdown",
      "metadata": {
        "id": "tOQTsA7Sw0pg"
      },
      "source": [
        "## 5. Operation"
      ]
    },
    {
      "cell_type": "markdown",
      "metadata": {
        "id": "BS7hZCb0w6Nc"
      },
      "source": [
        "### Sum과 Axis"
      ]
    },
    {
      "cell_type": "code",
      "metadata": {
        "colab": {
          "base_uri": "https://localhost:8080/"
        },
        "id": "QY2XpA2Dw3MK",
        "outputId": "92eac2b7-ff2d-48c5-f7a1-ca7bd8e42bcb"
      },
      "source": [
        "a = np.arange(1, 11)\n",
        "a.sum()"
      ],
      "execution_count": 42,
      "outputs": [
        {
          "output_type": "execute_result",
          "data": {
            "text/plain": [
              "55"
            ]
          },
          "metadata": {
            "tags": []
          },
          "execution_count": 42
        }
      ]
    },
    {
      "cell_type": "code",
      "metadata": {
        "colab": {
          "base_uri": "https://localhost:8080/"
        },
        "id": "DZZT-rB9xFGn",
        "outputId": "a8fad06a-bd35-429e-c8a1-47bcec9eb0bd"
      },
      "source": [
        "a = np.arange(1, 13).reshape(3, 4)\n",
        "a"
      ],
      "execution_count": 45,
      "outputs": [
        {
          "output_type": "execute_result",
          "data": {
            "text/plain": [
              "array([[ 1,  2,  3,  4],\n",
              "       [ 5,  6,  7,  8],\n",
              "       [ 9, 10, 11, 12]])"
            ]
          },
          "metadata": {
            "tags": []
          },
          "execution_count": 45
        }
      ]
    },
    {
      "cell_type": "code",
      "metadata": {
        "colab": {
          "base_uri": "https://localhost:8080/"
        },
        "id": "_H0TACasxLJA",
        "outputId": "e65c9187-655b-451a-8b68-56b5d950c5a2"
      },
      "source": [
        "a.sum()"
      ],
      "execution_count": 46,
      "outputs": [
        {
          "output_type": "execute_result",
          "data": {
            "text/plain": [
              "78"
            ]
          },
          "metadata": {
            "tags": []
          },
          "execution_count": 46
        }
      ]
    },
    {
      "cell_type": "code",
      "metadata": {
        "colab": {
          "base_uri": "https://localhost:8080/"
        },
        "id": "m5jg1xMixY7M",
        "outputId": "e4ef4d96-ead5-427a-cf72-2bda983faa08"
      },
      "source": [
        "# column의 합, row 방향 ↓\n",
        "a.sum(axis = 0)"
      ],
      "execution_count": 47,
      "outputs": [
        {
          "output_type": "execute_result",
          "data": {
            "text/plain": [
              "array([15, 18, 21, 24])"
            ]
          },
          "metadata": {
            "tags": []
          },
          "execution_count": 47
        }
      ]
    },
    {
      "cell_type": "code",
      "metadata": {
        "colab": {
          "base_uri": "https://localhost:8080/"
        },
        "id": "rk1CYWlZxrTO",
        "outputId": "7ff9da7a-907e-4679-93bb-3ef3c620a1d8"
      },
      "source": [
        "# row의 합, column 방향 →\n",
        "a.sum(axis = 1)"
      ],
      "execution_count": 48,
      "outputs": [
        {
          "output_type": "execute_result",
          "data": {
            "text/plain": [
              "array([10, 26, 42])"
            ]
          },
          "metadata": {
            "tags": []
          },
          "execution_count": 48
        }
      ]
    },
    {
      "cell_type": "code",
      "metadata": {
        "colab": {
          "base_uri": "https://localhost:8080/"
        },
        "id": "K0WEFnYsx5GL",
        "outputId": "2f67374d-a913-4caf-c836-fdba44f1f921"
      },
      "source": [
        "b = np.arange(1, 25).reshape(2, 3, 4)\n",
        "b"
      ],
      "execution_count": 50,
      "outputs": [
        {
          "output_type": "execute_result",
          "data": {
            "text/plain": [
              "array([[[ 1,  2,  3,  4],\n",
              "        [ 5,  6,  7,  8],\n",
              "        [ 9, 10, 11, 12]],\n",
              "\n",
              "       [[13, 14, 15, 16],\n",
              "        [17, 18, 19, 20],\n",
              "        [21, 22, 23, 24]]])"
            ]
          },
          "metadata": {
            "tags": []
          },
          "execution_count": 50
        }
      ]
    },
    {
      "cell_type": "code",
      "metadata": {
        "colab": {
          "base_uri": "https://localhost:8080/"
        },
        "id": "5G-hxAuLyR7O",
        "outputId": "8e6e20ae-4ab9-4125-dc4a-ff3ea4273388"
      },
      "source": [
        "b.sum(axis = 0)             # (2, 3, 4) --> (3, 4)"
      ],
      "execution_count": 51,
      "outputs": [
        {
          "output_type": "execute_result",
          "data": {
            "text/plain": [
              "array([[14, 16, 18, 20],\n",
              "       [22, 24, 26, 28],\n",
              "       [30, 32, 34, 36]])"
            ]
          },
          "metadata": {
            "tags": []
          },
          "execution_count": 51
        }
      ]
    },
    {
      "cell_type": "code",
      "metadata": {
        "colab": {
          "base_uri": "https://localhost:8080/"
        },
        "id": "01OMAuu8ycUP",
        "outputId": "797a9534-c6e4-4825-cea9-4167dcf72e27"
      },
      "source": [
        "b.sum(axis = 1)             # (2, 3, 4) --> (2, 4)"
      ],
      "execution_count": 52,
      "outputs": [
        {
          "output_type": "execute_result",
          "data": {
            "text/plain": [
              "array([[15, 18, 21, 24],\n",
              "       [51, 54, 57, 60]])"
            ]
          },
          "metadata": {
            "tags": []
          },
          "execution_count": 52
        }
      ]
    },
    {
      "cell_type": "code",
      "metadata": {
        "colab": {
          "base_uri": "https://localhost:8080/"
        },
        "id": "dsI4-TQKygt6",
        "outputId": "e3db74dc-d71b-4b59-d7b4-333a7e3e3af9"
      },
      "source": [
        "b.sum(axis = 2)             # (2, 3, 4) --> (2, 3)"
      ],
      "execution_count": 54,
      "outputs": [
        {
          "output_type": "execute_result",
          "data": {
            "text/plain": [
              "array([[10, 26, 42],\n",
              "       [58, 74, 90]])"
            ]
          },
          "metadata": {
            "tags": []
          },
          "execution_count": 54
        }
      ]
    },
    {
      "cell_type": "markdown",
      "metadata": {
        "id": "gz9aLYI21rJI"
      },
      "source": [
        "### 통계, 수학 함수"
      ]
    },
    {
      "cell_type": "code",
      "metadata": {
        "colab": {
          "base_uri": "https://localhost:8080/"
        },
        "id": "GX4i9KgmykzQ",
        "outputId": "96c235c0-1a3a-466d-e522-ffd822cd6580"
      },
      "source": [
        "a.mean(), a.var(), a.std()"
      ],
      "execution_count": 57,
      "outputs": [
        {
          "output_type": "execute_result",
          "data": {
            "text/plain": [
              "(6.5, 11.916666666666666, 3.452052529534663)"
            ]
          },
          "metadata": {
            "tags": []
          },
          "execution_count": 57
        }
      ]
    },
    {
      "cell_type": "code",
      "metadata": {
        "colab": {
          "base_uri": "https://localhost:8080/"
        },
        "id": "UlJhwhrW1v2b",
        "outputId": "cf408abb-5af7-4ebd-b48d-3a097e4d8256"
      },
      "source": [
        "a.mean(), a.mean(axis = 0), a.mean(axis = 1)"
      ],
      "execution_count": 58,
      "outputs": [
        {
          "output_type": "execute_result",
          "data": {
            "text/plain": [
              "(6.5, array([5., 6., 7., 8.]), array([ 2.5,  6.5, 10.5]))"
            ]
          },
          "metadata": {
            "tags": []
          },
          "execution_count": 58
        }
      ]
    },
    {
      "cell_type": "code",
      "metadata": {
        "colab": {
          "base_uri": "https://localhost:8080/"
        },
        "id": "I74as-B82JG0",
        "outputId": "e9d84ced-5882-410d-c164-89d79facf61a"
      },
      "source": [
        "np.exp(a)"
      ],
      "execution_count": 59,
      "outputs": [
        {
          "output_type": "execute_result",
          "data": {
            "text/plain": [
              "array([[2.71828183e+00, 7.38905610e+00, 2.00855369e+01, 5.45981500e+01],\n",
              "       [1.48413159e+02, 4.03428793e+02, 1.09663316e+03, 2.98095799e+03],\n",
              "       [8.10308393e+03, 2.20264658e+04, 5.98741417e+04, 1.62754791e+05]])"
            ]
          },
          "metadata": {
            "tags": []
          },
          "execution_count": 59
        }
      ]
    },
    {
      "cell_type": "markdown",
      "metadata": {
        "id": "elBsz6Ae271a"
      },
      "source": [
        "### Concatenate"
      ]
    },
    {
      "cell_type": "code",
      "metadata": {
        "colab": {
          "base_uri": "https://localhost:8080/"
        },
        "id": "CdfmA1jR21dK",
        "outputId": "d8339688-ac61-4de0-8b1a-22614b6ed746"
      },
      "source": [
        "a = np.arange(1, 5).reshape(2, 2)\n",
        "b = np.arange(5, 7).reshape(1, 2)\n",
        "np.vstack((a, b))"
      ],
      "execution_count": 60,
      "outputs": [
        {
          "output_type": "execute_result",
          "data": {
            "text/plain": [
              "array([[1, 2],\n",
              "       [3, 4],\n",
              "       [5, 6]])"
            ]
          },
          "metadata": {
            "tags": []
          },
          "execution_count": 60
        }
      ]
    },
    {
      "cell_type": "code",
      "metadata": {
        "colab": {
          "base_uri": "https://localhost:8080/"
        },
        "id": "MxbNBitg3S9D",
        "outputId": "91b17bab-3e5b-451f-bc8b-d24a643c3dc4"
      },
      "source": [
        "np.concatenate((a, b), axis = 0)"
      ],
      "execution_count": 61,
      "outputs": [
        {
          "output_type": "execute_result",
          "data": {
            "text/plain": [
              "array([[1, 2],\n",
              "       [3, 4],\n",
              "       [5, 6]])"
            ]
          },
          "metadata": {
            "tags": []
          },
          "execution_count": 61
        }
      ]
    },
    {
      "cell_type": "code",
      "metadata": {
        "colab": {
          "base_uri": "https://localhost:8080/"
        },
        "id": "nmecfYsX36aP",
        "outputId": "24a59177-5f3f-4390-fd62-bbded871dc60"
      },
      "source": [
        "# 전치행렬(Transpose) : (1,2) -> (2,1)\n",
        "b.T"
      ],
      "execution_count": 62,
      "outputs": [
        {
          "output_type": "execute_result",
          "data": {
            "text/plain": [
              "array([[5],\n",
              "       [6]])"
            ]
          },
          "metadata": {
            "tags": []
          },
          "execution_count": 62
        }
      ]
    },
    {
      "cell_type": "code",
      "metadata": {
        "colab": {
          "base_uri": "https://localhost:8080/"
        },
        "id": "f3qW2dKC3gEu",
        "outputId": "d1b93c0e-f11a-4c11-e305-93452dc9e4a0"
      },
      "source": [
        "np.hstack((a, b.T))"
      ],
      "execution_count": 63,
      "outputs": [
        {
          "output_type": "execute_result",
          "data": {
            "text/plain": [
              "array([[1, 2, 5],\n",
              "       [3, 4, 6]])"
            ]
          },
          "metadata": {
            "tags": []
          },
          "execution_count": 63
        }
      ]
    },
    {
      "cell_type": "code",
      "metadata": {
        "colab": {
          "base_uri": "https://localhost:8080/"
        },
        "id": "N2YsPPbZ4Htz",
        "outputId": "e2ddcddb-2869-4bf9-f06a-8513fbf9a6a6"
      },
      "source": [
        "np.concatenate((a, b.T), axis = 1)"
      ],
      "execution_count": 64,
      "outputs": [
        {
          "output_type": "execute_result",
          "data": {
            "text/plain": [
              "array([[1, 2, 5],\n",
              "       [3, 4, 6]])"
            ]
          },
          "metadata": {
            "tags": []
          },
          "execution_count": 64
        }
      ]
    }
  ]
}