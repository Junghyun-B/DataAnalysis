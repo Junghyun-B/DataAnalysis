{
  "nbformat": 4,
  "nbformat_minor": 0,
  "metadata": {
    "colab": {
      "name": "210806과제_Numpy_연습문제.ipynb",
      "provenance": [],
      "collapsed_sections": []
    },
    "kernelspec": {
      "name": "python3",
      "display_name": "Python 3"
    },
    "language_info": {
      "name": "python"
    }
  },
  "cells": [
    {
      "cell_type": "code",
      "metadata": {
        "id": "UlSryOxaKj6S"
      },
      "source": [
        "import numpy as np"
      ],
      "execution_count": 1,
      "outputs": []
    },
    {
      "cell_type": "markdown",
      "metadata": {
        "id": "_nmpvEYoKSuS"
      },
      "source": [
        "## 1. 넘파이를 사용하여 다음과 같은 행렬을 만드시오\n",
        "        10 20 30 40\n",
        "        50 60 70 80"
      ]
    },
    {
      "cell_type": "code",
      "metadata": {
        "colab": {
          "base_uri": "https://localhost:8080/"
        },
        "id": "snQHztQvlNVw",
        "outputId": "bb6e84cc-4f3c-4f68-ca8a-3151648d2582"
      },
      "source": [
        "np.arange(1, 9).reshape(2, 4) * 10"
      ],
      "execution_count": 2,
      "outputs": [
        {
          "output_type": "execute_result",
          "data": {
            "text/plain": [
              "array([[10, 20, 30, 40],\n",
              "       [50, 60, 70, 80]])"
            ]
          },
          "metadata": {
            "tags": []
          },
          "execution_count": 2
        }
      ]
    },
    {
      "cell_type": "markdown",
      "metadata": {
        "id": "_KL-O63OKypC"
      },
      "source": [
        "## 2. 다음과 같은 행렬이 있다.\n",
        "\n",
        "\n",
        "    \n",
        "        m = np.array([[0, 1, 2, 3, 4],\n",
        "                    [5, 6, 7, 8, 9],\n",
        "                    [10, 11, 12, 13 14]])"
      ]
    },
    {
      "cell_type": "code",
      "metadata": {
        "colab": {
          "base_uri": "https://localhost:8080/"
        },
        "id": "2yPz2PfpKvMe",
        "outputId": "707aa00e-5c35-4764-ed5c-1662818aa803"
      },
      "source": [
        "m = np.arange(15).reshape(3, 5)\n",
        "m"
      ],
      "execution_count": 3,
      "outputs": [
        {
          "output_type": "execute_result",
          "data": {
            "text/plain": [
              "array([[ 0,  1,  2,  3,  4],\n",
              "       [ 5,  6,  7,  8,  9],\n",
              "       [10, 11, 12, 13, 14]])"
            ]
          },
          "metadata": {
            "tags": []
          },
          "execution_count": 3
        }
      ]
    },
    {
      "cell_type": "code",
      "metadata": {
        "colab": {
          "base_uri": "https://localhost:8080/"
        },
        "id": "njuWECtXMS7o",
        "outputId": "4ed83fe0-a8ee-42c2-ae01-58d93e2bd7d9"
      },
      "source": [
        "# 1) 이 행렬에서 값 7을 인덱싱한다.\n",
        "m[1, 2]"
      ],
      "execution_count": 4,
      "outputs": [
        {
          "output_type": "execute_result",
          "data": {
            "text/plain": [
              "7"
            ]
          },
          "metadata": {
            "tags": []
          },
          "execution_count": 4
        }
      ]
    },
    {
      "cell_type": "code",
      "metadata": {
        "colab": {
          "base_uri": "https://localhost:8080/"
        },
        "id": "X6fCsv5FNUZa",
        "outputId": "088461f2-887a-42ad-9895-8357c51dd03c"
      },
      "source": [
        "# 2) 이 행렬에서 값 14를 인덱싱한다.\n",
        "m[2, 4], m[-1, -1]"
      ],
      "execution_count": 5,
      "outputs": [
        {
          "output_type": "execute_result",
          "data": {
            "text/plain": [
              "(14, 14)"
            ]
          },
          "metadata": {
            "tags": []
          },
          "execution_count": 5
        }
      ]
    },
    {
      "cell_type": "code",
      "metadata": {
        "colab": {
          "base_uri": "https://localhost:8080/"
        },
        "id": "M3Ve0BqLNaqy",
        "outputId": "97ded2f6-3588-46b3-eb25-aa8ad57a4b6c"
      },
      "source": [
        "# 3) 이 행렬에서 배열 [6,7]을 슬라이싱한다.\n",
        "m[1, 1:3]"
      ],
      "execution_count": 6,
      "outputs": [
        {
          "output_type": "execute_result",
          "data": {
            "text/plain": [
              "array([6, 7])"
            ]
          },
          "metadata": {
            "tags": []
          },
          "execution_count": 6
        }
      ]
    },
    {
      "cell_type": "code",
      "metadata": {
        "colab": {
          "base_uri": "https://localhost:8080/"
        },
        "id": "aGnjg8YmNzcv",
        "outputId": "c5fd83f4-18ae-44cd-bd49-4c92a7c702a3"
      },
      "source": [
        "# 4) 이 행렬에서 배열 [7, 12]을 슬라이싱한다.\n",
        "m[1:, 2]"
      ],
      "execution_count": 7,
      "outputs": [
        {
          "output_type": "execute_result",
          "data": {
            "text/plain": [
              "array([ 7, 12])"
            ]
          },
          "metadata": {
            "tags": []
          },
          "execution_count": 7
        }
      ]
    },
    {
      "cell_type": "code",
      "metadata": {
        "colab": {
          "base_uri": "https://localhost:8080/"
        },
        "id": "BZXwYcbcN-H_",
        "outputId": "d89e1ca8-6856-46c5-93be-d6dc8d43da74"
      },
      "source": [
        "# 5) 이 행렬에서 배열 [[3, 4], [8, 9]]을 슬라이싱한다.\n",
        "m[:2, 3:]"
      ],
      "execution_count": 8,
      "outputs": [
        {
          "output_type": "execute_result",
          "data": {
            "text/plain": [
              "array([[3, 4],\n",
              "       [8, 9]])"
            ]
          },
          "metadata": {
            "tags": []
          },
          "execution_count": 8
        }
      ]
    },
    {
      "cell_type": "markdown",
      "metadata": {
        "id": "MTzGZc5LOwDm"
      },
      "source": [
        "## 3. 2번의 행렬 m을 1차원 벡터 f로 변환한 후 다음의 문제를 푸시오."
      ]
    },
    {
      "cell_type": "code",
      "metadata": {
        "id": "11n78a10maDf"
      },
      "source": [
        "f = m.flatten()"
      ],
      "execution_count": 9,
      "outputs": []
    },
    {
      "cell_type": "code",
      "metadata": {
        "colab": {
          "base_uri": "https://localhost:8080/"
        },
        "id": "LavpiuanPMis",
        "outputId": "dd6d09f8-ef5e-4f19-b61f-9de12e291717"
      },
      "source": [
        "# 1) 이 배열에서 3의 배수를 찾아라.\n",
        "f[f % 3 == 0]"
      ],
      "execution_count": 10,
      "outputs": [
        {
          "output_type": "execute_result",
          "data": {
            "text/plain": [
              "array([ 0,  3,  6,  9, 12])"
            ]
          },
          "metadata": {
            "tags": []
          },
          "execution_count": 10
        }
      ]
    },
    {
      "cell_type": "code",
      "metadata": {
        "colab": {
          "base_uri": "https://localhost:8080/"
        },
        "id": "F4QicAwwPtYp",
        "outputId": "c7eba5b6-4d9c-46c2-b2b2-cf14673015c8"
      },
      "source": [
        "# 2) 이 배열에서 4로 나누면 1이 남는 수를 찾아라.\n",
        "f[f % 4 == 1]"
      ],
      "execution_count": 11,
      "outputs": [
        {
          "output_type": "execute_result",
          "data": {
            "text/plain": [
              "array([ 1,  5,  9, 13])"
            ]
          },
          "metadata": {
            "tags": []
          },
          "execution_count": 11
        }
      ]
    },
    {
      "cell_type": "code",
      "metadata": {
        "colab": {
          "base_uri": "https://localhost:8080/"
        },
        "id": "l9l-ObELP6GF",
        "outputId": "c74de932-ef4e-49e8-efec-ac24c2aa1368"
      },
      "source": [
        "# 3) 이 배열에서 3으로 나누면 나누어지고 4로 나누면 1이 남는 수를 찾아라.\n",
        "f[np.logical_and(f % 3 ==0, f % 4 ==1)]"
      ],
      "execution_count": 13,
      "outputs": [
        {
          "output_type": "execute_result",
          "data": {
            "text/plain": [
              "array([9])"
            ]
          },
          "metadata": {
            "tags": []
          },
          "execution_count": 13
        }
      ]
    },
    {
      "cell_type": "markdown",
      "metadata": {
        "id": "Qt3FG-HqQgDp"
      },
      "source": [
        "## 4. 값을 직접 입력하지 말고 아래의 행렬을 만드시오.\n",
        "\n",
        "        2, 1, 0, 0, 0\n",
        "        3, 2, 1, 0, 0\n",
        "        0, 3, 2, 1, 0\n",
        "        0, 0, 3, 2, 1\n",
        "        0, 0, 0, 3, 2"
      ]
    },
    {
      "cell_type": "code",
      "metadata": {
        "colab": {
          "base_uri": "https://localhost:8080/"
        },
        "id": "pr1lHaHPm2Kp",
        "outputId": "d51fcc18-0be7-48c0-af79-1ef01890b791"
      },
      "source": [
        "np.eye(5, 5, k = -1) * 3 + np.eye(5, 5) * 2 + np.eye(5, 5, k = 1)"
      ],
      "execution_count": 14,
      "outputs": [
        {
          "output_type": "execute_result",
          "data": {
            "text/plain": [
              "array([[2., 1., 0., 0., 0.],\n",
              "       [3., 2., 1., 0., 0.],\n",
              "       [0., 3., 2., 1., 0.],\n",
              "       [0., 0., 3., 2., 1.],\n",
              "       [0., 0., 0., 3., 2.]])"
            ]
          },
          "metadata": {
            "tags": []
          },
          "execution_count": 14
        }
      ]
    },
    {
      "cell_type": "code",
      "metadata": {
        "colab": {
          "base_uri": "https://localhost:8080/"
        },
        "id": "F1geofIGQCz6",
        "outputId": "2acf24a4-f782-4f5e-cabf-8e0f88dd2626"
      },
      "source": [
        "a = np.eye(5, 5, dtype = np.int64)\n",
        "a = a * 2\n",
        "b = np.eye(5, 5, k = 1, dtype = np.int64)\n",
        "c = np.eye(5, 5, k = -1, dtype = np.int64)\n",
        "c = c * 3\n",
        "a + b + c"
      ],
      "execution_count": 15,
      "outputs": [
        {
          "output_type": "execute_result",
          "data": {
            "text/plain": [
              "array([[2, 1, 0, 0, 0],\n",
              "       [3, 2, 1, 0, 0],\n",
              "       [0, 3, 2, 1, 0],\n",
              "       [0, 0, 3, 2, 1],\n",
              "       [0, 0, 0, 3, 2]])"
            ]
          },
          "metadata": {
            "tags": []
          },
          "execution_count": 15
        }
      ]
    },
    {
      "cell_type": "markdown",
      "metadata": {
        "id": "2Eo53puCR1-Q"
      },
      "source": [
        "## 5. 0에서 10까지 랜덤 실수값으로 이루어진 5 x 6 형태의 데이터 행렬을 만들고, 이 데이터에 대해 다음과 같은 값을 구하시오."
      ]
    },
    {
      "cell_type": "code",
      "metadata": {
        "colab": {
          "base_uri": "https://localhost:8080/"
        },
        "id": "oOvCkh5inLcj",
        "outputId": "3f8a7629-7b1f-49ca-efdb-da8784c8ab6e"
      },
      "source": [
        "np.random.seed(2021)\n",
        "m = np.random.uniform(0, 10, 30).reshape(5, 6).round(4)\n",
        "m"
      ],
      "execution_count": 18,
      "outputs": [
        {
          "output_type": "execute_result",
          "data": {
            "text/plain": [
              "array([[6.0598, 7.3337, 1.3895, 3.1267, 9.9724, 1.2816],\n",
              "       [1.7899, 7.5293, 6.6216, 7.8431, 0.9689, 0.5857],\n",
              "       [9.624 , 6.1656, 0.8663, 5.6127, 6.1652, 9.6384],\n",
              "       [5.743 , 3.7116, 4.5215, 2.0185, 5.6931, 1.951 ],\n",
              "       [5.837 , 4.7631, 5.1781, 8.231 , 7.3223, 0.6906]])"
            ]
          },
          "metadata": {
            "tags": []
          },
          "execution_count": 18
        }
      ]
    },
    {
      "cell_type": "code",
      "metadata": {
        "colab": {
          "base_uri": "https://localhost:8080/"
        },
        "id": "NFHBMDptngGl",
        "outputId": "3a58bb24-0110-400e-819c-52c739ed8b18"
      },
      "source": [
        "# 5 - 1\n",
        "np.max(m)"
      ],
      "execution_count": 19,
      "outputs": [
        {
          "output_type": "execute_result",
          "data": {
            "text/plain": [
              "9.9724"
            ]
          },
          "metadata": {
            "tags": []
          },
          "execution_count": 19
        }
      ]
    },
    {
      "cell_type": "code",
      "metadata": {
        "colab": {
          "base_uri": "https://localhost:8080/"
        },
        "id": "PPZuqNMfnrJo",
        "outputId": "58ded583-5db8-415f-8862-08e40afa990a"
      },
      "source": [
        "# 5 - 2\n",
        "np.sum(m, axis = 1)"
      ],
      "execution_count": 20,
      "outputs": [
        {
          "output_type": "execute_result",
          "data": {
            "text/plain": [
              "array([29.1637, 25.3385, 38.0722, 23.6387, 32.0221])"
            ]
          },
          "metadata": {
            "tags": []
          },
          "execution_count": 20
        }
      ]
    },
    {
      "cell_type": "code",
      "metadata": {
        "colab": {
          "base_uri": "https://localhost:8080/"
        },
        "id": "ixM-5YhKnxip",
        "outputId": "25742010-dd99-4b21-c04e-8f5cfa7589df"
      },
      "source": [
        "# 5 - 3\n",
        "np.max(m, axis = 1)"
      ],
      "execution_count": 21,
      "outputs": [
        {
          "output_type": "execute_result",
          "data": {
            "text/plain": [
              "array([9.9724, 7.8431, 9.6384, 5.743 , 8.231 ])"
            ]
          },
          "metadata": {
            "tags": []
          },
          "execution_count": 21
        }
      ]
    },
    {
      "cell_type": "code",
      "metadata": {
        "colab": {
          "base_uri": "https://localhost:8080/"
        },
        "id": "rbCtBuN6n6em",
        "outputId": "031e8756-081e-4f4f-f2a4-7b265b215206"
      },
      "source": [
        "# 5 - 4\n",
        "np.mean(m, axis = 0)"
      ],
      "execution_count": 22,
      "outputs": [
        {
          "output_type": "execute_result",
          "data": {
            "text/plain": [
              "array([5.81074, 5.90066, 3.7154 , 5.3664 , 6.02438, 2.82946])"
            ]
          },
          "metadata": {
            "tags": []
          },
          "execution_count": 22
        }
      ]
    },
    {
      "cell_type": "code",
      "metadata": {
        "colab": {
          "base_uri": "https://localhost:8080/"
        },
        "id": "yotkiKZ2oAVb",
        "outputId": "215705dd-86ee-4f06-8d1b-34c480b75680"
      },
      "source": [
        "# 5 - 5\n",
        "np.min(m, axis = 0)"
      ],
      "execution_count": 23,
      "outputs": [
        {
          "output_type": "execute_result",
          "data": {
            "text/plain": [
              "array([1.7899, 3.7116, 0.8663, 2.0185, 0.9689, 0.5857])"
            ]
          },
          "metadata": {
            "tags": []
          },
          "execution_count": 23
        }
      ]
    },
    {
      "cell_type": "code",
      "metadata": {
        "colab": {
          "base_uri": "https://localhost:8080/"
        },
        "id": "h8QUHyMTSDdv",
        "outputId": "28a53d53-c188-44a7-9f96-0348a4fe8e08"
      },
      "source": [
        "m = np.random.uniform(0, 10, 30).reshape(5, 6)\n",
        "m"
      ],
      "execution_count": 44,
      "outputs": [
        {
          "output_type": "execute_result",
          "data": {
            "text/plain": [
              "array([[3.57680185, 7.53564802, 5.1589753 , 5.42474965, 8.0163574 ,\n",
              "        7.43703485],\n",
              "       [1.06534801, 3.8197143 , 0.71863816, 0.39412839, 6.4394694 ,\n",
              "        7.18546485],\n",
              "       [2.45590949, 1.29063637, 1.32260449, 0.2124251 , 0.53072487,\n",
              "        4.13673763],\n",
              "       [3.75117368, 9.76341706, 5.37353995, 6.03704677, 0.86509967,\n",
              "        1.25881195],\n",
              "       [7.84823821, 0.57516273, 5.90785676, 9.34754267, 9.08920028,\n",
              "        4.2895815 ]])"
            ]
          },
          "metadata": {
            "tags": []
          },
          "execution_count": 44
        }
      ]
    },
    {
      "cell_type": "code",
      "metadata": {
        "colab": {
          "base_uri": "https://localhost:8080/"
        },
        "id": "7BhbQn1IRWDB",
        "outputId": "4a62fe38-1737-4489-f524-da71ed7c9a23"
      },
      "source": [
        "# 1) 전체의 최댓값\n",
        "n = np.argmax(m)\n",
        "row, col = n // 5 , n % 6\n",
        "m[row, col] "
      ],
      "execution_count": 48,
      "outputs": [
        {
          "output_type": "execute_result",
          "data": {
            "text/plain": [
              "9.763417059035845"
            ]
          },
          "metadata": {
            "tags": []
          },
          "execution_count": 48
        }
      ]
    },
    {
      "cell_type": "code",
      "metadata": {
        "colab": {
          "base_uri": "https://localhost:8080/"
        },
        "id": "jj4yVlnnShEY",
        "outputId": "9fb22594-13e1-4da2-d9d7-bf7f3e1f1bdc"
      },
      "source": [
        "# 2) 각 행의 합\n",
        "m.sum(axis = 1)"
      ],
      "execution_count": 49,
      "outputs": [
        {
          "output_type": "execute_result",
          "data": {
            "text/plain": [
              "array([37.14956707, 19.6227631 ,  9.94903795, 27.04908907, 37.05758214])"
            ]
          },
          "metadata": {
            "tags": []
          },
          "execution_count": 49
        }
      ]
    },
    {
      "cell_type": "code",
      "metadata": {
        "colab": {
          "base_uri": "https://localhost:8080/"
        },
        "id": "dMcCipeYWWL7",
        "outputId": "5abedbc3-c1d1-4bb5-99c6-37ec14185747"
      },
      "source": [
        "# 3) 각 행의 최댓값\n",
        "n = np.max(m, axis = 1)\n",
        "n"
      ],
      "execution_count": 69,
      "outputs": [
        {
          "output_type": "execute_result",
          "data": {
            "text/plain": [
              "array([8.0163574 , 7.18546485, 4.13673763, 9.76341706, 9.34754267])"
            ]
          },
          "metadata": {
            "tags": []
          },
          "execution_count": 69
        }
      ]
    },
    {
      "cell_type": "code",
      "metadata": {
        "colab": {
          "base_uri": "https://localhost:8080/"
        },
        "id": "7ljrzAG6WgA0",
        "outputId": "20199f37-8321-4d52-b69e-ff8986785cfd"
      },
      "source": [
        "# 4) 각 열의 평균\n",
        "m.mean(axis = 0)"
      ],
      "execution_count": 51,
      "outputs": [
        {
          "output_type": "execute_result",
          "data": {
            "text/plain": [
              "array([3.73949425, 4.59691569, 3.69632293, 4.28317851, 4.98817032,\n",
              "       4.86152615])"
            ]
          },
          "metadata": {
            "tags": []
          },
          "execution_count": 51
        }
      ]
    },
    {
      "cell_type": "code",
      "metadata": {
        "colab": {
          "base_uri": "https://localhost:8080/"
        },
        "id": "L2wQzcnhWiGs",
        "outputId": "88aa222c-c461-40a4-c9da-3fe9e64006fa"
      },
      "source": [
        "# 5) 각 열의 최솟값\n",
        "n = np.min(m, axis = 0)\n",
        "n"
      ],
      "execution_count": 70,
      "outputs": [
        {
          "output_type": "execute_result",
          "data": {
            "text/plain": [
              "array([1.06534801, 0.57516273, 0.71863816, 0.2124251 , 0.53072487,\n",
              "       1.25881195])"
            ]
          },
          "metadata": {
            "tags": []
          },
          "execution_count": 70
        }
      ]
    },
    {
      "cell_type": "markdown",
      "metadata": {
        "id": "GlJXuzRPaj2A"
      },
      "source": [
        "## 6. 다음 배열은 첫번째 행(row)에 학번, 두번째 행에 영어 성적, 세번째 행에 수학 성적을 적은 배열이다. 영어 성적을 기준으로 각 열(column)을 재정렬하시오.\n",
        "        array([[1, 2, 3, 4],\n",
        "            [46, 99, 100, 71],\n",
        "            [81, 59, 90, 100]])"
      ]
    },
    {
      "cell_type": "code",
      "metadata": {
        "colab": {
          "base_uri": "https://localhost:8080/"
        },
        "id": "-pw5SFYVZRor",
        "outputId": "e93b3b65-7257-4aa4-d811-8f0878c92962"
      },
      "source": [
        "score = np.array([[1, 2, 3, 4], [46, 99, 100, 71], [81, 59, 90, 100]])\n",
        "score"
      ],
      "execution_count": 24,
      "outputs": [
        {
          "output_type": "execute_result",
          "data": {
            "text/plain": [
              "array([[  1,   2,   3,   4],\n",
              "       [ 46,  99, 100,  71],\n",
              "       [ 81,  59,  90, 100]])"
            ]
          },
          "metadata": {
            "tags": []
          },
          "execution_count": 24
        }
      ]
    },
    {
      "cell_type": "code",
      "metadata": {
        "colab": {
          "base_uri": "https://localhost:8080/"
        },
        "id": "i7ofzq7Fod9R",
        "outputId": "d7f176dc-4086-414c-903e-e57e55ec53a0"
      },
      "source": [
        "np.sort(score)"
      ],
      "execution_count": 25,
      "outputs": [
        {
          "output_type": "execute_result",
          "data": {
            "text/plain": [
              "array([[  1,   2,   3,   4],\n",
              "       [ 46,  71,  99, 100],\n",
              "       [ 59,  81,  90, 100]])"
            ]
          },
          "metadata": {
            "tags": []
          },
          "execution_count": 25
        }
      ]
    },
    {
      "cell_type": "code",
      "metadata": {
        "colab": {
          "base_uri": "https://localhost:8080/"
        },
        "id": "ehNIpZkxouVL",
        "outputId": "4574ada5-16e6-4214-fd6d-b863aae45932"
      },
      "source": [
        "s = np.argsort(score[1])\n",
        "s"
      ],
      "execution_count": 26,
      "outputs": [
        {
          "output_type": "execute_result",
          "data": {
            "text/plain": [
              "array([0, 3, 1, 2])"
            ]
          },
          "metadata": {
            "tags": []
          },
          "execution_count": 26
        }
      ]
    },
    {
      "cell_type": "code",
      "metadata": {
        "colab": {
          "base_uri": "https://localhost:8080/"
        },
        "id": "g_1gWBQHo3lk",
        "outputId": "d5fc1226-573d-4a65-9a2b-d7e552b7dda2"
      },
      "source": [
        "# 내림차순\n",
        "s[::-1]"
      ],
      "execution_count": 27,
      "outputs": [
        {
          "output_type": "execute_result",
          "data": {
            "text/plain": [
              "array([2, 1, 3, 0])"
            ]
          },
          "metadata": {
            "tags": []
          },
          "execution_count": 27
        }
      ]
    },
    {
      "cell_type": "code",
      "metadata": {
        "colab": {
          "base_uri": "https://localhost:8080/"
        },
        "id": "zfiSlYMKo9kE",
        "outputId": "1827ccc5-cfcc-44a4-d9e9-e945bdbd6ef9"
      },
      "source": [
        "score[:, s[::-1]]"
      ],
      "execution_count": 28,
      "outputs": [
        {
          "output_type": "execute_result",
          "data": {
            "text/plain": [
              "array([[  3,   2,   4,   1],\n",
              "       [100,  99,  71,  46],\n",
              "       [ 90,  59, 100,  81]])"
            ]
          },
          "metadata": {
            "tags": []
          },
          "execution_count": 28
        }
      ]
    },
    {
      "cell_type": "code",
      "metadata": {
        "colab": {
          "base_uri": "https://localhost:8080/"
        },
        "id": "ujwWxUE1pKlz",
        "outputId": "e518744a-cd43-460a-b3a0-d4345a13df85"
      },
      "source": [
        "# 한 번에 작성\n",
        "score[:, np.argsort(score[1])[::-1]]"
      ],
      "execution_count": 29,
      "outputs": [
        {
          "output_type": "execute_result",
          "data": {
            "text/plain": [
              "array([[  3,   2,   4,   1],\n",
              "       [100,  99,  71,  46],\n",
              "       [ 90,  59, 100,  81]])"
            ]
          },
          "metadata": {
            "tags": []
          },
          "execution_count": 29
        }
      ]
    },
    {
      "cell_type": "markdown",
      "metadata": {
        "id": "RRD2MIgdbYmC"
      },
      "source": [
        "## 7. 주사위를 100번 던지는 가상 실험을 파이썬으로 작성하고, 던져서 나오는 숫자의 평균을 구하시오."
      ]
    },
    {
      "cell_type": "code",
      "metadata": {
        "colab": {
          "base_uri": "https://localhost:8080/"
        },
        "id": "NcMXDnIMbfOB",
        "outputId": "2033cd54-2e5a-422e-91aa-3685fc08e627"
      },
      "source": [
        "np.random.seed(2021)\n",
        "dice = np.random.randint(1, 7, 100)\n",
        "dice"
      ],
      "execution_count": 30,
      "outputs": [
        {
          "output_type": "execute_result",
          "data": {
            "text/plain": [
              "array([5, 6, 2, 1, 6, 5, 4, 6, 6, 6, 1, 5, 2, 6, 2, 2, 5, 6, 3, 3, 1, 4,\n",
              "       2, 1, 3, 4, 5, 6, 1, 6, 2, 3, 6, 2, 6, 2, 3, 3, 5, 6, 3, 4, 2, 3,\n",
              "       3, 1, 3, 5, 6, 4, 4, 2, 2, 2, 3, 6, 4, 4, 5, 4, 2, 5, 2, 2, 5, 4,\n",
              "       6, 4, 4, 4, 3, 2, 4, 3, 6, 3, 3, 1, 5, 4, 2, 4, 2, 5, 3, 4, 2, 3,\n",
              "       6, 3, 6, 3, 4, 5, 6, 2, 2, 6, 1, 6])"
            ]
          },
          "metadata": {
            "tags": []
          },
          "execution_count": 30
        }
      ]
    },
    {
      "cell_type": "code",
      "metadata": {
        "colab": {
          "base_uri": "https://localhost:8080/"
        },
        "id": "ydqVQkp3plnB",
        "outputId": "5f93d714-5cf9-43b5-f24a-4c31e5e63965"
      },
      "source": [
        "np.mean(dice)"
      ],
      "execution_count": 31,
      "outputs": [
        {
          "output_type": "execute_result",
          "data": {
            "text/plain": [
              "3.7"
            ]
          },
          "metadata": {
            "tags": []
          },
          "execution_count": 31
        }
      ]
    },
    {
      "cell_type": "code",
      "metadata": {
        "colab": {
          "base_uri": "https://localhost:8080/"
        },
        "id": "bc4FbiEUp5bm",
        "outputId": "d37575f8-9663-48ad-be33-e7fe62662fd6"
      },
      "source": [
        "np.unique(dice)"
      ],
      "execution_count": 32,
      "outputs": [
        {
          "output_type": "execute_result",
          "data": {
            "text/plain": [
              "array([1, 2, 3, 4, 5, 6])"
            ]
          },
          "metadata": {
            "tags": []
          },
          "execution_count": 32
        }
      ]
    },
    {
      "cell_type": "markdown",
      "metadata": {
        "id": "L1F2iP2fcoGl"
      },
      "source": [
        "## 8. 가격이 10,000원인 주식이 있다. 이 주식의 일간 수익률(%)은 기댓값이 0%이고, 표준편차가 1%인 표준 정규 분포를 따른다고 하자. 250일 동안의 주가를 무작위로 생성하시오."
      ]
    }
  ]
}