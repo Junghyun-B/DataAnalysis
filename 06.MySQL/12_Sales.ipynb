{
  "nbformat": 4,
  "nbformat_minor": 0,
  "metadata": {
    "colab": {
      "name": "12_Sales.ipynb",
      "provenance": [],
      "collapsed_sections": []
    },
    "kernelspec": {
      "name": "python3",
      "display_name": "Python 3"
    },
    "language_info": {
      "name": "python"
    }
  },
  "cells": [
    {
      "cell_type": "markdown",
      "metadata": {
        "id": "4M46KQuGbc3h"
      },
      "source": [
        "# MySQL 실습 프로젝트"
      ]
    },
    {
      "cell_type": "code",
      "metadata": {
        "id": "gMZJzUZDDGME"
      },
      "source": [
        "!pip install pymysql > /dev/null\n",
        "!apt-get install -y fonts-nanum > /dev/null\n",
        "!fc-cache -fv > /dev/null\n",
        "!rm -rf ~/.cache/matplotlib > /dev/null"
      ],
      "execution_count": null,
      "outputs": []
    },
    {
      "cell_type": "code",
      "metadata": {
        "colab": {
          "resources": {
            "http://localhost:8080/nbextensions/google.colab/files.js": {
              "data": "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",
              "ok": true,
              "headers": [
                [
                  "content-type",
                  "application/javascript"
                ]
              ],
              "status": 200,
              "status_text": ""
            }
          },
          "base_uri": "https://localhost:8080/",
          "height": 76
        },
        "id": "8niYgTEgDORy",
        "outputId": "48049b11-536d-44c3-c7fa-b0830ae5fae1"
      },
      "source": [
        "from google.colab import files\n",
        "uploaded = files.upload()\n",
        "filename = list(uploaded.keys())[0]"
      ],
      "execution_count": null,
      "outputs": [
        {
          "output_type": "display_data",
          "data": {
            "text/html": [
              "\n",
              "     <input type=\"file\" id=\"files-ce60a3b9-4ca4-4e0f-8727-ce54488cf2c5\" name=\"files[]\" multiple disabled\n",
              "        style=\"border:none\" />\n",
              "     <output id=\"result-ce60a3b9-4ca4-4e0f-8727-ce54488cf2c5\">\n",
              "      Upload widget is only available when the cell has been executed in the\n",
              "      current browser session. Please rerun this cell to enable.\n",
              "      </output>\n",
              "      <script src=\"/nbextensions/google.colab/files.js\"></script> "
            ],
            "text/plain": [
              "<IPython.core.display.HTML object>"
            ]
          },
          "metadata": {}
        },
        {
          "output_type": "stream",
          "text": [
            "Saving mysql.json to mysql.json\n"
          ],
          "name": "stdout"
        }
      ]
    },
    {
      "cell_type": "code",
      "metadata": {
        "id": "ymnD8WoXDR8i"
      },
      "source": [
        "import json\n",
        "with open(filename) as fp:\n",
        "    config_str = fp.read()\n",
        "config = json.loads(config_str)"
      ],
      "execution_count": null,
      "outputs": []
    },
    {
      "cell_type": "code",
      "metadata": {
        "id": "19_nz381DUXe"
      },
      "source": [
        "import numpy as np\n",
        "import pandas as pd\n",
        "import matplotlib as mpl\n",
        "import matplotlib.pyplot as plt\n",
        "mpl.rcParams['axes.unicode_minus'] = False\n",
        "plt.rc('font', family='NanumBarunGothic')"
      ],
      "execution_count": null,
      "outputs": []
    },
    {
      "cell_type": "code",
      "metadata": {
        "id": "WTcFWywSDWnY"
      },
      "source": [
        "import db_module as dm"
      ],
      "execution_count": null,
      "outputs": []
    },
    {
      "cell_type": "code",
      "metadata": {
        "colab": {
          "base_uri": "https://localhost:8080/"
        },
        "id": "9npMlB1EEaWD",
        "outputId": "e086cf87-df1e-4531-c168-cfe67f8d4925"
      },
      "source": [
        "!ls -la"
      ],
      "execution_count": null,
      "outputs": [
        {
          "output_type": "stream",
          "text": [
            "total 28\n",
            "drwxr-xr-x 1 root root 4096 Aug 26 07:44 .\n",
            "drwxr-xr-x 1 root root 4096 Aug 26 07:42 ..\n",
            "drwxr-xr-x 4 root root 4096 Aug 13 13:34 .config\n",
            "-rw-r--r-- 1 root root 3671 Aug 26 07:43 db_module.py\n",
            "-rw-r--r-- 1 root root  123 Aug 26 07:44 mysql.json\n",
            "drwxr-xr-x 2 root root 4096 Aug 26 07:44 __pycache__\n",
            "drwxr-xr-x 1 root root 4096 Aug 13 13:35 sample_data\n"
          ],
          "name": "stdout"
        }
      ]
    },
    {
      "cell_type": "markdown",
      "metadata": {
        "id": "RmINo4FjEtY0"
      },
      "source": [
        "## 월별 매출 & 이익"
      ]
    },
    {
      "cell_type": "code",
      "metadata": {
        "colab": {
          "base_uri": "https://localhost:8080/",
          "height": 451
        },
        "id": "qXcdtIGsEyHZ",
        "outputId": "c1d283f3-048a-4c71-f05a-6668fb779ca0"
      },
      "source": [
        "results = dm.get_monthly_data(config)\n",
        "df = pd.DataFrame(results, columns=['월','매출','이익'])\n",
        "df.set_index('월', inplace=True)\n",
        "df['매출'] = df.매출.astype(int)\n",
        "df['이익'] = df.이익.astype(int)\n",
        "df"
      ],
      "execution_count": null,
      "outputs": [
        {
          "output_type": "execute_result",
          "data": {
            "text/html": [
              "<div>\n",
              "<style scoped>\n",
              "    .dataframe tbody tr th:only-of-type {\n",
              "        vertical-align: middle;\n",
              "    }\n",
              "\n",
              "    .dataframe tbody tr th {\n",
              "        vertical-align: top;\n",
              "    }\n",
              "\n",
              "    .dataframe thead th {\n",
              "        text-align: right;\n",
              "    }\n",
              "</style>\n",
              "<table border=\"1\" class=\"dataframe\">\n",
              "  <thead>\n",
              "    <tr style=\"text-align: right;\">\n",
              "      <th></th>\n",
              "      <th>매출</th>\n",
              "      <th>이익</th>\n",
              "    </tr>\n",
              "    <tr>\n",
              "      <th>월</th>\n",
              "      <th></th>\n",
              "      <th></th>\n",
              "    </tr>\n",
              "  </thead>\n",
              "  <tbody>\n",
              "    <tr>\n",
              "      <th>01</th>\n",
              "      <td>37678000</td>\n",
              "      <td>3898760</td>\n",
              "    </tr>\n",
              "    <tr>\n",
              "      <th>02</th>\n",
              "      <td>32939000</td>\n",
              "      <td>2964970</td>\n",
              "    </tr>\n",
              "    <tr>\n",
              "      <th>03</th>\n",
              "      <td>39537000</td>\n",
              "      <td>3989990</td>\n",
              "    </tr>\n",
              "    <tr>\n",
              "      <th>04</th>\n",
              "      <td>40742000</td>\n",
              "      <td>4459160</td>\n",
              "    </tr>\n",
              "    <tr>\n",
              "      <th>05</th>\n",
              "      <td>25204000</td>\n",
              "      <td>1974760</td>\n",
              "    </tr>\n",
              "    <tr>\n",
              "      <th>06</th>\n",
              "      <td>21538000</td>\n",
              "      <td>2565910</td>\n",
              "    </tr>\n",
              "    <tr>\n",
              "      <th>07</th>\n",
              "      <td>46655000</td>\n",
              "      <td>5438360</td>\n",
              "    </tr>\n",
              "    <tr>\n",
              "      <th>08</th>\n",
              "      <td>25277000</td>\n",
              "      <td>2447010</td>\n",
              "    </tr>\n",
              "    <tr>\n",
              "      <th>09</th>\n",
              "      <td>27459000</td>\n",
              "      <td>3138820</td>\n",
              "    </tr>\n",
              "    <tr>\n",
              "      <th>10</th>\n",
              "      <td>32615000</td>\n",
              "      <td>3490690</td>\n",
              "    </tr>\n",
              "    <tr>\n",
              "      <th>11</th>\n",
              "      <td>51996000</td>\n",
              "      <td>4648620</td>\n",
              "    </tr>\n",
              "    <tr>\n",
              "      <th>12</th>\n",
              "      <td>30342000</td>\n",
              "      <td>3215040</td>\n",
              "    </tr>\n",
              "  </tbody>\n",
              "</table>\n",
              "</div>"
            ],
            "text/plain": [
              "          매출       이익\n",
              "월                    \n",
              "01  37678000  3898760\n",
              "02  32939000  2964970\n",
              "03  39537000  3989990\n",
              "04  40742000  4459160\n",
              "05  25204000  1974760\n",
              "06  21538000  2565910\n",
              "07  46655000  5438360\n",
              "08  25277000  2447010\n",
              "09  27459000  3138820\n",
              "10  32615000  3490690\n",
              "11  51996000  4648620\n",
              "12  30342000  3215040"
            ]
          },
          "metadata": {},
          "execution_count": 6
        }
      ]
    },
    {
      "cell_type": "code",
      "metadata": {
        "colab": {
          "base_uri": "https://localhost:8080/",
          "height": 414
        },
        "id": "cLeg7MwzE_b6",
        "outputId": "b96ec3e5-dea2-443b-da40-c3329d8c4ac3"
      },
      "source": [
        "df.plot.bar(figsize=(10,6))\n",
        "plt.title('월별 매출/이익', size=15, y=1.02)\n",
        "plt.grid()\n",
        "plt.show()"
      ],
      "execution_count": null,
      "outputs": [
        {
          "output_type": "display_data",
          "data": {
            "image/png": "[encoded data removed]",
            "text/plain": [
              "<Figure size 720x432 with 1 Axes>"
            ]
          },
          "metadata": {
            "needs_background": "light"
          }
        }
      ]
    },
    {
      "cell_type": "markdown",
      "metadata": {
        "id": "mb0XDU9RFYzb"
      },
      "source": [
        "## 거래처별 매출 & 이익"
      ]
    },
    {
      "cell_type": "code",
      "metadata": {
        "colab": {
          "base_uri": "https://localhost:8080/",
          "height": 235
        },
        "id": "8P5bqecOFatu",
        "outputId": "234f761f-85e9-42d1-b4f4-fcef37ac3487"
      },
      "source": [
        "results = dm.get_company_data(config)\n",
        "df = pd.DataFrame(results, columns=['판매처','매출','이익'])\n",
        "df.set_index('판매처', inplace=True)\n",
        "df['매출'] = df.매출.astype(int)\n",
        "df['이익'] = df.이익.astype(int)\n",
        "# df['이익율'] = df.이익 / df.매출 * 100\n",
        "df"
      ],
      "execution_count": null,
      "outputs": [
        {
          "output_type": "execute_result",
          "data": {
            "text/html": [
              "<div>\n",
              "<style scoped>\n",
              "    .dataframe tbody tr th:only-of-type {\n",
              "        vertical-align: middle;\n",
              "    }\n",
              "\n",
              "    .dataframe tbody tr th {\n",
              "        vertical-align: top;\n",
              "    }\n",
              "\n",
              "    .dataframe thead th {\n",
              "        text-align: right;\n",
              "    }\n",
              "</style>\n",
              "<table border=\"1\" class=\"dataframe\">\n",
              "  <thead>\n",
              "    <tr style=\"text-align: right;\">\n",
              "      <th></th>\n",
              "      <th>매출</th>\n",
              "      <th>이익</th>\n",
              "    </tr>\n",
              "    <tr>\n",
              "      <th>판매처</th>\n",
              "      <th></th>\n",
              "      <th></th>\n",
              "    </tr>\n",
              "  </thead>\n",
              "  <tbody>\n",
              "    <tr>\n",
              "      <th>국민은행</th>\n",
              "      <td>80405000</td>\n",
              "      <td>7690460</td>\n",
              "    </tr>\n",
              "    <tr>\n",
              "      <th>신한은행</th>\n",
              "      <td>62950000</td>\n",
              "      <td>6046140</td>\n",
              "    </tr>\n",
              "    <tr>\n",
              "      <th>기업은행</th>\n",
              "      <td>62501000</td>\n",
              "      <td>7147930</td>\n",
              "    </tr>\n",
              "    <tr>\n",
              "      <th>하나은행</th>\n",
              "      <td>118339000</td>\n",
              "      <td>11889890</td>\n",
              "    </tr>\n",
              "    <tr>\n",
              "      <th>우리은행</th>\n",
              "      <td>87787000</td>\n",
              "      <td>9457670</td>\n",
              "    </tr>\n",
              "  </tbody>\n",
              "</table>\n",
              "</div>"
            ],
            "text/plain": [
              "             매출        이익\n",
              "판매처                      \n",
              "국민은행   80405000   7690460\n",
              "신한은행   62950000   6046140\n",
              "기업은행   62501000   7147930\n",
              "하나은행  118339000  11889890\n",
              "우리은행   87787000   9457670"
            ]
          },
          "metadata": {},
          "execution_count": 8
        }
      ]
    },
    {
      "cell_type": "code",
      "metadata": {
        "colab": {
          "base_uri": "https://localhost:8080/",
          "height": 438
        },
        "id": "ggXoO4z5QMxO",
        "outputId": "ee4d18de-c7b9-4b3a-f25f-1302b1a7b204"
      },
      "source": [
        "# df[['매출','이익']].plot.barh(rot=0, figsize=(10,4))\n",
        "df.plot.bar(figsize=(10,6))\n",
        "plt.title('거래처별 매출/이익', size=15, y=1.02)\n",
        "plt.grid()\n",
        "plt.show()"
      ],
      "execution_count": null,
      "outputs": [
        {
          "output_type": "display_data",
          "data": {
            "image/png": "[encoded data removed]",
            "text/plain": [
              "<Figure size 720x432 with 1 Axes>"
            ]
          },
          "metadata": {
            "needs_background": "light"
          }
        }
      ]
    },
    {
      "cell_type": "code",
      "metadata": {
        "id": "SQSc7IZOnfVD"
      },
      "source": [
        "# df['이익율'].plot.barh(rot=0, figsize=(10,4))\n",
        "# plt.title('거래처별 이익율(%)', size=15, y=1.02)\n",
        "# plt.grid()\n",
        "# plt.show()"
      ],
      "execution_count": null,
      "outputs": []
    },
    {
      "cell_type": "markdown",
      "metadata": {
        "id": "K7hDHOy9QUj2"
      },
      "source": [
        "## 거래처별 판매제품 & 수량"
      ]
    },
    {
      "cell_type": "code",
      "metadata": {
        "id": "PC3hfZ1annyE"
      },
      "source": [
        "# results = dm.get_comname_by_company(config)\n",
        "# df = pd.DataFrame(results, columns=['판매처','상품','수량'])\n",
        "# df.set_index(['판매처','상품'], inplace=True)\n",
        "# df['수량'] = df.수량.astype(int)\n",
        "# df"
      ],
      "execution_count": null,
      "outputs": []
    },
    {
      "cell_type": "code",
      "metadata": {
        "id": "dawRR_FunvXw"
      },
      "source": [
        "# df.reset_index()['판매처'].unique()"
      ],
      "execution_count": null,
      "outputs": []
    },
    {
      "cell_type": "code",
      "metadata": {
        "id": "AaDwL48znzVW"
      },
      "source": [
        "# for company in df.reset_index()['판매처'].unique():\n",
        "#     sdf=df.loc[(company,)]\n",
        "#     sdf.sort_values(by='수량').plot.barh(figsize=(10,6))\n",
        "#     plt.title(f'{company}에 판매된 상품', size=15, y=1.02)\n",
        "#     plt.grid()\n",
        "#     plt.show()"
      ],
      "execution_count": null,
      "outputs": []
    },
    {
      "cell_type": "code",
      "metadata": {
        "colab": {
          "base_uri": "https://localhost:8080/",
          "height": 574
        },
        "id": "VDg9lZ2HQWg_",
        "outputId": "e434f20b-3bdc-483a-c80b-11137a8d1cf5"
      },
      "source": [
        "# 신한은행\n",
        "results = dm.get_company1_data(config)\n",
        "df = pd.DataFrame(results, columns=['판매제품','수량'])\n",
        "df.set_index('판매제품', inplace=True)\n",
        "df['수량'] = df.수량.astype(int)\n",
        "df"
      ],
      "execution_count": null,
      "outputs": [
        {
          "output_type": "execute_result",
          "data": {
            "text/html": [
              "<div>\n",
              "<style scoped>\n",
              "    .dataframe tbody tr th:only-of-type {\n",
              "        vertical-align: middle;\n",
              "    }\n",
              "\n",
              "    .dataframe tbody tr th {\n",
              "        vertical-align: top;\n",
              "    }\n",
              "\n",
              "    .dataframe thead th {\n",
              "        text-align: right;\n",
              "    }\n",
              "</style>\n",
              "<table border=\"1\" class=\"dataframe\">\n",
              "  <thead>\n",
              "    <tr style=\"text-align: right;\">\n",
              "      <th></th>\n",
              "      <th>수량</th>\n",
              "    </tr>\n",
              "    <tr>\n",
              "      <th>판매제품</th>\n",
              "      <th></th>\n",
              "    </tr>\n",
              "  </thead>\n",
              "  <tbody>\n",
              "    <tr>\n",
              "      <th>스팀청소기</th>\n",
              "      <td>28</td>\n",
              "    </tr>\n",
              "    <tr>\n",
              "      <th>로봇청소기</th>\n",
              "      <td>29</td>\n",
              "    </tr>\n",
              "    <tr>\n",
              "      <th>얼음정수기</th>\n",
              "      <td>11</td>\n",
              "    </tr>\n",
              "    <tr>\n",
              "      <th>워시타워</th>\n",
              "      <td>7</td>\n",
              "    </tr>\n",
              "    <tr>\n",
              "      <th>짐볼</th>\n",
              "      <td>28</td>\n",
              "    </tr>\n",
              "    <tr>\n",
              "      <th>오븐</th>\n",
              "      <td>24</td>\n",
              "    </tr>\n",
              "    <tr>\n",
              "      <th>에어컨</th>\n",
              "      <td>7</td>\n",
              "    </tr>\n",
              "    <tr>\n",
              "      <th>압력밥솥</th>\n",
              "      <td>5</td>\n",
              "    </tr>\n",
              "    <tr>\n",
              "      <th>훌라후프</th>\n",
              "      <td>20</td>\n",
              "    </tr>\n",
              "    <tr>\n",
              "      <th>싯업벤치</th>\n",
              "      <td>20</td>\n",
              "    </tr>\n",
              "    <tr>\n",
              "      <th>가습기</th>\n",
              "      <td>2</td>\n",
              "    </tr>\n",
              "    <tr>\n",
              "      <th>스텝퍼</th>\n",
              "      <td>16</td>\n",
              "    </tr>\n",
              "    <tr>\n",
              "      <th>냉장고</th>\n",
              "      <td>13</td>\n",
              "    </tr>\n",
              "    <tr>\n",
              "      <th>에어프라이어</th>\n",
              "      <td>5</td>\n",
              "    </tr>\n",
              "    <tr>\n",
              "      <th>안마의자</th>\n",
              "      <td>4</td>\n",
              "    </tr>\n",
              "    <tr>\n",
              "      <th>스쿼트머신</th>\n",
              "      <td>5</td>\n",
              "    </tr>\n",
              "  </tbody>\n",
              "</table>\n",
              "</div>"
            ],
            "text/plain": [
              "        수량\n",
              "판매제품      \n",
              "스팀청소기   28\n",
              "로봇청소기   29\n",
              "얼음정수기   11\n",
              "워시타워     7\n",
              "짐볼      28\n",
              "오븐      24\n",
              "에어컨      7\n",
              "압력밥솥     5\n",
              "훌라후프    20\n",
              "싯업벤치    20\n",
              "가습기      2\n",
              "스텝퍼     16\n",
              "냉장고     13\n",
              "에어프라이어   5\n",
              "안마의자     4\n",
              "스쿼트머신    5"
            ]
          },
          "metadata": {},
          "execution_count": 10
        }
      ]
    },
    {
      "cell_type": "code",
      "metadata": {
        "colab": {
          "base_uri": "https://localhost:8080/",
          "height": 456
        },
        "id": "Ynz1RFMuaAZo",
        "outputId": "8597076a-e2cb-457f-fd13-4b022db76d41"
      },
      "source": [
        "df.plot.bar(figsize=(10,6))\n",
        "plt.title('신한은행 판매제품 및 수량', size=15, y=1.02)\n",
        "plt.grid()\n",
        "plt.show()"
      ],
      "execution_count": null,
      "outputs": [
        {
          "output_type": "display_data",
          "data": {
            "image/png": "[encoded data removed]",
            "text/plain": [
              "<Figure size 720x432 with 1 Axes>"
            ]
          },
          "metadata": {
            "needs_background": "light"
          }
        }
      ]
    },
    {
      "cell_type": "code",
      "metadata": {
        "colab": {
          "base_uri": "https://localhost:8080/",
          "height": 574
        },
        "id": "1kVDL36JYh_L",
        "outputId": "1ced98ee-f041-40d4-bac6-c06fd7b99336"
      },
      "source": [
        "# 국민은행\n",
        "results = dm.get_company2_data(config)\n",
        "df = pd.DataFrame(results, columns=['판매제품','수량'])\n",
        "df.set_index('판매제품', inplace=True)\n",
        "df['수량'] = df.수량.astype(int)\n",
        "df"
      ],
      "execution_count": null,
      "outputs": [
        {
          "output_type": "execute_result",
          "data": {
            "text/html": [
              "<div>\n",
              "<style scoped>\n",
              "    .dataframe tbody tr th:only-of-type {\n",
              "        vertical-align: middle;\n",
              "    }\n",
              "\n",
              "    .dataframe tbody tr th {\n",
              "        vertical-align: top;\n",
              "    }\n",
              "\n",
              "    .dataframe thead th {\n",
              "        text-align: right;\n",
              "    }\n",
              "</style>\n",
              "<table border=\"1\" class=\"dataframe\">\n",
              "  <thead>\n",
              "    <tr style=\"text-align: right;\">\n",
              "      <th></th>\n",
              "      <th>수량</th>\n",
              "    </tr>\n",
              "    <tr>\n",
              "      <th>판매제품</th>\n",
              "      <th></th>\n",
              "    </tr>\n",
              "  </thead>\n",
              "  <tbody>\n",
              "    <tr>\n",
              "      <th>냉장고</th>\n",
              "      <td>35</td>\n",
              "    </tr>\n",
              "    <tr>\n",
              "      <th>세탁기</th>\n",
              "      <td>18</td>\n",
              "    </tr>\n",
              "    <tr>\n",
              "      <th>김치냉장고</th>\n",
              "      <td>26</td>\n",
              "    </tr>\n",
              "    <tr>\n",
              "      <th>스쿼트머신</th>\n",
              "      <td>30</td>\n",
              "    </tr>\n",
              "    <tr>\n",
              "      <th>로봇청소기</th>\n",
              "      <td>17</td>\n",
              "    </tr>\n",
              "    <tr>\n",
              "      <th>로잉머신</th>\n",
              "      <td>14</td>\n",
              "    </tr>\n",
              "    <tr>\n",
              "      <th>식기세척기</th>\n",
              "      <td>5</td>\n",
              "    </tr>\n",
              "    <tr>\n",
              "      <th>전기레인지</th>\n",
              "      <td>11</td>\n",
              "    </tr>\n",
              "    <tr>\n",
              "      <th>워시타워</th>\n",
              "      <td>5</td>\n",
              "    </tr>\n",
              "    <tr>\n",
              "      <th>싯업벤치</th>\n",
              "      <td>1</td>\n",
              "    </tr>\n",
              "    <tr>\n",
              "      <th>압력밥솥</th>\n",
              "      <td>8</td>\n",
              "    </tr>\n",
              "    <tr>\n",
              "      <th>얼음정수기</th>\n",
              "      <td>38</td>\n",
              "    </tr>\n",
              "    <tr>\n",
              "      <th>짐볼</th>\n",
              "      <td>10</td>\n",
              "    </tr>\n",
              "    <tr>\n",
              "      <th>가습기</th>\n",
              "      <td>18</td>\n",
              "    </tr>\n",
              "    <tr>\n",
              "      <th>스텝퍼</th>\n",
              "      <td>2</td>\n",
              "    </tr>\n",
              "    <tr>\n",
              "      <th>의류건조기</th>\n",
              "      <td>15</td>\n",
              "    </tr>\n",
              "  </tbody>\n",
              "</table>\n",
              "</div>"
            ],
            "text/plain": [
              "       수량\n",
              "판매제품     \n",
              "냉장고    35\n",
              "세탁기    18\n",
              "김치냉장고  26\n",
              "스쿼트머신  30\n",
              "로봇청소기  17\n",
              "로잉머신   14\n",
              "식기세척기   5\n",
              "전기레인지  11\n",
              "워시타워    5\n",
              "싯업벤치    1\n",
              "압력밥솥    8\n",
              "얼음정수기  38\n",
              "짐볼     10\n",
              "가습기    18\n",
              "스텝퍼     2\n",
              "의류건조기  15"
            ]
          },
          "metadata": {},
          "execution_count": 12
        }
      ]
    },
    {
      "cell_type": "code",
      "metadata": {
        "colab": {
          "base_uri": "https://localhost:8080/",
          "height": 447
        },
        "id": "YDitD6kGaGwq",
        "outputId": "c2bf32d7-72db-4af3-9b41-bead8a6ba3f2"
      },
      "source": [
        "df.plot.bar(figsize=(10,6))\n",
        "plt.title('국민은행 판매제품 및 수량', size=15, y=1.02)\n",
        "plt.grid()\n",
        "plt.show()"
      ],
      "execution_count": null,
      "outputs": [
        {
          "output_type": "display_data",
          "data": {
            "image/png": "[encoded data removed]",
            "text/plain": [
              "<Figure size 720x432 with 1 Axes>"
            ]
          },
          "metadata": {
            "needs_background": "light"
          }
        }
      ]
    },
    {
      "cell_type": "code",
      "metadata": {
        "colab": {
          "base_uri": "https://localhost:8080/",
          "height": 574
        },
        "id": "Z-UU4gfhYiwQ",
        "outputId": "3ce8bf30-b95a-4d1f-e290-dbfd9472caf4"
      },
      "source": [
        "# 우리은행\n",
        "results = dm.get_company3_data(config)\n",
        "df = pd.DataFrame(results, columns=['판매제품','수량'])\n",
        "df.set_index('판매제품', inplace=True)\n",
        "df['수량'] = df.수량.astype(int)\n",
        "df"
      ],
      "execution_count": null,
      "outputs": [
        {
          "output_type": "execute_result",
          "data": {
            "text/html": [
              "<div>\n",
              "<style scoped>\n",
              "    .dataframe tbody tr th:only-of-type {\n",
              "        vertical-align: middle;\n",
              "    }\n",
              "\n",
              "    .dataframe tbody tr th {\n",
              "        vertical-align: top;\n",
              "    }\n",
              "\n",
              "    .dataframe thead th {\n",
              "        text-align: right;\n",
              "    }\n",
              "</style>\n",
              "<table border=\"1\" class=\"dataframe\">\n",
              "  <thead>\n",
              "    <tr style=\"text-align: right;\">\n",
              "      <th></th>\n",
              "      <th>수량</th>\n",
              "    </tr>\n",
              "    <tr>\n",
              "      <th>판매제품</th>\n",
              "      <th></th>\n",
              "    </tr>\n",
              "  </thead>\n",
              "  <tbody>\n",
              "    <tr>\n",
              "      <th>러닝머신</th>\n",
              "      <td>38</td>\n",
              "    </tr>\n",
              "    <tr>\n",
              "      <th>에어컨</th>\n",
              "      <td>25</td>\n",
              "    </tr>\n",
              "    <tr>\n",
              "      <th>전기레인지</th>\n",
              "      <td>21</td>\n",
              "    </tr>\n",
              "    <tr>\n",
              "      <th>가습기</th>\n",
              "      <td>13</td>\n",
              "    </tr>\n",
              "    <tr>\n",
              "      <th>정수기</th>\n",
              "      <td>7</td>\n",
              "    </tr>\n",
              "    <tr>\n",
              "      <th>사이클</th>\n",
              "      <td>2</td>\n",
              "    </tr>\n",
              "    <tr>\n",
              "      <th>전자레인지</th>\n",
              "      <td>28</td>\n",
              "    </tr>\n",
              "    <tr>\n",
              "      <th>워시타워</th>\n",
              "      <td>18</td>\n",
              "    </tr>\n",
              "    <tr>\n",
              "      <th>로봇청소기</th>\n",
              "      <td>17</td>\n",
              "    </tr>\n",
              "    <tr>\n",
              "      <th>압력밥솥</th>\n",
              "      <td>12</td>\n",
              "    </tr>\n",
              "    <tr>\n",
              "      <th>오븐</th>\n",
              "      <td>16</td>\n",
              "    </tr>\n",
              "    <tr>\n",
              "      <th>스쿼트머신</th>\n",
              "      <td>7</td>\n",
              "    </tr>\n",
              "    <tr>\n",
              "      <th>의류건조기</th>\n",
              "      <td>7</td>\n",
              "    </tr>\n",
              "    <tr>\n",
              "      <th>스텝퍼</th>\n",
              "      <td>16</td>\n",
              "    </tr>\n",
              "    <tr>\n",
              "      <th>스타일러</th>\n",
              "      <td>15</td>\n",
              "    </tr>\n",
              "    <tr>\n",
              "      <th>싯업벤치</th>\n",
              "      <td>16</td>\n",
              "    </tr>\n",
              "  </tbody>\n",
              "</table>\n",
              "</div>"
            ],
            "text/plain": [
              "       수량\n",
              "판매제품     \n",
              "러닝머신   38\n",
              "에어컨    25\n",
              "전기레인지  21\n",
              "가습기    13\n",
              "정수기     7\n",
              "사이클     2\n",
              "전자레인지  28\n",
              "워시타워   18\n",
              "로봇청소기  17\n",
              "압력밥솥   12\n",
              "오븐     16\n",
              "스쿼트머신   7\n",
              "의류건조기   7\n",
              "스텝퍼    16\n",
              "스타일러   15\n",
              "싯업벤치   16"
            ]
          },
          "metadata": {},
          "execution_count": 14
        }
      ]
    },
    {
      "cell_type": "code",
      "metadata": {
        "colab": {
          "base_uri": "https://localhost:8080/",
          "height": 447
        },
        "id": "4p2YzhzwaPXv",
        "outputId": "d9476ca3-4cfb-4994-8502-cc2c97ed2e35"
      },
      "source": [
        "df.plot.bar(figsize=(10,6))\n",
        "plt.title('우리은행 판매제품 및 수량', size=15, y=1.02)\n",
        "plt.grid()\n",
        "plt.show()"
      ],
      "execution_count": null,
      "outputs": [
        {
          "output_type": "display_data",
          "data": {
            "image/png": "[encoded data removed]",
            "text/plain": [
              "<Figure size 720x432 with 1 Axes>"
            ]
          },
          "metadata": {
            "needs_background": "light"
          }
        }
      ]
    },
    {
      "cell_type": "code",
      "metadata": {
        "colab": {
          "base_uri": "https://localhost:8080/",
          "height": 574
        },
        "id": "7HGupwS4Yh0u",
        "outputId": "f520d95f-d1c7-4947-cf47-c435341d0fec"
      },
      "source": [
        "# 기업은행\n",
        "results = dm.get_company4_data(config)\n",
        "df = pd.DataFrame(results, columns=['판매제품','수량'])\n",
        "df.set_index('판매제품', inplace=True)\n",
        "df['수량'] = df.수량.astype(int)\n",
        "df"
      ],
      "execution_count": null,
      "outputs": [
        {
          "output_type": "execute_result",
          "data": {
            "text/html": [
              "<div>\n",
              "<style scoped>\n",
              "    .dataframe tbody tr th:only-of-type {\n",
              "        vertical-align: middle;\n",
              "    }\n",
              "\n",
              "    .dataframe tbody tr th {\n",
              "        vertical-align: top;\n",
              "    }\n",
              "\n",
              "    .dataframe thead th {\n",
              "        text-align: right;\n",
              "    }\n",
              "</style>\n",
              "<table border=\"1\" class=\"dataframe\">\n",
              "  <thead>\n",
              "    <tr style=\"text-align: right;\">\n",
              "      <th></th>\n",
              "      <th>수량</th>\n",
              "    </tr>\n",
              "    <tr>\n",
              "      <th>판매제품</th>\n",
              "      <th></th>\n",
              "    </tr>\n",
              "  </thead>\n",
              "  <tbody>\n",
              "    <tr>\n",
              "      <th>전기레인지</th>\n",
              "      <td>4</td>\n",
              "    </tr>\n",
              "    <tr>\n",
              "      <th>의류건조기</th>\n",
              "      <td>18</td>\n",
              "    </tr>\n",
              "    <tr>\n",
              "      <th>공기청정기</th>\n",
              "      <td>3</td>\n",
              "    </tr>\n",
              "    <tr>\n",
              "      <th>스타일러</th>\n",
              "      <td>38</td>\n",
              "    </tr>\n",
              "    <tr>\n",
              "      <th>전자레인지</th>\n",
              "      <td>23</td>\n",
              "    </tr>\n",
              "    <tr>\n",
              "      <th>짐볼</th>\n",
              "      <td>23</td>\n",
              "    </tr>\n",
              "    <tr>\n",
              "      <th>로잉머신</th>\n",
              "      <td>5</td>\n",
              "    </tr>\n",
              "    <tr>\n",
              "      <th>정수기</th>\n",
              "      <td>5</td>\n",
              "    </tr>\n",
              "    <tr>\n",
              "      <th>안마의자</th>\n",
              "      <td>17</td>\n",
              "    </tr>\n",
              "    <tr>\n",
              "      <th>러닝머신</th>\n",
              "      <td>16</td>\n",
              "    </tr>\n",
              "    <tr>\n",
              "      <th>에어프라이어</th>\n",
              "      <td>11</td>\n",
              "    </tr>\n",
              "    <tr>\n",
              "      <th>오븐</th>\n",
              "      <td>6</td>\n",
              "    </tr>\n",
              "    <tr>\n",
              "      <th>덤벨</th>\n",
              "      <td>5</td>\n",
              "    </tr>\n",
              "    <tr>\n",
              "      <th>김치냉장고</th>\n",
              "      <td>2</td>\n",
              "    </tr>\n",
              "    <tr>\n",
              "      <th>스쿼트머신</th>\n",
              "      <td>14</td>\n",
              "    </tr>\n",
              "    <tr>\n",
              "      <th>워시타워</th>\n",
              "      <td>9</td>\n",
              "    </tr>\n",
              "  </tbody>\n",
              "</table>\n",
              "</div>"
            ],
            "text/plain": [
              "        수량\n",
              "판매제품      \n",
              "전기레인지    4\n",
              "의류건조기   18\n",
              "공기청정기    3\n",
              "스타일러    38\n",
              "전자레인지   23\n",
              "짐볼      23\n",
              "로잉머신     5\n",
              "정수기      5\n",
              "안마의자    17\n",
              "러닝머신    16\n",
              "에어프라이어  11\n",
              "오븐       6\n",
              "덤벨       5\n",
              "김치냉장고    2\n",
              "스쿼트머신   14\n",
              "워시타워     9"
            ]
          },
          "metadata": {},
          "execution_count": 16
        }
      ]
    },
    {
      "cell_type": "code",
      "metadata": {
        "colab": {
          "base_uri": "https://localhost:8080/",
          "height": 456
        },
        "id": "wf1hzJgeaRZN",
        "outputId": "d4331252-725d-4132-c349-4b40a940f8a0"
      },
      "source": [
        "df.plot.bar(figsize=(10,6))\n",
        "plt.title('기업은행 판매제품 및 수량', size=15, y=1.02)\n",
        "plt.grid()\n",
        "plt.show()"
      ],
      "execution_count": null,
      "outputs": [
        {
          "output_type": "display_data",
          "data": {
            "image/png": "[encoded data removed]",
            "text/plain": [
              "<Figure size 720x432 with 1 Axes>"
            ]
          },
          "metadata": {
            "needs_background": "light"
          }
        }
      ]
    },
    {
      "cell_type": "code",
      "metadata": {
        "colab": {
          "base_uri": "https://localhost:8080/",
          "height": 698
        },
        "id": "AN4Yci-XYhov",
        "outputId": "3c7acac3-1faa-4ee6-ed34-634c43d1ef3f"
      },
      "source": [
        "# 하나은행\n",
        "results = dm.get_company5_data(config)\n",
        "df = pd.DataFrame(results, columns=['판매제품','수량'])\n",
        "df.set_index('판매제품', inplace=True)\n",
        "df['수량'] = df.수량.astype(int)\n",
        "df"
      ],
      "execution_count": null,
      "outputs": [
        {
          "output_type": "execute_result",
          "data": {
            "text/html": [
              "<div>\n",
              "<style scoped>\n",
              "    .dataframe tbody tr th:only-of-type {\n",
              "        vertical-align: middle;\n",
              "    }\n",
              "\n",
              "    .dataframe tbody tr th {\n",
              "        vertical-align: top;\n",
              "    }\n",
              "\n",
              "    .dataframe thead th {\n",
              "        text-align: right;\n",
              "    }\n",
              "</style>\n",
              "<table border=\"1\" class=\"dataframe\">\n",
              "  <thead>\n",
              "    <tr style=\"text-align: right;\">\n",
              "      <th></th>\n",
              "      <th>수량</th>\n",
              "    </tr>\n",
              "    <tr>\n",
              "      <th>판매제품</th>\n",
              "      <th></th>\n",
              "    </tr>\n",
              "  </thead>\n",
              "  <tbody>\n",
              "    <tr>\n",
              "      <th>스타일러</th>\n",
              "      <td>34</td>\n",
              "    </tr>\n",
              "    <tr>\n",
              "      <th>세탁기</th>\n",
              "      <td>3</td>\n",
              "    </tr>\n",
              "    <tr>\n",
              "      <th>오븐</th>\n",
              "      <td>33</td>\n",
              "    </tr>\n",
              "    <tr>\n",
              "      <th>스텝퍼</th>\n",
              "      <td>17</td>\n",
              "    </tr>\n",
              "    <tr>\n",
              "      <th>에어프라이어</th>\n",
              "      <td>52</td>\n",
              "    </tr>\n",
              "    <tr>\n",
              "      <th>공기청정기</th>\n",
              "      <td>25</td>\n",
              "    </tr>\n",
              "    <tr>\n",
              "      <th>러닝머신</th>\n",
              "      <td>5</td>\n",
              "    </tr>\n",
              "    <tr>\n",
              "      <th>훌라후프</th>\n",
              "      <td>15</td>\n",
              "    </tr>\n",
              "    <tr>\n",
              "      <th>압력밥솥</th>\n",
              "      <td>16</td>\n",
              "    </tr>\n",
              "    <tr>\n",
              "      <th>사이클</th>\n",
              "      <td>1</td>\n",
              "    </tr>\n",
              "    <tr>\n",
              "      <th>스쿼트머신</th>\n",
              "      <td>2</td>\n",
              "    </tr>\n",
              "    <tr>\n",
              "      <th>줄넘기</th>\n",
              "      <td>41</td>\n",
              "    </tr>\n",
              "    <tr>\n",
              "      <th>전자레인지</th>\n",
              "      <td>9</td>\n",
              "    </tr>\n",
              "    <tr>\n",
              "      <th>짐볼</th>\n",
              "      <td>32</td>\n",
              "    </tr>\n",
              "    <tr>\n",
              "      <th>스팀청소기</th>\n",
              "      <td>17</td>\n",
              "    </tr>\n",
              "    <tr>\n",
              "      <th>전기레인지</th>\n",
              "      <td>20</td>\n",
              "    </tr>\n",
              "    <tr>\n",
              "      <th>의류건조기</th>\n",
              "      <td>18</td>\n",
              "    </tr>\n",
              "    <tr>\n",
              "      <th>얼음정수기</th>\n",
              "      <td>18</td>\n",
              "    </tr>\n",
              "    <tr>\n",
              "      <th>에어컨</th>\n",
              "      <td>18</td>\n",
              "    </tr>\n",
              "    <tr>\n",
              "      <th>식기세척기</th>\n",
              "      <td>4</td>\n",
              "    </tr>\n",
              "  </tbody>\n",
              "</table>\n",
              "</div>"
            ],
            "text/plain": [
              "        수량\n",
              "판매제품      \n",
              "스타일러    34\n",
              "세탁기      3\n",
              "오븐      33\n",
              "스텝퍼     17\n",
              "에어프라이어  52\n",
              "공기청정기   25\n",
              "러닝머신     5\n",
              "훌라후프    15\n",
              "압력밥솥    16\n",
              "사이클      1\n",
              "스쿼트머신    2\n",
              "줄넘기     41\n",
              "전자레인지    9\n",
              "짐볼      32\n",
              "스팀청소기   17\n",
              "전기레인지   20\n",
              "의류건조기   18\n",
              "얼음정수기   18\n",
              "에어컨     18\n",
              "식기세척기    4"
            ]
          },
          "metadata": {},
          "execution_count": 18
        }
      ]
    },
    {
      "cell_type": "code",
      "metadata": {
        "colab": {
          "base_uri": "https://localhost:8080/",
          "height": 456
        },
        "id": "pbwa94NhaVjv",
        "outputId": "e7304522-e727-4e9d-e622-3cfd6b89e15d"
      },
      "source": [
        "df.plot.bar(figsize=(10,6))\n",
        "plt.title('하나은행 판매제품 및 수량', size=15, y=1.02)\n",
        "plt.grid()\n",
        "plt.show()"
      ],
      "execution_count": null,
      "outputs": [
        {
          "output_type": "display_data",
          "data": {
            "image/png": "[encoded data removed]",
            "text/plain": [
              "<Figure size 720x432 with 1 Axes>"
            ]
          },
          "metadata": {
            "needs_background": "light"
          }
        }
      ]
    },
    {
      "cell_type": "markdown",
      "metadata": {
        "id": "MYw4xc3xQW_w"
      },
      "source": [
        "## 제품별 판매수량 & 매출 & 이익"
      ]
    },
    {
      "cell_type": "code",
      "metadata": {
        "colab": {
          "base_uri": "https://localhost:8080/",
          "height": 1000
        },
        "id": "z5pk11ZcQaSh",
        "outputId": "43347aa2-ff77-4a59-9fb2-57d508edde51"
      },
      "source": [
        "results = dm.get_name_data(config)\n",
        "df = pd.DataFrame(results, columns=['제품','판매수량','매출','이익'])\n",
        "df.set_index('제품', inplace=True)\n",
        "df['판매수량'] = df.판매수량.astype(int)\n",
        "df['매출'] = df.매출.astype(int)\n",
        "df['이익'] = df.이익.astype(int)\n",
        "df"
      ],
      "execution_count": null,
      "outputs": [
        {
          "output_type": "execute_result",
          "data": {
            "text/html": [
              "<div>\n",
              "<style scoped>\n",
              "    .dataframe tbody tr th:only-of-type {\n",
              "        vertical-align: middle;\n",
              "    }\n",
              "\n",
              "    .dataframe tbody tr th {\n",
              "        vertical-align: top;\n",
              "    }\n",
              "\n",
              "    .dataframe thead th {\n",
              "        text-align: right;\n",
              "    }\n",
              "</style>\n",
              "<table border=\"1\" class=\"dataframe\">\n",
              "  <thead>\n",
              "    <tr style=\"text-align: right;\">\n",
              "      <th></th>\n",
              "      <th>판매수량</th>\n",
              "      <th>매출</th>\n",
              "      <th>이익</th>\n",
              "    </tr>\n",
              "    <tr>\n",
              "      <th>제품</th>\n",
              "      <th></th>\n",
              "      <th></th>\n",
              "      <th></th>\n",
              "    </tr>\n",
              "  </thead>\n",
              "  <tbody>\n",
              "    <tr>\n",
              "      <th>냉장고</th>\n",
              "      <td>48</td>\n",
              "      <td>21312000</td>\n",
              "      <td>1491840</td>\n",
              "    </tr>\n",
              "    <tr>\n",
              "      <th>김치냉장고</th>\n",
              "      <td>28</td>\n",
              "      <td>7000000</td>\n",
              "      <td>1050000</td>\n",
              "    </tr>\n",
              "    <tr>\n",
              "      <th>식기세척기</th>\n",
              "      <td>9</td>\n",
              "      <td>3357000</td>\n",
              "      <td>167850</td>\n",
              "    </tr>\n",
              "    <tr>\n",
              "      <th>전자레인지</th>\n",
              "      <td>60</td>\n",
              "      <td>20340000</td>\n",
              "      <td>2847600</td>\n",
              "    </tr>\n",
              "    <tr>\n",
              "      <th>오븐</th>\n",
              "      <td>79</td>\n",
              "      <td>15958000</td>\n",
              "      <td>957480</td>\n",
              "    </tr>\n",
              "    <tr>\n",
              "      <th>전기레인지</th>\n",
              "      <td>56</td>\n",
              "      <td>23800000</td>\n",
              "      <td>1904000</td>\n",
              "    </tr>\n",
              "    <tr>\n",
              "      <th>정수기</th>\n",
              "      <td>12</td>\n",
              "      <td>5112000</td>\n",
              "      <td>562320</td>\n",
              "    </tr>\n",
              "    <tr>\n",
              "      <th>얼음정수기</th>\n",
              "      <td>67</td>\n",
              "      <td>24723000</td>\n",
              "      <td>2472300</td>\n",
              "    </tr>\n",
              "    <tr>\n",
              "      <th>에어프라이어</th>\n",
              "      <td>68</td>\n",
              "      <td>30056000</td>\n",
              "      <td>3005600</td>\n",
              "    </tr>\n",
              "    <tr>\n",
              "      <th>압력밥솥</th>\n",
              "      <td>41</td>\n",
              "      <td>12382000</td>\n",
              "      <td>1733480</td>\n",
              "    </tr>\n",
              "    <tr>\n",
              "      <th>세탁기</th>\n",
              "      <td>21</td>\n",
              "      <td>4452000</td>\n",
              "      <td>534240</td>\n",
              "    </tr>\n",
              "    <tr>\n",
              "      <th>의류건조기</th>\n",
              "      <td>58</td>\n",
              "      <td>19546000</td>\n",
              "      <td>1563680</td>\n",
              "    </tr>\n",
              "    <tr>\n",
              "      <th>스타일러</th>\n",
              "      <td>87</td>\n",
              "      <td>29580000</td>\n",
              "      <td>4141200</td>\n",
              "    </tr>\n",
              "    <tr>\n",
              "      <th>로봇청소기</th>\n",
              "      <td>63</td>\n",
              "      <td>27153000</td>\n",
              "      <td>1900710</td>\n",
              "    </tr>\n",
              "    <tr>\n",
              "      <th>워시타워</th>\n",
              "      <td>39</td>\n",
              "      <td>8307000</td>\n",
              "      <td>664560</td>\n",
              "    </tr>\n",
              "    <tr>\n",
              "      <th>안마의자</th>\n",
              "      <td>21</td>\n",
              "      <td>7182000</td>\n",
              "      <td>790020</td>\n",
              "    </tr>\n",
              "    <tr>\n",
              "      <th>가습기</th>\n",
              "      <td>33</td>\n",
              "      <td>5577000</td>\n",
              "      <td>613470</td>\n",
              "    </tr>\n",
              "    <tr>\n",
              "      <th>스팀청소기</th>\n",
              "      <td>45</td>\n",
              "      <td>4590000</td>\n",
              "      <td>688500</td>\n",
              "    </tr>\n",
              "    <tr>\n",
              "      <th>공기청정기</th>\n",
              "      <td>28</td>\n",
              "      <td>10472000</td>\n",
              "      <td>1256640</td>\n",
              "    </tr>\n",
              "    <tr>\n",
              "      <th>에어컨</th>\n",
              "      <td>50</td>\n",
              "      <td>9950000</td>\n",
              "      <td>1293500</td>\n",
              "    </tr>\n",
              "    <tr>\n",
              "      <th>훌라후프</th>\n",
              "      <td>35</td>\n",
              "      <td>7910000</td>\n",
              "      <td>711900</td>\n",
              "    </tr>\n",
              "    <tr>\n",
              "      <th>줄넘기</th>\n",
              "      <td>41</td>\n",
              "      <td>13038000</td>\n",
              "      <td>782280</td>\n",
              "    </tr>\n",
              "    <tr>\n",
              "      <th>스텝퍼</th>\n",
              "      <td>51</td>\n",
              "      <td>22185000</td>\n",
              "      <td>2218500</td>\n",
              "    </tr>\n",
              "    <tr>\n",
              "      <th>러닝머신</th>\n",
              "      <td>59</td>\n",
              "      <td>26845000</td>\n",
              "      <td>2952950</td>\n",
              "    </tr>\n",
              "    <tr>\n",
              "      <th>짐볼</th>\n",
              "      <td>93</td>\n",
              "      <td>11811000</td>\n",
              "      <td>1299210</td>\n",
              "    </tr>\n",
              "    <tr>\n",
              "      <th>덤벨</th>\n",
              "      <td>5</td>\n",
              "      <td>695000</td>\n",
              "      <td>97300</td>\n",
              "    </tr>\n",
              "    <tr>\n",
              "      <th>로잉머신</th>\n",
              "      <td>19</td>\n",
              "      <td>3591000</td>\n",
              "      <td>215460</td>\n",
              "    </tr>\n",
              "    <tr>\n",
              "      <th>스쿼트머신</th>\n",
              "      <td>58</td>\n",
              "      <td>19140000</td>\n",
              "      <td>2296800</td>\n",
              "    </tr>\n",
              "    <tr>\n",
              "      <th>싯업벤치</th>\n",
              "      <td>37</td>\n",
              "      <td>14652000</td>\n",
              "      <td>1904760</td>\n",
              "    </tr>\n",
              "    <tr>\n",
              "      <th>사이클</th>\n",
              "      <td>3</td>\n",
              "      <td>1266000</td>\n",
              "      <td>113940</td>\n",
              "    </tr>\n",
              "  </tbody>\n",
              "</table>\n",
              "</div>"
            ],
            "text/plain": [
              "        판매수량        매출       이익\n",
              "제품                             \n",
              "냉장고       48  21312000  1491840\n",
              "김치냉장고     28   7000000  1050000\n",
              "식기세척기      9   3357000   167850\n",
              "전자레인지     60  20340000  2847600\n",
              "오븐        79  15958000   957480\n",
              "전기레인지     56  23800000  1904000\n",
              "정수기       12   5112000   562320\n",
              "얼음정수기     67  24723000  2472300\n",
              "에어프라이어    68  30056000  3005600\n",
              "압력밥솥      41  12382000  1733480\n",
              "세탁기       21   4452000   534240\n",
              "의류건조기     58  19546000  1563680\n",
              "스타일러      87  29580000  4141200\n",
              "로봇청소기     63  27153000  1900710\n",
              "워시타워      39   8307000   664560\n",
              "안마의자      21   7182000   790020\n",
              "가습기       33   5577000   613470\n",
              "스팀청소기     45   4590000   688500\n",
              "공기청정기     28  10472000  1256640\n",
              "에어컨       50   9950000  1293500\n",
              "훌라후프      35   7910000   711900\n",
              "줄넘기       41  13038000   782280\n",
              "스텝퍼       51  22185000  2218500\n",
              "러닝머신      59  26845000  2952950\n",
              "짐볼        93  11811000  1299210\n",
              "덤벨         5    695000    97300\n",
              "로잉머신      19   3591000   215460\n",
              "스쿼트머신     58  19140000  2296800\n",
              "싯업벤치      37  14652000  1904760\n",
              "사이클        3   1266000   113940"
            ]
          },
          "metadata": {},
          "execution_count": 25
        }
      ]
    },
    {
      "cell_type": "code",
      "metadata": {
        "colab": {
          "base_uri": "https://localhost:8080/",
          "height": 456
        },
        "id": "vyW7xiaLQ6WR",
        "outputId": "cdb7754b-9598-444b-f983-6d93d5422969"
      },
      "source": [
        "# df[['매출','이익']].sort_values(by='매출').plot.barh(rot=0, figsize=(10,10))\n",
        "df.plot.bar(figsize=(10,6))\n",
        "# plt.title('제품별 매출/이익', size=15, y=1.02)\n",
        "plt.title('제품별 판매수량/매출/이익', size=15, y=1.02)\n",
        "plt.grid()\n",
        "plt.show()"
      ],
      "execution_count": null,
      "outputs": [
        {
          "output_type": "display_data",
          "data": {
            "image/png": "[encoded data removed]",
            "text/plain": [
              "<Figure size 720x432 with 1 Axes>"
            ]
          },
          "metadata": {
            "needs_background": "light"
          }
        }
      ]
    },
    {
      "cell_type": "markdown",
      "metadata": {
        "id": "210pxTOBRi0X"
      },
      "source": [
        "## 카테고리별 매출 & 이익"
      ]
    },
    {
      "cell_type": "code",
      "metadata": {
        "colab": {
          "base_uri": "https://localhost:8080/",
          "height": 172
        },
        "id": "7dqr3zp7Rlma",
        "outputId": "08378ee9-bcd3-4a8b-8418-3f2d0e35ec8b"
      },
      "source": [
        "results = dm.get_category_data(config)\n",
        "df = pd.DataFrame(results, columns=['카테고리','매출','이익'])\n",
        "df.set_index('카테고리', inplace=True)\n",
        "df['매출'] = df.매출.astype(int)\n",
        "df['이익'] = df.이익.astype(int)\n",
        "# df['이익율'] = df.이익 / df.매출 * 100\n",
        "df"
      ],
      "execution_count": null,
      "outputs": [
        {
          "output_type": "execute_result",
          "data": {
            "text/html": [
              "<div>\n",
              "<style scoped>\n",
              "    .dataframe tbody tr th:only-of-type {\n",
              "        vertical-align: middle;\n",
              "    }\n",
              "\n",
              "    .dataframe tbody tr th {\n",
              "        vertical-align: top;\n",
              "    }\n",
              "\n",
              "    .dataframe thead th {\n",
              "        text-align: right;\n",
              "    }\n",
              "</style>\n",
              "<table border=\"1\" class=\"dataframe\">\n",
              "  <thead>\n",
              "    <tr style=\"text-align: right;\">\n",
              "      <th></th>\n",
              "      <th>매출</th>\n",
              "      <th>이익</th>\n",
              "    </tr>\n",
              "    <tr>\n",
              "      <th>카테고리</th>\n",
              "      <th></th>\n",
              "      <th></th>\n",
              "    </tr>\n",
              "  </thead>\n",
              "  <tbody>\n",
              "    <tr>\n",
              "      <th>주방가전</th>\n",
              "      <td>164040000</td>\n",
              "      <td>16192470</td>\n",
              "    </tr>\n",
              "    <tr>\n",
              "      <th>생활가전</th>\n",
              "      <td>126809000</td>\n",
              "      <td>13446520</td>\n",
              "    </tr>\n",
              "    <tr>\n",
              "      <th>운동기구</th>\n",
              "      <td>121133000</td>\n",
              "      <td>12593100</td>\n",
              "    </tr>\n",
              "  </tbody>\n",
              "</table>\n",
              "</div>"
            ],
            "text/plain": [
              "             매출        이익\n",
              "카테고리                     \n",
              "주방가전  164040000  16192470\n",
              "생활가전  126809000  13446520\n",
              "운동기구  121133000  12593100"
            ]
          },
          "metadata": {},
          "execution_count": 22
        }
      ]
    },
    {
      "cell_type": "code",
      "metadata": {
        "colab": {
          "base_uri": "https://localhost:8080/",
          "height": 438
        },
        "id": "2pdZ40CbRtsW",
        "outputId": "22620955-5c4f-45ab-f236-91fb30ec0aaf"
      },
      "source": [
        "# df[['매출','이익']].plot.barh(rot=0, figsize=(10,4))\n",
        "df.plot.bar(figsize=(10,6))\n",
        "plt.title('카테고리별 매출/이익', size=15, y=1.02)\n",
        "plt.grid()\n",
        "plt.show()"
      ],
      "execution_count": null,
      "outputs": [
        {
          "output_type": "display_data",
          "data": {
            "image/png": "[encoded data removed]",
            "text/plain": [
              "<Figure size 720x432 with 1 Axes>"
            ]
          },
          "metadata": {
            "needs_background": "light"
          }
        }
      ]
    },
    {
      "cell_type": "code",
      "metadata": {
        "id": "_a7ytZauqa8q"
      },
      "source": [
        "# df['이익율'].plot.barh(rot=0, figsize=(10,4))\n",
        "# plt.title('카테고리별 이익율(%)', size=15, y=1.02)\n",
        "# plt.grid()\n",
        "# plt.show()"
      ],
      "execution_count": null,
      "outputs": []
    }
  ]
}