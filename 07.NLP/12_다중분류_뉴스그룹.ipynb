{
  "nbformat": 4,
  "nbformat_minor": 0,
  "metadata": {
    "colab": {
      "name": "12_다중분류_뉴스그룹.ipynb",
      "provenance": [],
      "collapsed_sections": []
    },
    "kernelspec": {
      "name": "python3",
      "display_name": "Python 3"
    },
    "language_info": {
      "name": "python"
    }
  },
  "cells": [
    {
      "cell_type": "markdown",
      "metadata": {
        "id": "uL14uMlo1SYH"
      },
      "source": [
        "# 다중분류 - 20 뉴스그룹"
      ]
    },
    {
      "cell_type": "code",
      "metadata": {
        "id": "kIB540H_1APE"
      },
      "source": [
        "import numpy as np\n",
        "import pandas as pd"
      ],
      "execution_count": 1,
      "outputs": []
    },
    {
      "cell_type": "code",
      "metadata": {
        "id": "A6lP4XmX2DR2"
      },
      "source": [
        "from sklearn.datasets import fetch_20newsgroups\n",
        "news = fetch_20newsgroups(subset='all', random_state=2021)"
      ],
      "execution_count": 2,
      "outputs": []
    },
    {
      "cell_type": "markdown",
      "metadata": {
        "id": "EIJXj0jA27ma"
      },
      "source": [
        "## 데이터 탐색"
      ]
    },
    {
      "cell_type": "code",
      "metadata": {
        "colab": {
          "base_uri": "https://localhost:8080/"
        },
        "id": "VaL4t9uz26ZS",
        "outputId": "dce63289-a0ae-4135-9be3-d44315174ad2"
      },
      "source": [
        "news.keys()"
      ],
      "execution_count": 3,
      "outputs": [
        {
          "output_type": "execute_result",
          "data": {
            "text/plain": [
              "dict_keys(['data', 'filenames', 'target_names', 'target', 'DESCR'])"
            ]
          },
          "metadata": {},
          "execution_count": 3
        }
      ]
    },
    {
      "cell_type": "code",
      "metadata": {
        "colab": {
          "base_uri": "https://localhost:8080/"
        },
        "id": "U9aIe5GL3DDn",
        "outputId": "e875c2d6-68d9-400f-b3ad-73b7647f696d"
      },
      "source": [
        "from sklearn.datasets import load_iris\n",
        "iris = load_iris()\n",
        "iris.keys()"
      ],
      "execution_count": 4,
      "outputs": [
        {
          "output_type": "execute_result",
          "data": {
            "text/plain": [
              "dict_keys(['data', 'target', 'target_names', 'DESCR', 'feature_names', 'filename'])"
            ]
          },
          "metadata": {},
          "execution_count": 4
        }
      ]
    },
    {
      "cell_type": "code",
      "metadata": {
        "colab": {
          "base_uri": "https://localhost:8080/"
        },
        "id": "96ghAONs3MGb",
        "outputId": "19d1f4f1-5a59-4cc4-f959-ab65698d417d"
      },
      "source": [
        "news.target_names"
      ],
      "execution_count": 5,
      "outputs": [
        {
          "output_type": "execute_result",
          "data": {
            "text/plain": [
              "['alt.atheism',\n",
              " 'comp.graphics',\n",
              " 'comp.os.ms-windows.misc',\n",
              " 'comp.sys.ibm.pc.hardware',\n",
              " 'comp.sys.mac.hardware',\n",
              " 'comp.windows.x',\n",
              " 'misc.forsale',\n",
              " 'rec.autos',\n",
              " 'rec.motorcycles',\n",
              " 'rec.sport.baseball',\n",
              " 'rec.sport.hockey',\n",
              " 'sci.crypt',\n",
              " 'sci.electronics',\n",
              " 'sci.med',\n",
              " 'sci.space',\n",
              " 'soc.religion.christian',\n",
              " 'talk.politics.guns',\n",
              " 'talk.politics.mideast',\n",
              " 'talk.politics.misc',\n",
              " 'talk.religion.misc']"
            ]
          },
          "metadata": {},
          "execution_count": 5
        }
      ]
    },
    {
      "cell_type": "code",
      "metadata": {
        "colab": {
          "base_uri": "https://localhost:8080/"
        },
        "id": "LLgeCz704FUo",
        "outputId": "922ad6b2-acb3-4d6c-bb38-7085dfa99c5e"
      },
      "source": [
        "pd.Series(news.target).value_counts().sort_index()"
      ],
      "execution_count": 6,
      "outputs": [
        {
          "output_type": "execute_result",
          "data": {
            "text/plain": [
              "0     799\n",
              "1     973\n",
              "2     985\n",
              "3     982\n",
              "4     963\n",
              "5     988\n",
              "6     975\n",
              "7     990\n",
              "8     996\n",
              "9     994\n",
              "10    999\n",
              "11    991\n",
              "12    984\n",
              "13    990\n",
              "14    987\n",
              "15    997\n",
              "16    910\n",
              "17    940\n",
              "18    775\n",
              "19    628\n",
              "dtype: int64"
            ]
          },
          "metadata": {},
          "execution_count": 6
        }
      ]
    },
    {
      "cell_type": "code",
      "metadata": {
        "colab": {
          "base_uri": "https://localhost:8080/"
        },
        "id": "ISc-MM1Z4keL",
        "outputId": "84a8f6de-e939-4614-d811-432e499c0dbc"
      },
      "source": [
        "len(news.data)"
      ],
      "execution_count": 7,
      "outputs": [
        {
          "output_type": "execute_result",
          "data": {
            "text/plain": [
              "18846"
            ]
          },
          "metadata": {},
          "execution_count": 7
        }
      ]
    },
    {
      "cell_type": "code",
      "metadata": {
        "colab": {
          "base_uri": "https://localhost:8080/"
        },
        "id": "caE24jFv5HKt",
        "outputId": "8c30d39b-c039-4024-c141-30a725945e98"
      },
      "source": [
        "print(news.data[0])"
      ],
      "execution_count": 8,
      "outputs": [
        {
          "output_type": "stream",
          "name": "stdout",
          "text": [
            "From: dagibbs@quantum.qnx.com (David Gibbs)\n",
            "Subject: Re: Countersteering sans Hands\n",
            "Organization: QNX Software Systems, Ltd.\n",
            "Lines: 22\n",
            "\n",
            "In article <1993Apr20.203344.8417@cs.cornell.edu> karr@cs.cornell.edu (David Karr) writes:\n",
            ">In article <Clarke.6.735328328@bdrc.bd.com> Clarke@bdrc.bd.com (Richard Clarke) writes:\n",
            ">>So how do I steer when my hands aren't on the bars? (Open Budweiser in left \n",
            ">>hand, Camel cigarette in the right, no feet allowed.) \n",
            ">\n",
            ">>If I lean, and the \n",
            ">>bike turns, am I countersteering?\n",
            ">\n",
            ">No, the bars would turn only *toward* the direction of turn in\n",
            ">no-hands steering.\n",
            "\n",
            "Just in case the original poster was looking for a serious answer,\n",
            "I'll supply one.\n",
            "\n",
            "Yes, even when steering no hands you do something quite similar\n",
            "to countersteering.  Basically to turn left, you to a quick wiggle\n",
            "of the bike to the right first, causing a counteracting lean to\n",
            "occur to the left.  It is a lot more difficult to do on a motorcycle\n",
            "than a bicycle though, because of the extra weight.  (Ok, so my\n",
            "motorcycle is heavy.  Maybe yous isn't.)\n",
            "\n",
            "-David\n",
            "\n"
          ]
        }
      ]
    },
    {
      "cell_type": "markdown",
      "metadata": {
        "id": "4azlOHvl5sAq"
      },
      "source": [
        "## 훈련용/테스트용 데이터 추출"
      ]
    },
    {
      "cell_type": "code",
      "metadata": {
        "colab": {
          "base_uri": "https://localhost:8080/"
        },
        "id": "v_7A2_Ym5hgF",
        "outputId": "4af1c974-7216-4a98-ee58-a0c4ef8fd14d"
      },
      "source": [
        "train_news = fetch_20newsgroups(\n",
        "    subset='train', random_state=2021,\n",
        "    remove=('headers', 'footers', 'quotes')\n",
        ")\n",
        "len(train_news.data)"
      ],
      "execution_count": 9,
      "outputs": [
        {
          "output_type": "execute_result",
          "data": {
            "text/plain": [
              "11314"
            ]
          },
          "metadata": {},
          "execution_count": 9
        }
      ]
    },
    {
      "cell_type": "code",
      "metadata": {
        "colab": {
          "base_uri": "https://localhost:8080/"
        },
        "id": "NQDSOkzd6QT8",
        "outputId": "c8302dd2-efbe-4f55-82f4-1d7dfca32369"
      },
      "source": [
        "test_news = fetch_20newsgroups(\n",
        "    subset='test', random_state=2021,\n",
        "    remove=('headers', 'footers', 'quotes')\n",
        ")\n",
        "len(test_news.data)"
      ],
      "execution_count": 10,
      "outputs": [
        {
          "output_type": "execute_result",
          "data": {
            "text/plain": [
              "7532"
            ]
          },
          "metadata": {},
          "execution_count": 10
        }
      ]
    },
    {
      "cell_type": "code",
      "metadata": {
        "colab": {
          "base_uri": "https://localhost:8080/"
        },
        "id": "yClz5xwE6aTA",
        "outputId": "cc97f47b-2ee2-462b-dfb2-45bba217710a"
      },
      "source": [
        "print(train_news.data)"
      ],
      "execution_count": 11,
      "outputs": [
        {
          "output_type": "stream",
          "name": "stderr",
          "text": [
            "IOPub data rate exceeded.\n",
            "The notebook server will temporarily stop sending output\n",
            "to the client in order to avoid crashing it.\n",
            "To change this limit, set the config variable\n",
            "`--NotebookApp.iopub_data_rate_limit`.\n",
            "\n",
            "Current values:\n",
            "NotebookApp.iopub_data_rate_limit=1000000.0 (bytes/sec)\n",
            "NotebookApp.rate_limit_window=3.0 (secs)\n",
            "\n"
          ]
        }
      ]
    },
    {
      "cell_type": "markdown",
      "metadata": {
        "id": "utmDKQXa6p1E"
      },
      "source": [
        "## 텍스트 전처리"
      ]
    },
    {
      "cell_type": "code",
      "metadata": {
        "id": "c1YV6n_c6l0n"
      },
      "source": [
        "train_df = pd.DataFrame({'article':train_news.data})\n",
        "test_df = pd.DataFrame({'article':test_news.data})"
      ],
      "execution_count": 12,
      "outputs": []
    },
    {
      "cell_type": "markdown",
      "metadata": {
        "id": "ImhVFu_Y7Uxm"
      },
      "source": [
        "- Train data set"
      ]
    },
    {
      "cell_type": "code",
      "metadata": {
        "id": "pI7se4DW7SHv"
      },
      "source": [
        "# 특수문자 제거\n",
        "train_df['article'] = train_df.article.str.replace('[^A-Za-z]',' ')"
      ],
      "execution_count": 13,
      "outputs": []
    },
    {
      "cell_type": "code",
      "metadata": {
        "id": "lFbpY-xk8wuH"
      },
      "source": [
        "# 길이가 3이하인 단어 제거\n",
        "train_df['article'] = train_df.article.apply(lambda x: ' '.join([w for w in x.split() if len(w)>3]))"
      ],
      "execution_count": 14,
      "outputs": []
    },
    {
      "cell_type": "code",
      "metadata": {
        "id": "7su78UCuCd5B"
      },
      "source": [
        "# 소문자로 변환\n",
        "train_df['article'] = train_df.article.apply(lambda x: x.lower())"
      ],
      "execution_count": 15,
      "outputs": []
    },
    {
      "cell_type": "markdown",
      "metadata": {
        "id": "NOSld8eSEBB8"
      },
      "source": [
        "- Test data set"
      ]
    },
    {
      "cell_type": "code",
      "metadata": {
        "id": "IWlqYk2jDJXM"
      },
      "source": [
        "# 특수문자 제거\n",
        "test_df['article'] = test_df.article.str.replace('[^A-Za-z]',' ')\n",
        "# 소문자로 변환하고 길이가 3이하인 단어 제거\n",
        "test_df['article'] = test_df.article.apply(lambda x: ' '.join([w.lower() for w in x.split() if len(w)>3]))"
      ],
      "execution_count": 16,
      "outputs": []
    },
    {
      "cell_type": "markdown",
      "metadata": {
        "id": "3iiTNNH1EOS4"
      },
      "source": [
        "## 텍스트 변환"
      ]
    },
    {
      "cell_type": "code",
      "metadata": {
        "id": "68HbHmGTDbpd"
      },
      "source": [
        "from sklearn.feature_extraction.text import TfidfVectorizer"
      ],
      "execution_count": 17,
      "outputs": []
    },
    {
      "cell_type": "code",
      "metadata": {
        "colab": {
          "base_uri": "https://localhost:8080/"
        },
        "id": "MYeGkAQ7EdjI",
        "outputId": "f7a8f5b0-18dd-4c55-da26-36de89f4df62"
      },
      "source": [
        "tvect = TfidfVectorizer(stop_words='english')\n",
        "tvect.fit(train_df.article)"
      ],
      "execution_count": 18,
      "outputs": [
        {
          "output_type": "execute_result",
          "data": {
            "text/plain": [
              "TfidfVectorizer(analyzer='word', binary=False, decode_error='strict',\n",
              "                dtype=<class 'numpy.float64'>, encoding='utf-8',\n",
              "                input='content', lowercase=True, max_df=1.0, max_features=None,\n",
              "                min_df=1, ngram_range=(1, 1), norm='l2', preprocessor=None,\n",
              "                smooth_idf=True, stop_words='english', strip_accents=None,\n",
              "                sublinear_tf=False, token_pattern='(?u)\\\\b\\\\w\\\\w+\\\\b',\n",
              "                tokenizer=None, use_idf=True, vocabulary=None)"
            ]
          },
          "metadata": {},
          "execution_count": 18
        }
      ]
    },
    {
      "cell_type": "code",
      "metadata": {
        "colab": {
          "base_uri": "https://localhost:8080/"
        },
        "id": "qZ-hsPSvE2mw",
        "outputId": "2f48fbde-a767-4fd8-dbc3-32b8576cbf02"
      },
      "source": [
        "X_train = tvect.transform(train_df.article)\n",
        "X_test = tvect.transform(test_df.article)\n",
        "X_train.shape, X_test.shape"
      ],
      "execution_count": 19,
      "outputs": [
        {
          "output_type": "execute_result",
          "data": {
            "text/plain": [
              "((11314, 64133), (7532, 64133))"
            ]
          },
          "metadata": {},
          "execution_count": 19
        }
      ]
    },
    {
      "cell_type": "code",
      "metadata": {
        "id": "oRI4spuqFG9T"
      },
      "source": [
        "y_train = train_news.target\n",
        "y_test = test_news.target"
      ],
      "execution_count": 20,
      "outputs": []
    },
    {
      "cell_type": "markdown",
      "metadata": {
        "id": "xZiPdltHFk0G"
      },
      "source": [
        "## 훈련 / 예측 / 평가"
      ]
    },
    {
      "cell_type": "code",
      "metadata": {
        "colab": {
          "base_uri": "https://localhost:8080/"
        },
        "id": "iDslWwXHFXWI",
        "outputId": "a922824b-5d28-4a98-905b-3dbe2f6fcbca"
      },
      "source": [
        "# Support Vector Machine의 Classifier 사용\n",
        "from sklearn.svm import SVC\n",
        "svc = SVC()\n",
        "svc.fit(X_train, y_train)"
      ],
      "execution_count": 21,
      "outputs": [
        {
          "output_type": "execute_result",
          "data": {
            "text/plain": [
              "SVC(C=1.0, break_ties=False, cache_size=200, class_weight=None, coef0=0.0,\n",
              "    decision_function_shape='ovr', degree=3, gamma='scale', kernel='rbf',\n",
              "    max_iter=-1, probability=False, random_state=None, shrinking=True,\n",
              "    tol=0.001, verbose=False)"
            ]
          },
          "metadata": {},
          "execution_count": 21
        }
      ]
    },
    {
      "cell_type": "code",
      "metadata": {
        "id": "jYM0eHXmF6_O"
      },
      "source": [
        "pred = svc.predict(X_test)"
      ],
      "execution_count": 22,
      "outputs": []
    },
    {
      "cell_type": "code",
      "metadata": {
        "colab": {
          "base_uri": "https://localhost:8080/"
        },
        "id": "oA7wA34yGd1_",
        "outputId": "178ce2ab-992d-4414-b3d7-c7f4a3f04403"
      },
      "source": [
        "from sklearn.metrics import accuracy_score\n",
        "accuracy_score(y_test, pred)"
      ],
      "execution_count": 23,
      "outputs": [
        {
          "output_type": "execute_result",
          "data": {
            "text/plain": [
              "0.6488316516197558"
            ]
          },
          "metadata": {},
          "execution_count": 23
        }
      ]
    }
  ]
}